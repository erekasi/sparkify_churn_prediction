{
 "cells": [
  {
   "cell_type": "markdown",
   "metadata": {},
   "source": [
    "# Sparkify Project Workspace\n",
    "This workspace contains a tiny subset (128MB) of the full dataset available (12GB). Feel free to use this workspace to build your project, or to explore a smaller subset with Spark before deploying your cluster on the cloud. Instructions for setting up your Spark cluster is included in the last lesson of the Extracurricular Spark Course content.\n",
    "\n",
    "You can follow the steps below to guide your data analysis and model building portion of this project."
   ]
  },
  {
   "cell_type": "code",
   "execution_count": 1,
   "metadata": {},
   "outputs": [],
   "source": [
    "# import libraries\n",
    "import pyspark\n",
    "from pyspark import SparkContext, SparkConf\n",
    "from pyspark.sql import SparkSession\n",
    "import pyspark.sql.functions as F\n",
    "from pyspark.sql.functions import *\n",
    "from pyspark.sql.types import *\n",
    "from pyspark.sql import Window\n",
    "\n",
    "from pyspark.ml import Pipeline\n",
    "from pyspark.ml.feature import MinMaxScaler, StandardScaler, VectorAssembler \n",
    "from pyspark.ml.classification import LogisticRegression, RandomForestClassifier, GBTClassifier\n",
    "from pyspark.ml.evaluation import BinaryClassificationEvaluator, MulticlassClassificationEvaluator\n",
    "from pyspark.ml.tuning import ParamGridBuilder, CrossValidator\n",
    "\n",
    "\n",
    "import time\n",
    "from datetime import datetime\n",
    "import builtins as p\n",
    "\n",
    "import numpy as np\n",
    "import pandas as pd\n",
    "import matplotlib.pyplot as plt\n",
    "%matplotlib inline"
   ]
  },
  {
   "cell_type": "markdown",
   "metadata": {},
   "source": [
    "## -- 1 -- Set up Spark environment"
   ]
  },
  {
   "cell_type": "code",
   "execution_count": 2,
   "metadata": {},
   "outputs": [],
   "source": [
    "# create a Spark session\n",
    "spark = SparkSession \\\n",
    "    .builder \\\n",
    "    .appName(\"My Sparkify App\") \\\n",
    "    .getOrCreate()"
   ]
  },
  {
   "cell_type": "code",
   "execution_count": 3,
   "metadata": {},
   "outputs": [
    {
     "data": {
      "text/plain": [
       "[('spark.driver.port', '38635'),\n",
       " ('spark.rdd.compress', 'True'),\n",
       " ('spark.serializer.objectStreamReset', '100'),\n",
       " ('spark.master', 'local[*]'),\n",
       " ('spark.executor.id', 'driver'),\n",
       " ('spark.submit.deployMode', 'client'),\n",
       " ('spark.app.name', 'My Sparkify App'),\n",
       " ('spark.driver.host', '6cb9c5f92ca5'),\n",
       " ('spark.ui.showConsoleProgress', 'true'),\n",
       " ('spark.app.id', 'local-1631808256439')]"
      ]
     },
     "execution_count": 3,
     "metadata": {},
     "output_type": "execute_result"
    }
   ],
   "source": [
    "# check some information on the SparkContext\n",
    "spark.sparkContext.getConf().getAll()"
   ]
  },
  {
   "cell_type": "markdown",
   "metadata": {},
   "source": [
    "#### Note:\n",
    "The above output confirms that the current SparkSession can be run in the local mode of SparkContext."
   ]
  },
  {
   "cell_type": "code",
   "execution_count": 4,
   "metadata": {
    "scrolled": true
   },
   "outputs": [
    {
     "data": {
      "text/html": [
       "\n",
       "            <div>\n",
       "                <p><b>SparkSession - in-memory</b></p>\n",
       "                \n",
       "        <div>\n",
       "            <p><b>SparkContext</b></p>\n",
       "\n",
       "            <p><a href=\"http://6cb9c5f92ca5:4040\">Spark UI</a></p>\n",
       "\n",
       "            <dl>\n",
       "              <dt>Version</dt>\n",
       "                <dd><code>v2.4.3</code></dd>\n",
       "              <dt>Master</dt>\n",
       "                <dd><code>local[*]</code></dd>\n",
       "              <dt>AppName</dt>\n",
       "                <dd><code>My Sparkify App</code></dd>\n",
       "            </dl>\n",
       "        </div>\n",
       "        \n",
       "            </div>\n",
       "        "
      ],
      "text/plain": [
       "<pyspark.sql.session.SparkSession at 0x7f8ae0c47400>"
      ]
     },
     "execution_count": 4,
     "metadata": {},
     "output_type": "execute_result"
    }
   ],
   "source": [
    "# check basic information on the current SparkContext and SparkSession\n",
    "spark"
   ]
  },
  {
   "cell_type": "markdown",
   "metadata": {},
   "source": [
    "## -- 2 -- Load and Clean Dataset\n",
    "In this workspace, the mini-dataset file is `mini_sparkify_event_data.json`. Load and clean the dataset, checking for invalid or missing data - for example, records without userids or sessionids. "
   ]
  },
  {
   "cell_type": "markdown",
   "metadata": {},
   "source": [
    "### 2.1) Load the data"
   ]
  },
  {
   "cell_type": "code",
   "execution_count": 5,
   "metadata": {},
   "outputs": [],
   "source": [
    "# load data\n",
    "path = \"mini_sparkify_event_data.json\"\n",
    "sparkify = spark.read.json(path)"
   ]
  },
  {
   "cell_type": "code",
   "execution_count": 6,
   "metadata": {},
   "outputs": [
    {
     "name": "stdout",
     "output_type": "stream",
     "text": [
      "No. of rows: 286500 , No. of columns: 18\n"
     ]
    }
   ],
   "source": [
    "# check the size of the dataset\n",
    "print(\n",
    "    \"No. of rows:\", sparkify.count(), \", No. of columns:\", len(sparkify.columns))"
   ]
  },
  {
   "cell_type": "code",
   "execution_count": 7,
   "metadata": {
    "scrolled": true
   },
   "outputs": [
    {
     "name": "stdout",
     "output_type": "stream",
     "text": [
      "root\n",
      " |-- artist: string (nullable = true)\n",
      " |-- auth: string (nullable = true)\n",
      " |-- firstName: string (nullable = true)\n",
      " |-- gender: string (nullable = true)\n",
      " |-- itemInSession: long (nullable = true)\n",
      " |-- lastName: string (nullable = true)\n",
      " |-- length: double (nullable = true)\n",
      " |-- level: string (nullable = true)\n",
      " |-- location: string (nullable = true)\n",
      " |-- method: string (nullable = true)\n",
      " |-- page: string (nullable = true)\n",
      " |-- registration: long (nullable = true)\n",
      " |-- sessionId: long (nullable = true)\n",
      " |-- song: string (nullable = true)\n",
      " |-- status: long (nullable = true)\n",
      " |-- ts: long (nullable = true)\n",
      " |-- userAgent: string (nullable = true)\n",
      " |-- userId: string (nullable = true)\n",
      "\n"
     ]
    }
   ],
   "source": [
    "# check feature names and data types in the dataset\n",
    "sparkify.printSchema()\n",
    "\n",
    "# alternatively: sparkify.describe()"
   ]
  },
  {
   "cell_type": "markdown",
   "metadata": {},
   "source": [
    "##### Initial observations:\n",
    "- There are 286,500 records and 18 features in this dataset.\n",
    "- `gender` could be turned into a 0-1 dummy from a string variable, for easier analysis.\n",
    "- `firstName` and `LastName` can only be relevant together.\n",
    "- If there is no missing data `userID` will be more useful for identifying users than the combination of `firstName` and `lastName` as there could be users living with the same name but using different `userID`s. However, one cannot exclude the opportunity that a real person uses Sparkify with more than one account."
   ]
  },
  {
   "cell_type": "code",
   "execution_count": 8,
   "metadata": {},
   "outputs": [
    {
     "data": {
      "text/plain": [
       "[Row(artist='Martha Tilston', auth='Logged In', firstName='Colin', gender='M', itemInSession=50, lastName='Freeman', length=277.89016, level='paid', location='Bakersfield, CA', method='PUT', page='NextSong', registration=1538173362000, sessionId=29, song='Rockpools', status=200, ts=1538352117000, userAgent='Mozilla/5.0 (Windows NT 6.1; WOW64; rv:31.0) Gecko/20100101 Firefox/31.0', userId='30')]"
      ]
     },
     "execution_count": 8,
     "metadata": {},
     "output_type": "execute_result"
    }
   ],
   "source": [
    "# check the first record in the dataset\n",
    "sparkify.take(1)\n",
    "\n",
    "# alternatively: sparkify.show(n=1)\n",
    "# alternatively: sparkify.head()"
   ]
  },
  {
   "cell_type": "code",
   "execution_count": 9,
   "metadata": {
    "scrolled": false
   },
   "outputs": [
    {
     "name": "stdout",
     "output_type": "stream",
     "text": [
      "+-----+\n",
      "|level|\n",
      "+-----+\n",
      "| paid|\n",
      "| free|\n",
      "| paid|\n",
      "+-----+\n",
      "only showing top 3 rows\n",
      "\n"
     ]
    }
   ],
   "source": [
    "# check some values of an attribute\n",
    "sparkify.select(\"level\").show(3)"
   ]
  },
  {
   "cell_type": "markdown",
   "metadata": {},
   "source": [
    "### 2.2) Check the features"
   ]
  },
  {
   "cell_type": "markdown",
   "metadata": {},
   "source": [
    "##### Next steps: get a general understanding of features\n",
    "1. Check the number of unique values per features to assess whether e.g.:\n",
    "    - numeric type data are really of a numeric nature and not some identifiers\n",
    "    - string types of data are categorical variables or more diverse\n",
    "2. Check the distribution of numeric data\n",
    "3. Check all distinct values of categorical string data\n",
    "4. Check some sample values of more diverse string data"
   ]
  },
  {
   "cell_type": "markdown",
   "metadata": {},
   "source": [
    "#### 2.2.1.) Unique values per feature"
   ]
  },
  {
   "cell_type": "code",
   "execution_count": 10,
   "metadata": {},
   "outputs": [
    {
     "name": "stdout",
     "output_type": "stream",
     "text": [
      "1 .) artist\n",
      "17656\n",
      "2 .) auth\n",
      "4\n",
      "3 .) firstName\n",
      "190\n",
      "4 .) gender\n",
      "3\n",
      "5 .) itemInSession\n",
      "1322\n",
      "6 .) lastName\n",
      "174\n",
      "7 .) length\n",
      "14866\n",
      "8 .) level\n",
      "2\n",
      "9 .) location\n",
      "115\n",
      "10 .) method\n",
      "2\n",
      "11 .) page\n",
      "22\n",
      "12 .) registration\n",
      "226\n",
      "13 .) sessionId\n",
      "2354\n",
      "14 .) song\n",
      "58481\n",
      "15 .) status\n",
      "3\n",
      "16 .) ts\n",
      "277447\n",
      "17 .) userAgent\n",
      "57\n",
      "18 .) userId\n",
      "226\n"
     ]
    }
   ],
   "source": [
    "# check the number of unique values in each attribute\n",
    "\n",
    "\n",
    "i=1\n",
    "for x in sparkify.columns:\n",
    "    print(i, \".)\", x)\n",
    "    print(sparkify.select(x).distinct().count())\n",
    "    i+=1"
   ]
  },
  {
   "cell_type": "markdown",
   "metadata": {},
   "source": [
    "##### Comments:\n",
    "- `registraton` and `userId` might be created together, assuming that a new user selects a `userId` at registration and the registration event has a unique identifier number. There are 226 identifiable registered users in the dataset. (Indeed, later evaluation clarifies that `registration` is a de facto timestamp, probably marking the date and time of registration.)\n",
    "- The following features might be categorical variables: `auth`, `gender`, `level`, `method`, `page`, `status`."
   ]
  },
  {
   "cell_type": "code",
   "execution_count": 11,
   "metadata": {
    "scrolled": true
   },
   "outputs": [],
   "source": [
    "# create lists of features\n",
    "numeric_columns = list(set([c.name for c in sparkify.schema.fields if isinstance(c.dataType, LongType)\n",
    "    or isinstance(c.dataType, DoubleType)]) - set([\"status\"]))\n",
    "string_columns = [c.name for c in sparkify.schema.fields if isinstance(c.dataType, StringType)]\n",
    "categorical_columns = [\"auth\", \"gender\", \"level\", \"method\", \"page\", \"status\"]\n",
    "other_columns = list(set(sparkify.columns) - set(numeric_columns) - set(categorical_columns))"
   ]
  },
  {
   "cell_type": "code",
   "execution_count": 12,
   "metadata": {},
   "outputs": [
    {
     "name": "stdout",
     "output_type": "stream",
     "text": [
      "\n",
      " Numeric columns: ['registration', 'sessionId', 'itemInSession', 'ts', 'length'],\n",
      " Categorical columns: ['auth', 'gender', 'level', 'method', 'page', 'status'], \n",
      " Other columns: ['song', 'firstName', 'userAgent', 'location', 'lastName', 'userId', 'artist'].\n"
     ]
    }
   ],
   "source": [
    "print(\"\\n Numeric columns: {},\\n Categorical columns: {}, \\n Other columns: {}.\".format(numeric_columns, categorical_columns, other_columns))"
   ]
  },
  {
   "cell_type": "markdown",
   "metadata": {},
   "source": [
    "##### Note:\n",
    "Type of the following columns will require adjustment:\n",
    "- `sessionId` should be of StringType\n",
    "- `ts` should be of TimestampType\n",
    "- `gender` should be a dummy of a numeric type, e.g. ShortType\n",
    "- `status` should change to StringType."
   ]
  },
  {
   "cell_type": "markdown",
   "metadata": {},
   "source": [
    "#### 2.2.2.) Numeric data"
   ]
  },
  {
   "cell_type": "code",
   "execution_count": 13,
   "metadata": {},
   "outputs": [
    {
     "name": "stdout",
     "output_type": "stream",
     "text": [
      "+-------+--------------------+-----------------+------------------+--------------------+-----------------+\n",
      "|summary|        registration|        sessionId|     itemInSession|                  ts|           length|\n",
      "+-------+--------------------+-----------------+------------------+--------------------+-----------------+\n",
      "|  count|              278154|           286500|            286500|              286500|           228108|\n",
      "|   mean|1.535358834084427...|1041.526554973822|114.41421291448516|1.540956889810483...|249.1171819778458|\n",
      "| stddev| 3.291321616327586E9|726.7762634630741|129.76726201140994|1.5075439608226302E9|99.23517921058361|\n",
      "|    min|       1521380675000|                1|                 0|       1538352117000|          0.78322|\n",
      "|    max|       1543247354000|             2474|              1321|       1543799476000|       3024.66567|\n",
      "+-------+--------------------+-----------------+------------------+--------------------+-----------------+\n",
      "\n"
     ]
    }
   ],
   "source": [
    "# check the distribution of numeric data\n",
    "sparkify.select(numeric_columns).describe().show()"
   ]
  },
  {
   "cell_type": "markdown",
   "metadata": {},
   "source": [
    "##### Comment:\n",
    "There are maximum 2,474 sessions, based on `sessionId` values, assuming that distinct values are assigned to distinct sessions."
   ]
  },
  {
   "cell_type": "markdown",
   "metadata": {},
   "source": [
    "#### 2.2.3.) Categorical data"
   ]
  },
  {
   "cell_type": "code",
   "execution_count": 14,
   "metadata": {},
   "outputs": [
    {
     "name": "stdout",
     "output_type": "stream",
     "text": [
      "1\n",
      "+----------+\n",
      "|      auth|\n",
      "+----------+\n",
      "|Logged Out|\n",
      "| Cancelled|\n",
      "|     Guest|\n",
      "| Logged In|\n",
      "+----------+\n",
      "\n",
      "2\n",
      "+------+\n",
      "|gender|\n",
      "+------+\n",
      "|     F|\n",
      "|  null|\n",
      "|     M|\n",
      "+------+\n",
      "\n",
      "3\n",
      "+-----+\n",
      "|level|\n",
      "+-----+\n",
      "| free|\n",
      "| paid|\n",
      "+-----+\n",
      "\n",
      "4\n",
      "+--------------------+\n",
      "|                page|\n",
      "+--------------------+\n",
      "|              Cancel|\n",
      "|    Submit Downgrade|\n",
      "|         Thumbs Down|\n",
      "|                Home|\n",
      "|           Downgrade|\n",
      "|         Roll Advert|\n",
      "|              Logout|\n",
      "|       Save Settings|\n",
      "|Cancellation Conf...|\n",
      "|               About|\n",
      "| Submit Registration|\n",
      "|            Settings|\n",
      "|               Login|\n",
      "|            Register|\n",
      "|     Add to Playlist|\n",
      "|          Add Friend|\n",
      "|            NextSong|\n",
      "|           Thumbs Up|\n",
      "|                Help|\n",
      "|             Upgrade|\n",
      "|               Error|\n",
      "|      Submit Upgrade|\n",
      "+--------------------+\n",
      "\n",
      "5\n",
      "+------+\n",
      "|status|\n",
      "+------+\n",
      "|   307|\n",
      "|   404|\n",
      "|   200|\n",
      "+------+\n",
      "\n"
     ]
    }
   ],
   "source": [
    "# check distinct values in the seemingly categorical variables\n",
    "cat_var_list = [\"auth\", \"gender\", \"level\", \"page\", \"status\"]\n",
    "\n",
    "i=1\n",
    "for x in cat_var_list:\n",
    "    print(i)\n",
    "    sparkify.select(x).distinct().show(n=22) #n=22 selected to show all unique values\n",
    "    i+=1"
   ]
  },
  {
   "cell_type": "markdown",
   "metadata": {},
   "source": [
    "#### 2.2.4.) Other data"
   ]
  },
  {
   "cell_type": "code",
   "execution_count": 15,
   "metadata": {},
   "outputs": [
    {
     "data": {
      "text/plain": [
       "[Row(userAgent='Mozilla/5.0 (Windows NT 6.1; WOW64; rv:31.0) Gecko/20100101 Firefox/31.0'),\n",
       " Row(userAgent='\"Mozilla/5.0 (Windows NT 6.1; WOW64) AppleWebKit/537.36 (KHTML, like Gecko) Chrome/37.0.2062.103 Safari/537.36\"'),\n",
       " Row(userAgent='Mozilla/5.0 (Windows NT 6.1; WOW64; rv:31.0) Gecko/20100101 Firefox/31.0'),\n",
       " Row(userAgent='\"Mozilla/5.0 (Windows NT 6.1; WOW64) AppleWebKit/537.36 (KHTML, like Gecko) Chrome/37.0.2062.103 Safari/537.36\"'),\n",
       " Row(userAgent='Mozilla/5.0 (Windows NT 6.1; WOW64; rv:31.0) Gecko/20100101 Firefox/31.0')]"
      ]
     },
     "execution_count": 15,
     "metadata": {},
     "output_type": "execute_result"
    }
   ],
   "source": [
    "# check sample values in the userAgent column\n",
    "sparkify.select(\"userAgent\").take(5)"
   ]
  },
  {
   "cell_type": "markdown",
   "metadata": {},
   "source": [
    "##### Comment:\n",
    "`userAgent` will require significant feature engineering to become useful."
   ]
  },
  {
   "cell_type": "markdown",
   "metadata": {},
   "source": [
    "### 2.3) Duplicate records"
   ]
  },
  {
   "cell_type": "code",
   "execution_count": 16,
   "metadata": {},
   "outputs": [
    {
     "name": "stdout",
     "output_type": "stream",
     "text": [
      "\n",
      " No. of rows in original dataset: 286500. \n",
      " No. of rows in dataset cleaned from duplications: 286500.\n"
     ]
    }
   ],
   "source": [
    "# drop potentially duplicate records\n",
    "# source: https://towardsdatascience.com/distinct-vs-dropduplicates-in-spark-3e28af1f793c\n",
    "sparkify_distinct = sparkify.distinct()\n",
    "\n",
    "# check whether there were any duplicate records\n",
    "print(\"\\n No. of rows in original dataset: {}. \\n No. of rows in dataset cleaned from duplications: {}.\".format(sparkify.count(), sparkify_distinct.count()))"
   ]
  },
  {
   "cell_type": "markdown",
   "metadata": {},
   "source": [
    "##### Conclusion:\n",
    "There were no completely duplicate records in the dataset."
   ]
  },
  {
   "cell_type": "markdown",
   "metadata": {},
   "source": [
    "### 2.4) Handle null/nan/blank values"
   ]
  },
  {
   "cell_type": "markdown",
   "metadata": {},
   "source": [
    "#### 2.4.1) Null / nan values"
   ]
  },
  {
   "cell_type": "code",
   "execution_count": 17,
   "metadata": {},
   "outputs": [
    {
     "name": "stdout",
     "output_type": "stream",
     "text": [
      "+------+----+---------+------+-------------+--------+------+-----+--------+------+----+------------+---------+-----+------+---+---------+------+\n",
      "|artist|auth|firstName|gender|itemInSession|lastName|length|level|location|method|page|registration|sessionId| song|status| ts|userAgent|userId|\n",
      "+------+----+---------+------+-------------+--------+------+-----+--------+------+----+------------+---------+-----+------+---+---------+------+\n",
      "| 58392|   0|     8346|  8346|            0|    8346| 58392|    0|    8346|     0|   0|        8346|        0|58392|     0|  0|     8346|     0|\n",
      "+------+----+---------+------+-------------+--------+------+-----+--------+------+----+------------+---------+-----+------+---+---------+------+\n",
      "\n"
     ]
    }
   ],
   "source": [
    "# count null values per feature\n",
    "# source: https://stackoverflow.com/questions/44413132/count-the-number-of-missing-values-in-a-dataframe-spark/44413456\n",
    "\n",
    "sparkify_distinct.select(*(sum(col(c).isNull().cast(\"int\"))\\\n",
    "                           .alias(c) for c in sparkify_distinct.columns)).show()"
   ]
  },
  {
   "cell_type": "code",
   "execution_count": 18,
   "metadata": {},
   "outputs": [
    {
     "name": "stdout",
     "output_type": "stream",
     "text": [
      "+------+----+---------+------+-------------+--------+------+-----+--------+------+----+------------+---------+----+------+---+---------+------+\n",
      "|artist|auth|firstName|gender|itemInSession|lastName|length|level|location|method|page|registration|sessionId|song|status| ts|userAgent|userId|\n",
      "+------+----+---------+------+-------------+--------+------+-----+--------+------+----+------------+---------+----+------+---+---------+------+\n",
      "|     0|   0|        0|     0|            0|       0|     0|    0|       0|     0|   0|           0|        0|   0|     0|  0|        0|     0|\n",
      "+------+----+---------+------+-------------+--------+------+-----+--------+------+----+------------+---------+----+------+---+---------+------+\n",
      "\n"
     ]
    }
   ],
   "source": [
    "# count Nan or missing values per feature\n",
    "sparkify_distinct.select([count(when(isnan(c), c)).alias(c) for c in sparkify_distinct.columns]).show()"
   ]
  },
  {
   "cell_type": "code",
   "execution_count": 19,
   "metadata": {},
   "outputs": [
    {
     "name": "stdout",
     "output_type": "stream",
     "text": [
      "+------+----+---------+------+-------------+--------+------+-----+--------+------+----+------------+---------+-----+------+---+---------+------+\n",
      "|artist|auth|firstName|gender|itemInSession|lastName|length|level|location|method|page|registration|sessionId| song|status| ts|userAgent|userId|\n",
      "+------+----+---------+------+-------------+--------+------+-----+--------+------+----+------------+---------+-----+------+---+---------+------+\n",
      "| 58392|   0|     8346|  8346|            0|    8346| 58392|    0|    8346|     0|   0|        8346|        0|58392|     0|  0|     8346|     0|\n",
      "+------+----+---------+------+-------------+--------+------+-----+--------+------+----+------------+---------+-----+------+---+---------+------+\n",
      "\n"
     ]
    }
   ],
   "source": [
    "# check the number of nan and null values\n",
    "sparkify_distinct.select([count(when(isnan(c) | col(c).isNull(), c))\\\n",
    "                          .alias(c) for c in sparkify_distinct.columns]).show()"
   ]
  },
  {
   "cell_type": "markdown",
   "metadata": {},
   "source": [
    "##### Further observations:\n",
    "- There are no Nan (missing) values in the dataset.\n",
    "- There are no null values in the `userId` and the `sessionId` columns.\n",
    "- There are at least 8,346 null values for 9 attributes.\n",
    "- There are at least 58,392 null values for 3 attributes.\n",
    "<br>\n",
    "\n",
    "##### Considerations for dropping records or features:\n",
    "- Dropping all the records for which some data is null would result in the loss of around 20% of the dataset (= 58,392/286,500).\n",
    "- Dropping features for which there is at least one null value in the dataset would result in the loss of 50% of the features (= 9/18).\n",
    "- The features for which there are around 20% null values are: `artist`, `length` and `song`. The event records for which these features are missing might simply be non-music-listening ones, e.g. registration (although it is not entirely clear at this point of cleaning / exploration which activities might be counted in one session).\n",
    "- The features for which there are around 3% (= 8,346/286,500) null values are: `firstName`, `gender`, `lastName`, `location`, `registration` and `userAgent`.\n",
    "    - As explained earlier, `firstName` and `lastName` combined are probably more or less equivalent with `userId`, i.e. no further relevant information should be expected from a specific name beyond identifying the user.\n",
    "    - `gender` might predict some aspects of music streaming and churn behaviour therefore I will not drop it entirely. I will transform the F/M categorical string notation to a dummy variable (1 for female and 0 for male). \n",
    "    - `location` might add some relevant insights on churn behaviour therefore I will not drop this feature.\n",
    "    - `registration` is a numeric value. Unfortunately, there is no data definition available for the dataset. However, based on the values in this features, it might be a kind of timestamp.\n",
    "    - `userAgent` might be a resourceful feature to predict churn therefore I will not drop it from the dataset.\n",
    "<br>   \n",
    "\n",
    "##### Assumptions on the dataset:\n",
    "- 80% of the records contains values for `artist`, `length` and `song` --> these might describe music listening events.\n",
    "- There are events (20%) which do not contain data on music listening --> these might be of administrative nature, e.g. an upgrade / downgrade / cancellation and registration.\n",
    "- There are events within the above category (3% of the total event amount) which only contain `auth` (e.g. cancelled, logged out), `itemInSession`, `level` (e.g. free or paid), `method` (e.g. get or put), `page` (e.g. About / Upgrade), status (probably HTTP status codes) data, beyond `userId`, `sessionId` and `ts` (timestamp). These could be all the administrative sessions except for registration."
   ]
  },
  {
   "cell_type": "markdown",
   "metadata": {},
   "source": [
    "#### 2.4.2) Blank values"
   ]
  },
  {
   "cell_type": "code",
   "execution_count": 20,
   "metadata": {},
   "outputs": [
    {
     "name": "stdout",
     "output_type": "stream",
     "text": [
      "0 blank values in column 'artist'.\n",
      "0 blank values in column 'auth'.\n",
      "0 blank values in column 'firstName'.\n",
      "0 blank values in column 'gender'.\n",
      "0 blank values in column 'itemInSession'.\n",
      "0 blank values in column 'lastName'.\n",
      "0 blank values in column 'length'.\n",
      "0 blank values in column 'level'.\n",
      "0 blank values in column 'location'.\n",
      "0 blank values in column 'method'.\n",
      "0 blank values in column 'page'.\n",
      "0 blank values in column 'registration'.\n",
      "0 blank values in column 'sessionId'.\n",
      "0 blank values in column 'song'.\n",
      "0 blank values in column 'status'.\n",
      "0 blank values in column 'ts'.\n",
      "0 blank values in column 'userAgent'.\n",
      "8346 blank values in column 'userId'.\n"
     ]
    }
   ],
   "source": [
    "# count the number of blank values per feature\n",
    "\n",
    "for c in sparkify_distinct.columns:\n",
    "    print(\"{} blank values in column '{}'.\".format(sparkify_distinct.filter(col(c)=='').count(), c))"
   ]
  },
  {
   "cell_type": "markdown",
   "metadata": {},
   "source": [
    "##### Assessment:\n",
    "It is only the column `userId` which contains blank values."
   ]
  },
  {
   "cell_type": "code",
   "execution_count": 21,
   "metadata": {},
   "outputs": [
    {
     "data": {
      "text/plain": [
       "[Row(artist=None, auth='Logged Out', firstName=None, gender=None, itemInSession=1, lastName=None, length=None, level='free', location=None, method='GET', page='Help', registration=None, sessionId=246, song=None, status=200, ts=1538388594000, userAgent=None, userId=''),\n",
       " Row(artist=None, auth='Logged Out', firstName=None, gender=None, itemInSession=0, lastName=None, length=None, level='paid', location=None, method='GET', page='Home', registration=None, sessionId=236, song=None, status=200, ts=1538398122000, userAgent=None, userId=''),\n",
       " Row(artist=None, auth='Logged Out', firstName=None, gender=None, itemInSession=26, lastName=None, length=None, level='free', location=None, method='GET', page='Home', registration=None, sessionId=186, song=None, status=200, ts=1539006960000, userAgent=None, userId=''),\n",
       " Row(artist=None, auth='Logged Out', firstName=None, gender=None, itemInSession=30, lastName=None, length=None, level='free', location=None, method='GET', page='About', registration=None, sessionId=439, song=None, status=200, ts=1539023136000, userAgent=None, userId=''),\n",
       " Row(artist=None, auth='Logged Out', firstName=None, gender=None, itemInSession=20, lastName=None, length=None, level='free', location=None, method='GET', page='Home', registration=None, sessionId=719, song=None, status=200, ts=1539322963000, userAgent=None, userId=''),\n",
       " Row(artist=None, auth='Logged Out', firstName=None, gender=None, itemInSession=321, lastName=None, length=None, level='paid', location=None, method='GET', page='About', registration=None, sessionId=737, song=None, status=200, ts=1539327509000, userAgent=None, userId=''),\n",
       " Row(artist=None, auth='Logged Out', firstName=None, gender=None, itemInSession=102, lastName=None, length=None, level='paid', location=None, method='GET', page='Home', registration=None, sessionId=773, song=None, status=200, ts=1539375372000, userAgent=None, userId=''),\n",
       " Row(artist=None, auth='Logged Out', firstName=None, gender=None, itemInSession=204, lastName=None, length=None, level='paid', location=None, method='PUT', page='Login', registration=None, sessionId=707, song=None, status=307, ts=1539808330000, userAgent=None, userId=''),\n",
       " Row(artist=None, auth='Logged Out', firstName=None, gender=None, itemInSession=114, lastName=None, length=None, level='paid', location=None, method='GET', page='Home', registration=None, sessionId=1069, song=None, status=200, ts=1540014444000, userAgent=None, userId=''),\n",
       " Row(artist=None, auth='Logged Out', firstName=None, gender=None, itemInSession=184, lastName=None, length=None, level='paid', location=None, method='GET', page='Home', registration=None, sessionId=1120, song=None, status=200, ts=1540147338000, userAgent=None, userId=''),\n",
       " Row(artist=None, auth='Logged Out', firstName=None, gender=None, itemInSession=2, lastName=None, length=None, level='paid', location=None, method='GET', page='Home', registration=None, sessionId=770, song=None, status=200, ts=1540270249000, userAgent=None, userId=''),\n",
       " Row(artist=None, auth='Logged Out', firstName=None, gender=None, itemInSession=200, lastName=None, length=None, level='paid', location=None, method='PUT', page='Login', registration=None, sessionId=1237, song=None, status=307, ts=1540622608000, userAgent=None, userId=''),\n",
       " Row(artist=None, auth='Logged Out', firstName=None, gender=None, itemInSession=322, lastName=None, length=None, level='paid', location=None, method='PUT', page='Login', registration=None, sessionId=1394, song=None, status=307, ts=1540897096000, userAgent=None, userId=''),\n",
       " Row(artist=None, auth='Logged Out', firstName=None, gender=None, itemInSession=11, lastName=None, length=None, level='free', location=None, method='GET', page='Home', registration=None, sessionId=1225, song=None, status=200, ts=1541102014000, userAgent=None, userId=''),\n",
       " Row(artist=None, auth='Logged Out', firstName=None, gender=None, itemInSession=3, lastName=None, length=None, level='paid', location=None, method='PUT', page='Login', registration=None, sessionId=1464, song=None, status=307, ts=1541107418000, userAgent=None, userId=''),\n",
       " Row(artist=None, auth='Logged Out', firstName=None, gender=None, itemInSession=479, lastName=None, length=None, level='paid', location=None, method='GET', page='Home', registration=None, sessionId=1429, song=None, status=200, ts=1541139343000, userAgent=None, userId=''),\n",
       " Row(artist=None, auth='Logged Out', firstName=None, gender=None, itemInSession=14, lastName=None, length=None, level='paid', location=None, method='PUT', page='Login', registration=None, sessionId=1556, song=None, status=307, ts=1541214787000, userAgent=None, userId=''),\n",
       " Row(artist=None, auth='Logged Out', firstName=None, gender=None, itemInSession=22, lastName=None, length=None, level='paid', location=None, method='GET', page='Home', registration=None, sessionId=1524, song=None, status=200, ts=1541263286000, userAgent=None, userId=''),\n",
       " Row(artist=None, auth='Logged Out', firstName=None, gender=None, itemInSession=168, lastName=None, length=None, level='paid', location=None, method='PUT', page='Login', registration=None, sessionId=1419, song=None, status=307, ts=1541372178000, userAgent=None, userId=''),\n",
       " Row(artist=None, auth='Logged Out', firstName=None, gender=None, itemInSession=290, lastName=None, length=None, level='paid', location=None, method='PUT', page='Login', registration=None, sessionId=1696, song=None, status=307, ts=1541849026000, userAgent=None, userId=''),\n",
       " Row(artist=None, auth='Logged Out', firstName=None, gender=None, itemInSession=44, lastName=None, length=None, level='paid', location=None, method='GET', page='Home', registration=None, sessionId=1804, song=None, status=200, ts=1541894847000, userAgent=None, userId=''),\n",
       " Row(artist=None, auth='Logged Out', firstName=None, gender=None, itemInSession=101, lastName=None, length=None, level='paid', location=None, method='PUT', page='Login', registration=None, sessionId=1908, song=None, status=307, ts=1542173257000, userAgent=None, userId=''),\n",
       " Row(artist=None, auth='Logged Out', firstName=None, gender=None, itemInSession=13, lastName=None, length=None, level='paid', location=None, method='GET', page='Help', registration=None, sessionId=1859, song=None, status=200, ts=1542177064000, userAgent=None, userId=''),\n",
       " Row(artist=None, auth='Logged Out', firstName=None, gender=None, itemInSession=18, lastName=None, length=None, level='paid', location=None, method='GET', page='Home', registration=None, sessionId=2006, song=None, status=200, ts=1542781896000, userAgent=None, userId=''),\n",
       " Row(artist=None, auth='Logged Out', firstName=None, gender=None, itemInSession=97, lastName=None, length=None, level='free', location=None, method='GET', page='Home', registration=None, sessionId=2127, song=None, status=200, ts=1542826980000, userAgent=None, userId=''),\n",
       " Row(artist=None, auth='Logged Out', firstName=None, gender=None, itemInSession=61, lastName=None, length=None, level='free', location=None, method='GET', page='Home', registration=None, sessionId=2167, song=None, status=200, ts=1542842716000, userAgent=None, userId=''),\n",
       " Row(artist=None, auth='Logged Out', firstName=None, gender=None, itemInSession=157, lastName=None, length=None, level='paid', location=None, method='GET', page='Home', registration=None, sessionId=2166, song=None, status=200, ts=1542954771000, userAgent=None, userId=''),\n",
       " Row(artist=None, auth='Logged Out', firstName=None, gender=None, itemInSession=0, lastName=None, length=None, level='free', location=None, method='PUT', page='Login', registration=None, sessionId=2117, song=None, status=307, ts=1542986394000, userAgent=None, userId=''),\n",
       " Row(artist=None, auth='Logged Out', firstName=None, gender=None, itemInSession=200, lastName=None, length=None, level='paid', location=None, method='GET', page='Home', registration=None, sessionId=1996, song=None, status=200, ts=1543006028000, userAgent=None, userId=''),\n",
       " Row(artist=None, auth='Logged Out', firstName=None, gender=None, itemInSession=92, lastName=None, length=None, level='paid', location=None, method='GET', page='Home', registration=None, sessionId=2298, song=None, status=200, ts=1543355659000, userAgent=None, userId=''),\n",
       " Row(artist=None, auth='Logged Out', firstName=None, gender=None, itemInSession=296, lastName=None, length=None, level='paid', location=None, method='GET', page='Home', registration=None, sessionId=2298, song=None, status=200, ts=1543393794000, userAgent=None, userId=''),\n",
       " Row(artist=None, auth='Logged Out', firstName=None, gender=None, itemInSession=15, lastName=None, length=None, level='free', location=None, method='GET', page='Home', registration=None, sessionId=54, song=None, status=200, ts=1538638988000, userAgent=None, userId=''),\n",
       " Row(artist=None, auth='Logged Out', firstName=None, gender=None, itemInSession=24, lastName=None, length=None, level='free', location=None, method='GET', page='About', registration=None, sessionId=64, song=None, status=200, ts=1539052114000, userAgent=None, userId=''),\n",
       " Row(artist=None, auth='Logged Out', firstName=None, gender=None, itemInSession=11, lastName=None, length=None, level='free', location=None, method='PUT', page='Login', registration=None, sessionId=86, song=None, status=307, ts=1539263986000, userAgent=None, userId=''),\n",
       " Row(artist=None, auth='Logged Out', firstName=None, gender=None, itemInSession=20, lastName=None, length=None, level='paid', location=None, method='PUT', page='Login', registration=None, sessionId=167, song=None, status=307, ts=1541219719000, userAgent=None, userId=''),\n",
       " Row(artist=None, auth='Logged Out', firstName=None, gender=None, itemInSession=169, lastName=None, length=None, level='free', location=None, method='PUT', page='Login', registration=None, sessionId=172, song=None, status=307, ts=1543141480000, userAgent=None, userId=''),\n",
       " Row(artist=None, auth='Logged Out', firstName=None, gender=None, itemInSession=2, lastName=None, length=None, level='free', location=None, method='PUT', page='Login', registration=None, sessionId=96, song=None, status=307, ts=1539083969000, userAgent=None, userId=''),\n",
       " Row(artist=None, auth='Logged Out', firstName=None, gender=None, itemInSession=35, lastName=None, length=None, level='paid', location=None, method='GET', page='Home', registration=None, sessionId=181, song=None, status=200, ts=1539992864000, userAgent=None, userId=''),\n",
       " Row(artist=None, auth='Logged Out', firstName=None, gender=None, itemInSession=29, lastName=None, length=None, level='free', location=None, method='GET', page='Home', registration=None, sessionId=220, song=None, status=200, ts=1540569738000, userAgent=None, userId=''),\n",
       " Row(artist=None, auth='Logged Out', firstName=None, gender=None, itemInSession=27, lastName=None, length=None, level='free', location=None, method='GET', page='Home', registration=None, sessionId=239, song=None, status=200, ts=1541076787000, userAgent=None, userId=''),\n",
       " Row(artist=None, auth='Logged Out', firstName=None, gender=None, itemInSession=1, lastName=None, length=None, level='free', location=None, method='GET', page='Home', registration=None, sessionId=343, song=None, status=200, ts=1542260071000, userAgent=None, userId=''),\n",
       " Row(artist=None, auth='Logged Out', firstName=None, gender=None, itemInSession=2, lastName=None, length=None, level='paid', location=None, method='GET', page='Home', registration=None, sessionId=121, song=None, status=200, ts=1539269324000, userAgent=None, userId=''),\n",
       " Row(artist=None, auth='Logged Out', firstName=None, gender=None, itemInSession=4, lastName=None, length=None, level='paid', location=None, method='PUT', page='Login', registration=None, sessionId=414, song=None, status=307, ts=1542467786000, userAgent=None, userId=''),\n",
       " Row(artist=None, auth='Logged Out', firstName=None, gender=None, itemInSession=143, lastName=None, length=None, level='paid', location=None, method='GET', page='About', registration=None, sessionId=482, song=None, status=200, ts=1543487124000, userAgent=None, userId=''),\n",
       " Row(artist=None, auth='Logged Out', firstName=None, gender=None, itemInSession=0, lastName=None, length=None, level='free', location=None, method='PUT', page='Login', registration=None, sessionId=241, song=None, status=307, ts=1538360117000, userAgent=None, userId=''),\n",
       " Row(artist=None, auth='Logged Out', firstName=None, gender=None, itemInSession=229, lastName=None, length=None, level='paid', location=None, method='PUT', page='Login', registration=None, sessionId=312, song=None, status=307, ts=1538548807000, userAgent=None, userId=''),\n",
       " Row(artist=None, auth='Logged Out', firstName=None, gender=None, itemInSession=227, lastName=None, length=None, level='paid', location=None, method='GET', page='Home', registration=None, sessionId=420, song=None, status=200, ts=1538699206000, userAgent=None, userId=''),\n",
       " Row(artist=None, auth='Logged Out', firstName=None, gender=None, itemInSession=469, lastName=None, length=None, level='paid', location=None, method='GET', page='Home', registration=None, sessionId=420, song=None, status=200, ts=1538750427000, userAgent=None, userId=''),\n",
       " Row(artist=None, auth='Logged Out', firstName=None, gender=None, itemInSession=550, lastName=None, length=None, level='paid', location=None, method='PUT', page='Login', registration=None, sessionId=316, song=None, status=307, ts=1538813065000, userAgent=None, userId=''),\n",
       " Row(artist=None, auth='Logged Out', firstName=None, gender=None, itemInSession=235, lastName=None, length=None, level='paid', location=None, method='PUT', page='Login', registration=None, sessionId=476, song=None, status=307, ts=1538883729000, userAgent=None, userId=''),\n",
       " Row(artist=None, auth='Logged Out', firstName=None, gender=None, itemInSession=28, lastName=None, length=None, level='free', location=None, method='PUT', page='Login', registration=None, sessionId=108, song=None, status=307, ts=1538892344000, userAgent=None, userId=''),\n",
       " Row(artist=None, auth='Logged Out', firstName=None, gender=None, itemInSession=45, lastName=None, length=None, level='paid', location=None, method='GET', page='Home', registration=None, sessionId=579, song=None, status=200, ts=1539034461000, userAgent=None, userId=''),\n",
       " Row(artist=None, auth='Logged Out', firstName=None, gender=None, itemInSession=175, lastName=None, length=None, level='paid', location=None, method='GET', page='Help', registration=None, sessionId=635, song=None, status=200, ts=1539104711000, userAgent=None, userId=''),\n",
       " Row(artist=None, auth='Logged Out', firstName=None, gender=None, itemInSession=435, lastName=None, length=None, level='paid', location=None, method='GET', page='Home', registration=None, sessionId=635, song=None, status=200, ts=1539161700000, userAgent=None, userId=''),\n",
       " Row(artist=None, auth='Logged Out', firstName=None, gender=None, itemInSession=57, lastName=None, length=None, level='free', location=None, method='GET', page='About', registration=None, sessionId=686, song=None, status=200, ts=1539217341000, userAgent=None, userId=''),\n",
       " Row(artist=None, auth='Logged Out', firstName=None, gender=None, itemInSession=20, lastName=None, length=None, level='free', location=None, method='PUT', page='Login', registration=None, sessionId=697, song=None, status=307, ts=1539246468000, userAgent=None, userId=''),\n",
       " Row(artist=None, auth='Logged Out', firstName=None, gender=None, itemInSession=57, lastName=None, length=None, level='paid', location=None, method='GET', page='Home', registration=None, sessionId=745, song=None, status=200, ts=1539283134000, userAgent=None, userId=''),\n",
       " Row(artist=None, auth='Logged Out', firstName=None, gender=None, itemInSession=320, lastName=None, length=None, level='paid', location=None, method='GET', page='Home', registration=None, sessionId=737, song=None, status=200, ts=1539327452000, userAgent=None, userId=''),\n",
       " Row(artist=None, auth='Logged Out', firstName=None, gender=None, itemInSession=133, lastName=None, length=None, level='free', location=None, method='GET', page='Home', registration=None, sessionId=826, song=None, status=200, ts=1539680060000, userAgent=None, userId=''),\n",
       " Row(artist=None, auth='Logged Out', firstName=None, gender=None, itemInSession=0, lastName=None, length=None, level='free', location=None, method='GET', page='Home', registration=None, sessionId=903, song=None, status=200, ts=1539681215000, userAgent=None, userId=''),\n",
       " Row(artist=None, auth='Logged Out', firstName=None, gender=None, itemInSession=21, lastName=None, length=None, level='free', location=None, method='PUT', page='Login', registration=None, sessionId=1034, song=None, status=307, ts=1539913613000, userAgent=None, userId=''),\n",
       " Row(artist=None, auth='Logged Out', firstName=None, gender=None, itemInSession=54, lastName=None, length=None, level='paid', location=None, method='PUT', page='Login', registration=None, sessionId=916, song=None, status=307, ts=1539978120000, userAgent=None, userId=''),\n",
       " Row(artist=None, auth='Logged Out', firstName=None, gender=None, itemInSession=33, lastName=None, length=None, level='paid', location=None, method='GET', page='Home', registration=None, sessionId=1049, song=None, status=200, ts=1540265089000, userAgent=None, userId=''),\n",
       " Row(artist=None, auth='Logged Out', firstName=None, gender=None, itemInSession=387, lastName=None, length=None, level='paid', location=None, method='GET', page='Home', registration=None, sessionId=1035, song=None, status=200, ts=1540391290000, userAgent=None, userId=''),\n",
       " Row(artist=None, auth='Logged Out', firstName=None, gender=None, itemInSession=47, lastName=None, length=None, level='paid', location=None, method='PUT', page='Login', registration=None, sessionId=1252, song=None, status=307, ts=1540549697000, userAgent=None, userId=''),\n",
       " Row(artist=None, auth='Logged Out', firstName=None, gender=None, itemInSession=4, lastName=None, length=None, level='paid', location=None, method='GET', page='Home', registration=None, sessionId=1287, song=None, status=200, ts=1540773772000, userAgent=None, userId=''),\n",
       " Row(artist=None, auth='Logged Out', firstName=None, gender=None, itemInSession=49, lastName=None, length=None, level='paid', location=None, method='PUT', page='Login', registration=None, sessionId=1462, song=None, status=307, ts=1541047035000, userAgent=None, userId=''),\n",
       " Row(artist=None, auth='Logged Out', firstName=None, gender=None, itemInSession=1, lastName=None, length=None, level='free', location=None, method='GET', page='Home', registration=None, sessionId=1263, song=None, status=200, ts=1541066051000, userAgent=None, userId=''),\n",
       " Row(artist=None, auth='Logged Out', firstName=None, gender=None, itemInSession=0, lastName=None, length=None, level='paid', location=None, method='GET', page='Home', registration=None, sessionId=1446, song=None, status=200, ts=1541123801000, userAgent=None, userId=''),\n",
       " Row(artist=None, auth='Logged Out', firstName=None, gender=None, itemInSession=109, lastName=None, length=None, level='paid', location=None, method='PUT', page='Login', registration=None, sessionId=1559, song=None, status=307, ts=1541452993000, userAgent=None, userId=''),\n",
       " Row(artist=None, auth='Logged Out', firstName=None, gender=None, itemInSession=173, lastName=None, length=None, level='paid', location=None, method='GET', page='Home', registration=None, sessionId=1778, song=None, status=200, ts=1541820894000, userAgent=None, userId=''),\n",
       " Row(artist=None, auth='Logged Out', firstName=None, gender=None, itemInSession=0, lastName=None, length=None, level='paid', location=None, method='GET', page='Home', registration=None, sessionId=1799, song=None, status=200, ts=1541889736000, userAgent=None, userId=''),\n",
       " Row(artist=None, auth='Logged Out', firstName=None, gender=None, itemInSession=8, lastName=None, length=None, level='paid', location=None, method='GET', page='Home', registration=None, sessionId=1914, song=None, status=200, ts=1542175407000, userAgent=None, userId=''),\n",
       " Row(artist=None, auth='Logged Out', firstName=None, gender=None, itemInSession=40, lastName=None, length=None, level='paid', location=None, method='PUT', page='Login', registration=None, sessionId=1872, song=None, status=307, ts=1542281649000, userAgent=None, userId=''),\n",
       " Row(artist=None, auth='Logged Out', firstName=None, gender=None, itemInSession=57, lastName=None, length=None, level='paid', location=None, method='GET', page='Home', registration=None, sessionId=2075, song=None, status=200, ts=1542730797000, userAgent=None, userId=''),\n",
       " Row(artist=None, auth='Logged Out', firstName=None, gender=None, itemInSession=211, lastName=None, length=None, level='paid', location=None, method='PUT', page='Login', registration=None, sessionId=2100, song=None, status=307, ts=1542769733000, userAgent=None, userId=''),\n",
       " Row(artist=None, auth='Logged Out', firstName=None, gender=None, itemInSession=76, lastName=None, length=None, level='paid', location=None, method='PUT', page='Login', registration=None, sessionId=2035, song=None, status=307, ts=1542776476000, userAgent=None, userId=''),\n",
       " Row(artist=None, auth='Logged Out', firstName=None, gender=None, itemInSession=26, lastName=None, length=None, level='free', location=None, method='GET', page='Home', registration=None, sessionId=1922, song=None, status=200, ts=1542869813000, userAgent=None, userId=''),\n",
       " Row(artist=None, auth='Logged Out', firstName=None, gender=None, itemInSession=110, lastName=None, length=None, level='paid', location=None, method='PUT', page='Login', registration=None, sessionId=2337, song=None, status=307, ts=1543580007000, userAgent=None, userId=''),\n",
       " Row(artist=None, auth='Logged Out', firstName=None, gender=None, itemInSession=114, lastName=None, length=None, level='paid', location=None, method='PUT', page='Login', registration=None, sessionId=2384, song=None, status=307, ts=1543588808000, userAgent=None, userId=''),\n",
       " Row(artist=None, auth='Logged Out', firstName=None, gender=None, itemInSession=23, lastName=None, length=None, level='free', location=None, method='GET', page='Home', registration=None, sessionId=2408, song=None, status=200, ts=1543591640000, userAgent=None, userId=''),\n",
       " Row(artist=None, auth='Logged Out', firstName=None, gender=None, itemInSession=17, lastName=None, length=None, level='paid', location=None, method='GET', page='Home', registration=None, sessionId=98, song=None, status=200, ts=1539711201000, userAgent=None, userId=''),\n",
       " Row(artist=None, auth='Logged Out', firstName=None, gender=None, itemInSession=16, lastName=None, length=None, level='paid', location=None, method='GET', page='Home', registration=None, sessionId=94, song=None, status=200, ts=1539941953000, userAgent=None, userId=''),\n",
       " Row(artist=None, auth='Logged Out', firstName=None, gender=None, itemInSession=12, lastName=None, length=None, level='free', location=None, method='PUT', page='Login', registration=None, sessionId=21, song=None, status=307, ts=1538587737000, userAgent=None, userId=''),\n",
       " Row(artist=None, auth='Logged Out', firstName=None, gender=None, itemInSession=15, lastName=None, length=None, level='paid', location=None, method='GET', page='Home', registration=None, sessionId=106, song=None, status=200, ts=1539314598000, userAgent=None, userId=''),\n",
       " Row(artist=None, auth='Logged Out', firstName=None, gender=None, itemInSession=56, lastName=None, length=None, level='paid', location=None, method='PUT', page='Login', registration=None, sessionId=261, song=None, status=307, ts=1540934643000, userAgent=None, userId=''),\n",
       " Row(artist=None, auth='Logged Out', firstName=None, gender=None, itemInSession=9, lastName=None, length=None, level='free', location=None, method='GET', page='Home', registration=None, sessionId=34, song=None, status=200, ts=1538579863000, userAgent=None, userId=''),\n",
       " Row(artist=None, auth='Logged Out', firstName=None, gender=None, itemInSession=92, lastName=None, length=None, level='paid', location=None, method='GET', page='Help', registration=None, sessionId=228, song=None, status=200, ts=1540474576000, userAgent=None, userId=''),\n",
       " Row(artist=None, auth='Logged Out', firstName=None, gender=None, itemInSession=55, lastName=None, length=None, level='paid', location=None, method='GET', page='Help', registration=None, sessionId=429, song=None, status=200, ts=1542752810000, userAgent=None, userId=''),\n",
       " Row(artist=None, auth='Logged Out', firstName=None, gender=None, itemInSession=1, lastName=None, length=None, level='free', location=None, method='PUT', page='Login', registration=None, sessionId=299, song=None, status=307, ts=1538579871000, userAgent=None, userId=''),\n",
       " Row(artist=None, auth='Logged Out', firstName=None, gender=None, itemInSession=27, lastName=None, length=None, level='paid', location=None, method='GET', page='Home', registration=None, sessionId=390, song=None, status=200, ts=1538623303000, userAgent=None, userId=''),\n",
       " Row(artist=None, auth='Logged Out', firstName=None, gender=None, itemInSession=65, lastName=None, length=None, level='paid', location=None, method='PUT', page='Login', registration=None, sessionId=496, song=None, status=307, ts=1538971160000, userAgent=None, userId=''),\n",
       " Row(artist=None, auth='Logged Out', firstName=None, gender=None, itemInSession=47, lastName=None, length=None, level='paid', location=None, method='PUT', page='Login', registration=None, sessionId=724, song=None, status=307, ts=1539352650000, userAgent=None, userId=''),\n",
       " Row(artist=None, auth='Logged Out', firstName=None, gender=None, itemInSession=185, lastName=None, length=None, level='paid', location=None, method='PUT', page='Login', registration=None, sessionId=824, song=None, status=307, ts=1539631690000, userAgent=None, userId=''),\n",
       " Row(artist=None, auth='Logged Out', firstName=None, gender=None, itemInSession=0, lastName=None, length=None, level='paid', location=None, method='GET', page='Home', registration=None, sessionId=703, song=None, status=200, ts=1539654541000, userAgent=None, userId=''),\n",
       " Row(artist=None, auth='Logged Out', firstName=None, gender=None, itemInSession=12, lastName=None, length=None, level='paid', location=None, method='GET', page='About', registration=None, sessionId=792, song=None, status=200, ts=1539669903000, userAgent=None, userId=''),\n",
       " Row(artist=None, auth='Logged Out', firstName=None, gender=None, itemInSession=1, lastName=None, length=None, level='paid', location=None, method='PUT', page='Login', registration=None, sessionId=881, song=None, status=307, ts=1539703852000, userAgent=None, userId=''),\n",
       " Row(artist=None, auth='Logged Out', firstName=None, gender=None, itemInSession=327, lastName=None, length=None, level='paid', location=None, method='GET', page='Home', registration=None, sessionId=377, song=None, status=200, ts=1539780503000, userAgent=None, userId=''),\n",
       " Row(artist=None, auth='Logged Out', firstName=None, gender=None, itemInSession=302, lastName=None, length=None, level='paid', location=None, method='GET', page='Home', registration=None, sessionId=1052, song=None, status=200, ts=1540019565000, userAgent=None, userId=''),\n",
       " Row(artist=None, auth='Logged Out', firstName=None, gender=None, itemInSession=346, lastName=None, length=None, level='paid', location=None, method='GET', page='Home', registration=None, sessionId=1052, song=None, status=200, ts=1540027067000, userAgent=None, userId='')]"
      ]
     },
     "execution_count": 21,
     "metadata": {},
     "output_type": "execute_result"
    }
   ],
   "source": [
    "# check records with blank userIds\n",
    "# source of idea to investigate: https://github.com/Lamiaka/sparkify/blob/master/1-Sparkify_data_exploration.ipynb\n",
    "sparkify_blank_users = sparkify_distinct.filter(\"userId = ''\")\n",
    "sparkify_blank_users.take(100)"
   ]
  },
  {
   "cell_type": "code",
   "execution_count": 22,
   "metadata": {},
   "outputs": [
    {
     "name": "stdout",
     "output_type": "stream",
     "text": [
      "1\n",
      "+----------+\n",
      "|      auth|\n",
      "+----------+\n",
      "|Logged Out|\n",
      "|     Guest|\n",
      "+----------+\n",
      "\n",
      "2\n",
      "+-----+\n",
      "|level|\n",
      "+-----+\n",
      "| free|\n",
      "| paid|\n",
      "+-----+\n",
      "\n",
      "3\n",
      "+------+\n",
      "|method|\n",
      "+------+\n",
      "|   PUT|\n",
      "|   GET|\n",
      "+------+\n",
      "\n",
      "4\n",
      "+-------------------+\n",
      "|               page|\n",
      "+-------------------+\n",
      "|               Home|\n",
      "|              About|\n",
      "|Submit Registration|\n",
      "|              Login|\n",
      "|           Register|\n",
      "|               Help|\n",
      "|              Error|\n",
      "+-------------------+\n",
      "\n"
     ]
    }
   ],
   "source": [
    "# check distinct values in the blank_users subset\n",
    "var_list = [\"auth\", \"level\", \"method\", \"page\"]\n",
    "\n",
    "i=1\n",
    "for x in var_list:\n",
    "    print(i)\n",
    "    sparkify_blank_users.select(x).distinct().show()\n",
    "    i+=1"
   ]
  },
  {
   "cell_type": "markdown",
   "metadata": {},
   "source": [
    "##### Comments:\n",
    "**Observations:** Blank `userId`s typically belong to the following type of values:\n",
    "- `auth`: Logged Out, Guest \n",
    "- `level`: both paid and free appears among the values\n",
    "- `method`: both GET and PUT appears among the values (the latter typically with the `page` Login)\n",
    "- `page`: Help, Home, About, Login, Submit Registration, Register and Error\n",
    "\n",
    "**Conclusion:** The events the above values describe are probably related to guest views on the site, registration and login. In the absence of `userID`, these records cannot add value to the understandng of user behaviour such as churn and neither seem to provide additional value to the analysis therefore I will drop them."
   ]
  },
  {
   "cell_type": "code",
   "execution_count": 23,
   "metadata": {},
   "outputs": [],
   "source": [
    "sparkify_distinct2 = sparkify_distinct.where(col(\"userId\") != \"\")"
   ]
  },
  {
   "cell_type": "code",
   "execution_count": 24,
   "metadata": {},
   "outputs": [
    {
     "data": {
      "text/plain": [
       "225"
      ]
     },
     "execution_count": 24,
     "metadata": {},
     "output_type": "execute_result"
    }
   ],
   "source": [
    "# check if dropping was successful\n",
    "sparkify_distinct2.select(\"userId\").distinct().count()"
   ]
  },
  {
   "cell_type": "markdown",
   "metadata": {},
   "source": [
    "### 2.5) Transform data"
   ]
  },
  {
   "cell_type": "markdown",
   "metadata": {},
   "source": [
    "#### 2.5.1) Transform timestamps"
   ]
  },
  {
   "cell_type": "code",
   "execution_count": 25,
   "metadata": {
    "scrolled": true
   },
   "outputs": [
    {
     "name": "stdout",
     "output_type": "stream",
     "text": [
      "+-------------+-------------+\n",
      "|           ts| registration|\n",
      "+-------------+-------------+\n",
      "|1538373133000|1538304455000|\n",
      "|1538373134000|1538304455000|\n",
      "|1538384924000|1536287099000|\n",
      "+-------------+-------------+\n",
      "only showing top 3 rows\n",
      "\n"
     ]
    }
   ],
   "source": [
    "#check format of the timestamp-like features\n",
    "sparkify_distinct2.select([\"ts\", \"registration\"]).show(3)"
   ]
  },
  {
   "cell_type": "markdown",
   "metadata": {},
   "source": [
    "##### Note:\n",
    "Dividing by 1000 might be necessary as the last three digits are seemingly all zeros thus the data in `ts` might be provided as milliseconds. <br>\n",
    "Source: https://stackoverflow.com/questions/31134969/how-to-convert-unix-timestamp-to-date-in-spark"
   ]
  },
  {
   "cell_type": "code",
   "execution_count": 26,
   "metadata": {},
   "outputs": [
    {
     "name": "stdout",
     "output_type": "stream",
     "text": [
      "root\n",
      " |-- ts: long (nullable = true)\n",
      " |-- registration: long (nullable = true)\n",
      "\n"
     ]
    }
   ],
   "source": [
    "#check type of the timestamp-like features\n",
    "sparkify_distinct2.select([\"ts\", \"registration\"]).printSchema()"
   ]
  },
  {
   "cell_type": "code",
   "execution_count": 27,
   "metadata": {},
   "outputs": [],
   "source": [
    "# write function to transform timestamp\n",
    "def make_timestamp(df_name, column_name, new_column_name):\n",
    "    '''\n",
    "    Function creates timestamp type date and time feature from unix format and long (numeric) type of timestamp.\n",
    "    Inputs:\n",
    "        df_name: name of the original Spark dataframe\n",
    "        column_name: name of the original timestamp column\n",
    "        new_column_name: name of the transformed timestamp column\n",
    "    Output:    \n",
    "        new_df: transformed dataframe that contains an additional column of the transformed timestamp\n",
    "    '''\n",
    "    new_df = df_name.withColumn(new_column_name, from_unixtime(col(column_name)/1000))\n",
    "    new_df = new_df.withColumn(new_column_name,\n",
    "        to_timestamp(col(new_column_name)))\n",
    "    return new_df"
   ]
  },
  {
   "cell_type": "code",
   "execution_count": 28,
   "metadata": {},
   "outputs": [],
   "source": [
    "#apply function to transform timestamp\n",
    "sparkify_timestamped = make_timestamp(sparkify_distinct2, \"ts\", \"timestamp\")"
   ]
  },
  {
   "cell_type": "code",
   "execution_count": 29,
   "metadata": {},
   "outputs": [],
   "source": [
    "#apply function to transform registration date to timestamp\n",
    "sparkify_timestamped = make_timestamp(sparkify_timestamped, \"registration\", \"registration_timestamp\")"
   ]
  },
  {
   "cell_type": "markdown",
   "metadata": {},
   "source": [
    "#### 2.5.2) Extract devices"
   ]
  },
  {
   "cell_type": "code",
   "execution_count": 30,
   "metadata": {},
   "outputs": [
    {
     "data": {
      "text/plain": [
       "[Row(userAgent='\"Mozilla/5.0 (Windows NT 6.1; WOW64) AppleWebKit/537.36 (KHTML, like Gecko) Chrome/37.0.2062.94 Safari/537.36\"'),\n",
       " Row(userAgent='\"Mozilla/5.0 (Windows NT 6.1; WOW64) AppleWebKit/537.36 (KHTML, like Gecko) Chrome/37.0.2062.94 Safari/537.36\"'),\n",
       " Row(userAgent='\"Mozilla/5.0 (Macintosh; Intel Mac OS X 10_9_4) AppleWebKit/537.36 (KHTML, like Gecko) Chrome/36.0.1985.125 Safari/537.36\"'),\n",
       " Row(userAgent='\"Mozilla/5.0 (Windows NT 6.1; WOW64) AppleWebKit/537.36 (KHTML, like Gecko) Chrome/36.0.1985.143 Safari/537.36\"'),\n",
       " Row(userAgent='\"Mozilla/5.0 (Windows NT 6.3; WOW64) AppleWebKit/537.36 (KHTML, like Gecko) Chrome/36.0.1985.143 Safari/537.36\"'),\n",
       " Row(userAgent='\"Mozilla/5.0 (Windows NT 6.1; WOW64) AppleWebKit/537.36 (KHTML, like Gecko) Chrome/36.0.1985.143 Safari/537.36\"'),\n",
       " Row(userAgent='Mozilla/5.0 (compatible; MSIE 10.0; Windows NT 6.1; WOW64; Trident/6.0)'),\n",
       " Row(userAgent='\"Mozilla/5.0 (Macintosh; Intel Mac OS X 10_9_4) AppleWebKit/537.36 (KHTML, like Gecko) Chrome/36.0.1985.125 Safari/537.36\"'),\n",
       " Row(userAgent='Mozilla/5.0 (Windows NT 6.1; WOW64; rv:32.0) Gecko/20100101 Firefox/32.0'),\n",
       " Row(userAgent='\"Mozilla/5.0 (Macintosh; Intel Mac OS X 10_9_2) AppleWebKit/537.36 (KHTML, like Gecko) Chrome/36.0.1985.125 Safari/537.36\"'),\n",
       " Row(userAgent='\"Mozilla/5.0 (Windows NT 6.1; WOW64) AppleWebKit/537.36 (KHTML, like Gecko) Chrome/36.0.1985.143 Safari/537.36\"'),\n",
       " Row(userAgent='Mozilla/5.0 (Windows NT 6.1; WOW64; rv:31.0) Gecko/20100101 Firefox/31.0'),\n",
       " Row(userAgent='Mozilla/5.0 (Windows NT 6.1; WOW64; rv:31.0) Gecko/20100101 Firefox/31.0'),\n",
       " Row(userAgent='\"Mozilla/5.0 (Macintosh; Intel Mac OS X 10_9_4) AppleWebKit/537.36 (KHTML, like Gecko) Chrome/36.0.1985.143 Safari/537.36\"'),\n",
       " Row(userAgent='\"Mozilla/5.0 (Macintosh; Intel Mac OS X 10_9_4) AppleWebKit/537.36 (KHTML, like Gecko) Chrome/36.0.1985.125 Safari/537.36\"'),\n",
       " Row(userAgent='\"Mozilla/5.0 (iPad; CPU OS 7_1_2 like Mac OS X) AppleWebKit/537.51.2 (KHTML, like Gecko) Version/7.0 Mobile/11D257 Safari/9537.53\"'),\n",
       " Row(userAgent='\"Mozilla/5.0 (Macintosh; Intel Mac OS X 10_9_4) AppleWebKit/537.36 (KHTML, like Gecko) Chrome/36.0.1985.143 Safari/537.36\"'),\n",
       " Row(userAgent='\"Mozilla/5.0 (Macintosh; Intel Mac OS X 10_9_4) AppleWebKit/537.77.4 (KHTML, like Gecko) Version/7.0.5 Safari/537.77.4\"'),\n",
       " Row(userAgent='\"Mozilla/5.0 (Windows NT 6.1; WOW64) AppleWebKit/537.36 (KHTML, like Gecko) Chrome/36.0.1985.143 Safari/537.36\"'),\n",
       " Row(userAgent='\"Mozilla/5.0 (Macintosh; Intel Mac OS X 10_9_4) AppleWebKit/537.36 (KHTML, like Gecko) Chrome/36.0.1985.143 Safari/537.36\"'),\n",
       " Row(userAgent='\"Mozilla/5.0 (Macintosh; Intel Mac OS X 10_9_2) AppleWebKit/537.36 (KHTML, like Gecko) Chrome/36.0.1985.125 Safari/537.36\"'),\n",
       " Row(userAgent='\"Mozilla/5.0 (Windows NT 6.3; WOW64) AppleWebKit/537.36 (KHTML, like Gecko) Chrome/36.0.1985.125 Safari/537.36\"'),\n",
       " Row(userAgent='\"Mozilla/5.0 (Windows NT 6.3; WOW64) AppleWebKit/537.36 (KHTML, like Gecko) Chrome/36.0.1985.125 Safari/537.36\"'),\n",
       " Row(userAgent='\"Mozilla/5.0 (iPad; CPU OS 7_1_2 like Mac OS X) AppleWebKit/537.51.2 (KHTML, like Gecko) Version/7.0 Mobile/11D257 Safari/9537.53\"'),\n",
       " Row(userAgent='\"Mozilla/5.0 (Macintosh; Intel Mac OS X 10_9_4) AppleWebKit/537.36 (KHTML, like Gecko) Chrome/36.0.1985.143 Safari/537.36\"'),\n",
       " Row(userAgent='\"Mozilla/5.0 (Macintosh; Intel Mac OS X 10_9_4) AppleWebKit/537.77.4 (KHTML, like Gecko) Version/7.0.5 Safari/537.77.4\"'),\n",
       " Row(userAgent='\"Mozilla/5.0 (Macintosh; Intel Mac OS X 10_9_4) AppleWebKit/537.77.4 (KHTML, like Gecko) Version/7.0.5 Safari/537.77.4\"'),\n",
       " Row(userAgent='Mozilla/5.0 (X11; Ubuntu; Linux x86_64; rv:31.0) Gecko/20100101 Firefox/31.0'),\n",
       " Row(userAgent='\"Mozilla/5.0 (Macintosh; Intel Mac OS X 10_9_4) AppleWebKit/537.36 (KHTML, like Gecko) Chrome/37.0.2062.94 Safari/537.36\"'),\n",
       " Row(userAgent='\"Mozilla/5.0 (Windows NT 6.1; WOW64) AppleWebKit/537.36 (KHTML, like Gecko) Chrome/36.0.1985.125 Safari/537.36\"'),\n",
       " Row(userAgent='Mozilla/5.0 (Windows NT 6.2; WOW64; rv:31.0) Gecko/20100101 Firefox/31.0'),\n",
       " Row(userAgent='Mozilla/5.0 (Windows NT 6.1; WOW64; rv:31.0) Gecko/20100101 Firefox/31.0'),\n",
       " Row(userAgent='Mozilla/5.0 (Windows NT 6.2; WOW64; rv:31.0) Gecko/20100101 Firefox/31.0'),\n",
       " Row(userAgent='Mozilla/5.0 (Windows NT 6.2; WOW64; rv:31.0) Gecko/20100101 Firefox/31.0'),\n",
       " Row(userAgent='Mozilla/5.0 (Windows NT 6.1; WOW64; rv:31.0) Gecko/20100101 Firefox/31.0'),\n",
       " Row(userAgent='\"Mozilla/5.0 (Macintosh; Intel Mac OS X 10_9_4) AppleWebKit/537.77.4 (KHTML, like Gecko) Version/7.0.5 Safari/537.77.4\"'),\n",
       " Row(userAgent='\"Mozilla/5.0 (Windows NT 6.1; WOW64) AppleWebKit/537.36 (KHTML, like Gecko) Chrome/36.0.1985.143 Safari/537.36\"'),\n",
       " Row(userAgent='\"Mozilla/5.0 (Macintosh; Intel Mac OS X 10_9_4) AppleWebKit/537.36 (KHTML, like Gecko) Chrome/37.0.2062.94 Safari/537.36\"'),\n",
       " Row(userAgent='Mozilla/5.0 (Macintosh; Intel Mac OS X 10.9; rv:31.0) Gecko/20100101 Firefox/31.0'),\n",
       " Row(userAgent='Mozilla/5.0 (Macintosh; Intel Mac OS X 10.9; rv:31.0) Gecko/20100101 Firefox/31.0'),\n",
       " Row(userAgent='\"Mozilla/5.0 (Macintosh; Intel Mac OS X 10_9_4) AppleWebKit/537.36 (KHTML, like Gecko) Chrome/36.0.1985.143 Safari/537.36\"'),\n",
       " Row(userAgent='Mozilla/5.0 (Macintosh; Intel Mac OS X 10.9; rv:31.0) Gecko/20100101 Firefox/31.0'),\n",
       " Row(userAgent='Mozilla/5.0 (Windows NT 6.1; WOW64; rv:30.0) Gecko/20100101 Firefox/30.0'),\n",
       " Row(userAgent='Mozilla/5.0 (Windows NT 6.1; WOW64; rv:31.0) Gecko/20100101 Firefox/31.0'),\n",
       " Row(userAgent='Mozilla/5.0 (Windows NT 6.1; WOW64; rv:31.0) Gecko/20100101 Firefox/31.0'),\n",
       " Row(userAgent='Mozilla/5.0 (Macintosh; Intel Mac OS X 10.9; rv:31.0) Gecko/20100101 Firefox/31.0'),\n",
       " Row(userAgent='Mozilla/5.0 (Windows NT 6.1; WOW64; rv:31.0) Gecko/20100101 Firefox/31.0'),\n",
       " Row(userAgent='Mozilla/5.0 (Windows NT 6.1; WOW64; rv:31.0) Gecko/20100101 Firefox/31.0'),\n",
       " Row(userAgent='Mozilla/5.0 (Windows NT 6.1; WOW64; rv:31.0) Gecko/20100101 Firefox/31.0'),\n",
       " Row(userAgent='\"Mozilla/5.0 (Macintosh; Intel Mac OS X 10_9_4) AppleWebKit/537.77.4 (KHTML, like Gecko) Version/7.0.5 Safari/537.77.4\"'),\n",
       " Row(userAgent='\"Mozilla/5.0 (Windows NT 6.1; WOW64) AppleWebKit/537.36 (KHTML, like Gecko) Chrome/36.0.1985.125 Safari/537.36\"'),\n",
       " Row(userAgent='\"Mozilla/5.0 (Windows NT 6.1; WOW64) AppleWebKit/537.36 (KHTML, like Gecko) Chrome/36.0.1985.143 Safari/537.36\"'),\n",
       " Row(userAgent='\"Mozilla/5.0 (Macintosh; Intel Mac OS X 10_9_4) AppleWebKit/537.36 (KHTML, like Gecko) Chrome/36.0.1985.125 Safari/537.36\"'),\n",
       " Row(userAgent='\"Mozilla/5.0 (Macintosh; Intel Mac OS X 10_9_2) AppleWebKit/537.74.9 (KHTML, like Gecko) Version/7.0.2 Safari/537.74.9\"'),\n",
       " Row(userAgent='\"Mozilla/5.0 (Macintosh; Intel Mac OS X 10_9_2) AppleWebKit/537.74.9 (KHTML, like Gecko) Version/7.0.2 Safari/537.74.9\"'),\n",
       " Row(userAgent='\"Mozilla/5.0 (Macintosh; Intel Mac OS X 10_9_4) AppleWebKit/537.36 (KHTML, like Gecko) Chrome/36.0.1985.143 Safari/537.36\"'),\n",
       " Row(userAgent='\"Mozilla/5.0 (Macintosh; Intel Mac OS X 10_9_4) AppleWebKit/537.36 (KHTML, like Gecko) Chrome/36.0.1985.143 Safari/537.36\"'),\n",
       " Row(userAgent='\"Mozilla/5.0 (X11; Linux x86_64) AppleWebKit/537.36 (KHTML, like Gecko) Chrome/36.0.1985.125 Safari/537.36\"'),\n",
       " Row(userAgent='\"Mozilla/5.0 (Windows NT 6.1; WOW64) AppleWebKit/537.36 (KHTML, like Gecko) Chrome/37.0.2062.94 Safari/537.36\"'),\n",
       " Row(userAgent='\"Mozilla/5.0 (Windows NT 6.1; WOW64) AppleWebKit/537.36 (KHTML, like Gecko) Chrome/36.0.1985.143 Safari/537.36\"'),\n",
       " Row(userAgent='Mozilla/5.0 (Windows NT 6.2; WOW64; rv:31.0) Gecko/20100101 Firefox/31.0'),\n",
       " Row(userAgent='\"Mozilla/5.0 (Macintosh; Intel Mac OS X 10_9_4) AppleWebKit/537.36 (KHTML, like Gecko) Chrome/36.0.1985.143 Safari/537.36\"'),\n",
       " Row(userAgent='\"Mozilla/5.0 (Macintosh; Intel Mac OS X 10_9_4) AppleWebKit/537.78.2 (KHTML, like Gecko) Version/7.0.6 Safari/537.78.2\"'),\n",
       " Row(userAgent='Mozilla/5.0 (Windows NT 6.1; WOW64; rv:32.0) Gecko/20100101 Firefox/32.0'),\n",
       " Row(userAgent='Mozilla/5.0 (Windows NT 6.3; WOW64; rv:31.0) Gecko/20100101 Firefox/31.0'),\n",
       " Row(userAgent='\"Mozilla/5.0 (Windows NT 6.1; WOW64) AppleWebKit/537.36 (KHTML, like Gecko) Chrome/36.0.1985.143 Safari/537.36\"'),\n",
       " Row(userAgent='\"Mozilla/5.0 (Windows NT 6.1; WOW64) AppleWebKit/537.36 (KHTML, like Gecko) Chrome/37.0.2062.103 Safari/537.36\"'),\n",
       " Row(userAgent='\"Mozilla/5.0 (Windows NT 6.1; WOW64) AppleWebKit/537.36 (KHTML, like Gecko) Chrome/37.0.2062.94 Safari/537.36\"'),\n",
       " Row(userAgent='Mozilla/5.0 (Windows NT 6.1; WOW64; rv:31.0) Gecko/20100101 Firefox/31.0'),\n",
       " Row(userAgent='\"Mozilla/5.0 (Windows NT 6.1; WOW64) AppleWebKit/537.36 (KHTML, like Gecko) Chrome/36.0.1985.143 Safari/537.36\"'),\n",
       " Row(userAgent='Mozilla/5.0 (Windows NT 6.1; WOW64; rv:31.0) Gecko/20100101 Firefox/31.0'),\n",
       " Row(userAgent='\"Mozilla/5.0 (iPad; CPU OS 7_1_2 like Mac OS X) AppleWebKit/537.51.2 (KHTML, like Gecko) Version/7.0 Mobile/11D257 Safari/9537.53\"'),\n",
       " Row(userAgent='\"Mozilla/5.0 (Windows NT 6.1; WOW64) AppleWebKit/537.36 (KHTML, like Gecko) Chrome/36.0.1985.125 Safari/537.36\"'),\n",
       " Row(userAgent='\"Mozilla/5.0 (Macintosh; Intel Mac OS X 10_9_4) AppleWebKit/537.36 (KHTML, like Gecko) Chrome/36.0.1985.143 Safari/537.36\"'),\n",
       " Row(userAgent='\"Mozilla/5.0 (Macintosh; Intel Mac OS X 10_9_4) AppleWebKit/537.36 (KHTML, like Gecko) Chrome/36.0.1985.125 Safari/537.36\"'),\n",
       " Row(userAgent='\"Mozilla/5.0 (Macintosh; Intel Mac OS X 10_9_4) AppleWebKit/537.36 (KHTML, like Gecko) Chrome/37.0.2062.94 Safari/537.36\"'),\n",
       " Row(userAgent='\"Mozilla/5.0 (Macintosh; Intel Mac OS X 10_9_4) AppleWebKit/537.36 (KHTML, like Gecko) Chrome/36.0.1985.143 Safari/537.36\"'),\n",
       " Row(userAgent='\"Mozilla/5.0 (Windows NT 6.1; WOW64) AppleWebKit/537.36 (KHTML, like Gecko) Chrome/36.0.1985.143 Safari/537.36\"'),\n",
       " Row(userAgent='\"Mozilla/5.0 (Macintosh; Intel Mac OS X 10_9_2) AppleWebKit/537.74.9 (KHTML, like Gecko) Version/7.0.2 Safari/537.74.9\"'),\n",
       " Row(userAgent='\"Mozilla/5.0 (Macintosh; Intel Mac OS X 10_9_4) AppleWebKit/537.36 (KHTML, like Gecko) Chrome/37.0.2062.94 Safari/537.36\"'),\n",
       " Row(userAgent='\"Mozilla/5.0 (Macintosh; Intel Mac OS X 10_9_2) AppleWebKit/537.74.9 (KHTML, like Gecko) Version/7.0.2 Safari/537.74.9\"'),\n",
       " Row(userAgent='\"Mozilla/5.0 (Macintosh; Intel Mac OS X 10_9_2) AppleWebKit/537.74.9 (KHTML, like Gecko) Version/7.0.2 Safari/537.74.9\"'),\n",
       " Row(userAgent='\"Mozilla/5.0 (Macintosh; Intel Mac OS X 10_9_2) AppleWebKit/537.74.9 (KHTML, like Gecko) Version/7.0.2 Safari/537.74.9\"'),\n",
       " Row(userAgent='Mozilla/5.0 (Windows NT 6.1; WOW64; rv:31.0) Gecko/20100101 Firefox/31.0'),\n",
       " Row(userAgent='Mozilla/5.0 (X11; Linux x86_64; rv:31.0) Gecko/20100101 Firefox/31.0'),\n",
       " Row(userAgent='\"Mozilla/5.0 (Macintosh; Intel Mac OS X 10_9_4) AppleWebKit/537.36 (KHTML, like Gecko) Chrome/36.0.1985.125 Safari/537.36\"'),\n",
       " Row(userAgent='\"Mozilla/5.0 (Windows NT 6.3; WOW64) AppleWebKit/537.36 (KHTML, like Gecko) Chrome/36.0.1985.125 Safari/537.36\"'),\n",
       " Row(userAgent='Mozilla/5.0 (Windows NT 6.1; WOW64; rv:31.0) Gecko/20100101 Firefox/31.0'),\n",
       " Row(userAgent='\"Mozilla/5.0 (Macintosh; Intel Mac OS X 10_9_4) AppleWebKit/537.77.4 (KHTML, like Gecko) Version/7.0.5 Safari/537.77.4\"'),\n",
       " Row(userAgent='\"Mozilla/5.0 (Macintosh; Intel Mac OS X 10_9_4) AppleWebKit/537.77.4 (KHTML, like Gecko) Version/7.0.5 Safari/537.77.4\"'),\n",
       " Row(userAgent='Mozilla/5.0 (Windows NT 6.2; WOW64; rv:31.0) Gecko/20100101 Firefox/31.0'),\n",
       " Row(userAgent='Mozilla/5.0 (Windows NT 6.2; WOW64; rv:31.0) Gecko/20100101 Firefox/31.0'),\n",
       " Row(userAgent='\"Mozilla/5.0 (Windows NT 6.1; WOW64) AppleWebKit/537.36 (KHTML, like Gecko) Chrome/36.0.1985.143 Safari/537.36\"'),\n",
       " Row(userAgent='\"Mozilla/5.0 (Macintosh; Intel Mac OS X 10_9_4) AppleWebKit/537.36 (KHTML, like Gecko) Chrome/36.0.1985.143 Safari/537.36\"'),\n",
       " Row(userAgent='Mozilla/5.0 (Windows NT 6.2; WOW64; rv:31.0) Gecko/20100101 Firefox/31.0'),\n",
       " Row(userAgent='Mozilla/5.0 (Windows NT 6.1; WOW64; rv:31.0) Gecko/20100101 Firefox/31.0'),\n",
       " Row(userAgent='Mozilla/5.0 (Windows NT 6.2; WOW64; rv:31.0) Gecko/20100101 Firefox/31.0'),\n",
       " Row(userAgent='\"Mozilla/5.0 (Windows NT 6.1; WOW64) AppleWebKit/537.36 (KHTML, like Gecko) Chrome/36.0.1985.143 Safari/537.36\"'),\n",
       " Row(userAgent='Mozilla/5.0 (Windows NT 6.2; WOW64; rv:31.0) Gecko/20100101 Firefox/31.0'),\n",
       " Row(userAgent='Mozilla/5.0 (Windows NT 6.3; WOW64; rv:31.0) Gecko/20100101 Firefox/31.0')]"
      ]
     },
     "execution_count": 30,
     "metadata": {},
     "output_type": "execute_result"
    }
   ],
   "source": [
    "sparkify_timestamped.select(\"userAgent\").take(100)"
   ]
  },
  {
   "cell_type": "code",
   "execution_count": 31,
   "metadata": {},
   "outputs": [],
   "source": [
    "#extract data from userAgent\n",
    "\n",
    "#write function to extract data on device type\n",
    "def extract_device(x):\n",
    "    '''\n",
    "    Function extracts device information from userAgent strings.\n",
    "    Input:\n",
    "        x: agentUser string\n",
    "    Output:\n",
    "        \"Windows\" / \"Mac\" / \"Linux\" / \"iPad\" / \"iPhone\" / \"Android\" / \"Other\": device or operating system type\n",
    "    '''\n",
    "    if \"Windows\" in x:\n",
    "        return \"Windows\"\n",
    "    elif \"Macintosh\" in x:\n",
    "        return \"Mac\"\n",
    "    elif \"Linux\" in x: \n",
    "        return \"Linux\" #mostly PC but can be server or TV as well\n",
    "    elif \"iPad\" in x:\n",
    "        return \"iPad\"\n",
    "    elif \"iPhone\" in x:\n",
    "        return \"iPhone\"\n",
    "    elif \"Android\" in x:\n",
    "        return \"Android\" #might refer to Andriod mobile or tablet as well\n",
    "    else:\n",
    "        return \"Undefined\""
   ]
  },
  {
   "cell_type": "code",
   "execution_count": 32,
   "metadata": {},
   "outputs": [],
   "source": [
    "#create udf function from it\n",
    "extract_device_udf = udf(lambda x: extract_device(x), StringType())"
   ]
  },
  {
   "cell_type": "code",
   "execution_count": 33,
   "metadata": {},
   "outputs": [],
   "source": [
    "#apply udf function to extract devices\n",
    "sparkify_with_devices = sparkify_timestamped.withColumn(\"device\", extract_device_udf(sparkify_timestamped[\"userAgent\"]))"
   ]
  },
  {
   "cell_type": "code",
   "execution_count": 34,
   "metadata": {},
   "outputs": [
    {
     "name": "stdout",
     "output_type": "stream",
     "text": [
      "+-------+\n",
      "| device|\n",
      "+-------+\n",
      "|Windows|\n",
      "|Windows|\n",
      "|    Mac|\n",
      "|Windows|\n",
      "|Windows|\n",
      "+-------+\n",
      "only showing top 5 rows\n",
      "\n"
     ]
    }
   ],
   "source": [
    "sparkify_with_devices.select(\"device\").show(5)"
   ]
  },
  {
   "cell_type": "markdown",
   "metadata": {},
   "source": [
    "#### 2.5.3) Transform location"
   ]
  },
  {
   "cell_type": "code",
   "execution_count": 35,
   "metadata": {},
   "outputs": [
    {
     "data": {
      "text/plain": [
       "[Row(location='McAllen-Edinburg-Mission, TX'),\n",
       " Row(location='McAllen-Edinburg-Mission, TX'),\n",
       " Row(location='Tampa-St. Petersburg-Clearwater, FL'),\n",
       " Row(location='Morgantown, WV'),\n",
       " Row(location='Hartford-West Hartford-East Hartford, CT'),\n",
       " Row(location='Lexington-Fayette, KY'),\n",
       " Row(location='Allentown-Bethlehem-Easton, PA-NJ'),\n",
       " Row(location='Philadelphia-Camden-Wilmington, PA-NJ-DE-MD'),\n",
       " Row(location='Spokane-Spokane Valley, WA'),\n",
       " Row(location='Jackson, MS')]"
      ]
     },
     "execution_count": 35,
     "metadata": {},
     "output_type": "execute_result"
    }
   ],
   "source": [
    "#check location data\n",
    "sparkify_with_devices.select(\"location\").take(10)"
   ]
  },
  {
   "cell_type": "code",
   "execution_count": 36,
   "metadata": {},
   "outputs": [
    {
     "data": {
      "text/plain": [
       "114"
      ]
     },
     "execution_count": 36,
     "metadata": {},
     "output_type": "execute_result"
    }
   ],
   "source": [
    "#check number of unique values in location\n",
    "sparkify_with_devices.select(\"location\").distinct().count()"
   ]
  },
  {
   "cell_type": "code",
   "execution_count": 37,
   "metadata": {},
   "outputs": [],
   "source": [
    "#collect location parts after comma in string\n",
    "#source: https://stackoverflow.com/questions/39235704/split-spark-dataframe-string-column-into-multiple-columns\n",
    "full_df = sparkify_with_devices\n",
    "split_col = F.split(full_df[\"location\"], \", \")\n",
    "full_df = full_df.withColumn(\"area\", split_col.getItem(1))"
   ]
  },
  {
   "cell_type": "code",
   "execution_count": 38,
   "metadata": {},
   "outputs": [
    {
     "name": "stdout",
     "output_type": "stream",
     "text": [
      "+--------------------+-----------+\n",
      "|            location|       area|\n",
      "+--------------------+-----------+\n",
      "|McAllen-Edinburg-...|         TX|\n",
      "|McAllen-Edinburg-...|         TX|\n",
      "|Tampa-St. Petersb...|         FL|\n",
      "|      Morgantown, WV|         WV|\n",
      "|Hartford-West Har...|         CT|\n",
      "|Lexington-Fayette...|         KY|\n",
      "|Allentown-Bethleh...|      PA-NJ|\n",
      "|Philadelphia-Camd...|PA-NJ-DE-MD|\n",
      "|Spokane-Spokane V...|         WA|\n",
      "|         Jackson, MS|         MS|\n",
      "+--------------------+-----------+\n",
      "only showing top 10 rows\n",
      "\n"
     ]
    }
   ],
   "source": [
    "full_df.select([\"location\", \"area\"]).show(10)"
   ]
  },
  {
   "cell_type": "code",
   "execution_count": 39,
   "metadata": {},
   "outputs": [
    {
     "name": "stdout",
     "output_type": "stream",
     "text": [
      "root\n",
      " |-- artist: string (nullable = true)\n",
      " |-- auth: string (nullable = true)\n",
      " |-- firstName: string (nullable = true)\n",
      " |-- gender: string (nullable = true)\n",
      " |-- itemInSession: long (nullable = true)\n",
      " |-- lastName: string (nullable = true)\n",
      " |-- length: double (nullable = true)\n",
      " |-- level: string (nullable = true)\n",
      " |-- location: string (nullable = true)\n",
      " |-- method: string (nullable = true)\n",
      " |-- page: string (nullable = true)\n",
      " |-- registration: long (nullable = true)\n",
      " |-- sessionId: long (nullable = true)\n",
      " |-- song: string (nullable = true)\n",
      " |-- status: long (nullable = true)\n",
      " |-- ts: long (nullable = true)\n",
      " |-- userAgent: string (nullable = true)\n",
      " |-- userId: string (nullable = true)\n",
      " |-- timestamp: timestamp (nullable = true)\n",
      " |-- registration_timestamp: timestamp (nullable = true)\n",
      " |-- device: string (nullable = true)\n",
      " |-- area: string (nullable = true)\n",
      "\n"
     ]
    }
   ],
   "source": [
    "#check cleaned dataset\n",
    "full_df.printSchema()"
   ]
  },
  {
   "cell_type": "code",
   "execution_count": 40,
   "metadata": {},
   "outputs": [
    {
     "name": "stdout",
     "output_type": "stream",
     "text": [
      "The type of full_df is <class 'pyspark.sql.dataframe.DataFrame'> .\n"
     ]
    }
   ],
   "source": [
    "#check the type of full_df\n",
    "print(\"The type of full_df is\", type(full_df),\".\")"
   ]
  },
  {
   "cell_type": "markdown",
   "metadata": {},
   "source": [
    "## -- 3 -- Exploratory Data Analysis\n",
    "When you're working with the full dataset, perform EDA by loading a small subset of the data and doing basic manipulations within Spark. In this workspace, you are already provided a small subset of data you can explore.\n",
    "\n",
    "### Define Churn\n",
    "\n",
    "Once you've done some preliminary analysis, create a column `Churn` to use as the label for your model. I suggest using the `Cancellation Confirmation` events to define your churn, which happen for both paid and free users. As a bonus task, you can also look into the `Downgrade` events.\n",
    "\n",
    "### Explore Data\n",
    "Once you've defined churn, perform some exploratory data analysis to observe the behavior for users who stayed vs users who churned. You can start by exploring aggregates on these two groups of users, observing how much of a specific action they experienced per a certain time unit or number of songs played."
   ]
  },
  {
   "cell_type": "markdown",
   "metadata": {},
   "source": [
    "### 3.1) Define churn\n",
    "Churn := when `page` column value equals `Cancellation Confirmation`."
   ]
  },
  {
   "cell_type": "code",
   "execution_count": 41,
   "metadata": {},
   "outputs": [],
   "source": [
    "full_df = full_df.withColumn(\"churnEvent\", when(col(\"page\") == \"Cancellation Confirmation\", 1).otherwise(0))"
   ]
  },
  {
   "cell_type": "code",
   "execution_count": 42,
   "metadata": {},
   "outputs": [
    {
     "name": "stdout",
     "output_type": "stream",
     "text": [
      "+----------+\n",
      "|churnEvent|\n",
      "+----------+\n",
      "|         1|\n",
      "|         0|\n",
      "+----------+\n",
      "\n"
     ]
    }
   ],
   "source": [
    "full_df.select(\"churnEvent\").distinct().show()"
   ]
  },
  {
   "cell_type": "code",
   "execution_count": 43,
   "metadata": {},
   "outputs": [],
   "source": [
    "#assign churn label to each record which belongs to a churner customer\n",
    "full_df = full_df.withColumn(\"churnerUser\", F.max(\"churnEvent\").over(Window.partitionBy(\"UserId\")))"
   ]
  },
  {
   "cell_type": "markdown",
   "metadata": {},
   "source": [
    "### 3.2) Explore data"
   ]
  },
  {
   "cell_type": "code",
   "execution_count": 44,
   "metadata": {},
   "outputs": [],
   "source": [
    "#create temporary view to enable SQL queries\n",
    "full_df.createOrReplaceTempView(\"full_table\")"
   ]
  },
  {
   "cell_type": "markdown",
   "metadata": {},
   "source": [
    "Spark dataframes will be transformed into pandas dataframes to enable visualization by matplotlib."
   ]
  },
  {
   "cell_type": "markdown",
   "metadata": {},
   "source": [
    "#### 3.2.1) Check overall churn proportion"
   ]
  },
  {
   "cell_type": "code",
   "execution_count": 45,
   "metadata": {},
   "outputs": [
    {
     "name": "stdout",
     "output_type": "stream",
     "text": [
      "+-----------+-----+-----+\n",
      "|churnerUser|count|share|\n",
      "+-----------+-----+-----+\n",
      "|          1|   52| 0.23|\n",
      "|          0|  173| 0.77|\n",
      "+-----------+-----+-----+\n",
      "\n"
     ]
    }
   ],
   "source": [
    "#count the number and calculate proportion of churners\n",
    "userNumber = full_df.select(\"userId\").distinct().count()\n",
    "full_df.select(\"userId\",\"churnerUser\").distinct().groupby(\"churnerUser\").count().withColumn(\"share\", F.round(col(\"count\")/lit(userNumber),2)).show()"
   ]
  },
  {
   "cell_type": "code",
   "execution_count": 46,
   "metadata": {},
   "outputs": [
    {
     "data": {
      "text/plain": [
       "0.2311111111111111"
      ]
     },
     "execution_count": 46,
     "metadata": {},
     "output_type": "execute_result"
    }
   ],
   "source": [
    "#calculate the exact proportion of churners\n",
    "churnProportion = full_df.filter(full_df[\"churnEvent\"]==1).select(\"userId\").distinct().count()/userNumber\n",
    "churnProportion"
   ]
  },
  {
   "cell_type": "code",
   "execution_count": 47,
   "metadata": {},
   "outputs": [],
   "source": [
    "churn_count = full_df.select(\"userId\",\"churnerUser\").distinct().groupby(\"churnerUser\").count()"
   ]
  },
  {
   "cell_type": "code",
   "execution_count": 48,
   "metadata": {},
   "outputs": [
    {
     "data": {
      "text/html": [
       "<div>\n",
       "<style scoped>\n",
       "    .dataframe tbody tr th:only-of-type {\n",
       "        vertical-align: middle;\n",
       "    }\n",
       "\n",
       "    .dataframe tbody tr th {\n",
       "        vertical-align: top;\n",
       "    }\n",
       "\n",
       "    .dataframe thead th {\n",
       "        text-align: right;\n",
       "    }\n",
       "</style>\n",
       "<table border=\"1\" class=\"dataframe\">\n",
       "  <thead>\n",
       "    <tr style=\"text-align: right;\">\n",
       "      <th></th>\n",
       "      <th>churnerUser</th>\n",
       "      <th>count</th>\n",
       "    </tr>\n",
       "  </thead>\n",
       "  <tbody>\n",
       "    <tr>\n",
       "      <th>0</th>\n",
       "      <td>1</td>\n",
       "      <td>52</td>\n",
       "    </tr>\n",
       "    <tr>\n",
       "      <th>1</th>\n",
       "      <td>0</td>\n",
       "      <td>173</td>\n",
       "    </tr>\n",
       "  </tbody>\n",
       "</table>\n",
       "</div>"
      ],
      "text/plain": [
       "   churnerUser  count\n",
       "0            1     52\n",
       "1            0    173"
      ]
     },
     "execution_count": 48,
     "metadata": {},
     "output_type": "execute_result"
    }
   ],
   "source": [
    "churn_count_pd = churn_count.toPandas()\n",
    "churn_count_pd"
   ]
  },
  {
   "cell_type": "code",
   "execution_count": 49,
   "metadata": {},
   "outputs": [
    {
     "data": {
      "text/html": [
       "<div>\n",
       "<style scoped>\n",
       "    .dataframe tbody tr th:only-of-type {\n",
       "        vertical-align: middle;\n",
       "    }\n",
       "\n",
       "    .dataframe tbody tr th {\n",
       "        vertical-align: top;\n",
       "    }\n",
       "\n",
       "    .dataframe thead th {\n",
       "        text-align: right;\n",
       "    }\n",
       "</style>\n",
       "<table border=\"1\" class=\"dataframe\">\n",
       "  <thead>\n",
       "    <tr style=\"text-align: right;\">\n",
       "      <th></th>\n",
       "      <th>Churned</th>\n",
       "      <th>No. of users</th>\n",
       "    </tr>\n",
       "  </thead>\n",
       "  <tbody>\n",
       "    <tr>\n",
       "      <th>0</th>\n",
       "      <td>1</td>\n",
       "      <td>52</td>\n",
       "    </tr>\n",
       "    <tr>\n",
       "      <th>1</th>\n",
       "      <td>0</td>\n",
       "      <td>173</td>\n",
       "    </tr>\n",
       "  </tbody>\n",
       "</table>\n",
       "</div>"
      ],
      "text/plain": [
       "   Churned  No. of users\n",
       "0        1            52\n",
       "1        0           173"
      ]
     },
     "execution_count": 49,
     "metadata": {},
     "output_type": "execute_result"
    }
   ],
   "source": [
    "churn_count_pd = churn_count_pd.rename(columns={\"churnerUser\":\"Churned\", \"count\":\"No. of users\"})\n",
    "churn_count_pd"
   ]
  },
  {
   "cell_type": "code",
   "execution_count": 50,
   "metadata": {},
   "outputs": [
    {
     "data": {
      "text/html": [
       "<div>\n",
       "<style scoped>\n",
       "    .dataframe tbody tr th:only-of-type {\n",
       "        vertical-align: middle;\n",
       "    }\n",
       "\n",
       "    .dataframe tbody tr th {\n",
       "        vertical-align: top;\n",
       "    }\n",
       "\n",
       "    .dataframe thead th {\n",
       "        text-align: right;\n",
       "    }\n",
       "</style>\n",
       "<table border=\"1\" class=\"dataframe\">\n",
       "  <thead>\n",
       "    <tr style=\"text-align: right;\">\n",
       "      <th></th>\n",
       "      <th>Churned</th>\n",
       "      <th>No. of users</th>\n",
       "    </tr>\n",
       "    <tr>\n",
       "      <th>Churned</th>\n",
       "      <th></th>\n",
       "      <th></th>\n",
       "    </tr>\n",
       "  </thead>\n",
       "  <tbody>\n",
       "    <tr>\n",
       "      <th>1</th>\n",
       "      <td>1</td>\n",
       "      <td>52</td>\n",
       "    </tr>\n",
       "    <tr>\n",
       "      <th>0</th>\n",
       "      <td>0</td>\n",
       "      <td>173</td>\n",
       "    </tr>\n",
       "  </tbody>\n",
       "</table>\n",
       "</div>"
      ],
      "text/plain": [
       "         Churned  No. of users\n",
       "Churned                       \n",
       "1              1            52\n",
       "0              0           173"
      ]
     },
     "execution_count": 50,
     "metadata": {},
     "output_type": "execute_result"
    }
   ],
   "source": [
    "churn_count_pd = churn_count_pd.set_index(\"Churned\", drop=False)\n",
    "churn_count_pd"
   ]
  },
  {
   "cell_type": "code",
   "execution_count": 51,
   "metadata": {},
   "outputs": [
    {
     "data": {
      "image/png": "[encoded data removed]",
      "text/plain": [
       "<matplotlib.figure.Figure at 0x7f8ae012f668>"
      ]
     },
     "metadata": {},
     "output_type": "display_data"
    }
   ],
   "source": [
    "#create pie chart to show the proportion of churners in the dataset\n",
    "plt.pie(churn_count_pd[\"No. of users\"].values, colors=[\"tab:orange\", \"tab:blue\"], autopct=\"%d%%\")\n",
    "plt.axis(\"equal\")\n",
    "plt.title(\"Proportion of churners in the dataset\")\n",
    "plt.legend([\"Churned\",\"Not churned\"])\n",
    "plt.show()"
   ]
  },
  {
   "cell_type": "markdown",
   "metadata": {},
   "source": [
    "##### Comment:\n",
    "The proportion of churn is ~23% in the dataset. As the label (`churnerUser`) in the models to be prepared is imbalanced F1 score will serve as a better model evaluation metrics than accuracy."
   ]
  },
  {
   "cell_type": "markdown",
   "metadata": {},
   "source": [
    "#### 3.2.2) Check churn across different features"
   ]
  },
  {
   "cell_type": "code",
   "execution_count": 52,
   "metadata": {},
   "outputs": [
    {
     "name": "stdout",
     "output_type": "stream",
     "text": [
      "+------+-----------+----------------------+\n",
      "|gender|churnerUser|count(DISTINCT userId)|\n",
      "+------+-----------+----------------------+\n",
      "|     M|          1|                    32|\n",
      "|     F|          0|                    84|\n",
      "|     F|          1|                    20|\n",
      "|     M|          0|                    89|\n",
      "+------+-----------+----------------------+\n",
      "\n"
     ]
    }
   ],
   "source": [
    "#churners by gender\n",
    "full_df.groupby(\"gender\", \"churnerUser\").agg(countDistinct(\"userId\")).show()"
   ]
  },
  {
   "cell_type": "code",
   "execution_count": 53,
   "metadata": {},
   "outputs": [
    {
     "name": "stdout",
     "output_type": "stream",
     "text": [
      "+------+-----------+-----+-----+\n",
      "|gender|churnerUser|count|share|\n",
      "+------+-----------+-----+-----+\n",
      "|     M|          1|   32| 0.14|\n",
      "|     F|          0|   84| 0.37|\n",
      "|     F|          1|   20| 0.09|\n",
      "|     M|          0|   89|  0.4|\n",
      "+------+-----------+-----+-----+\n",
      "\n"
     ]
    }
   ],
   "source": [
    "# churner proportion and gender\n",
    "full_df.select(\"userId\",\"gender\",\"churnerUser\").distinct().groupby(\"gender\", \"churnerUser\").count().withColumn(\"share\", F.round(col(\"count\")/lit(userNumber),2)).show()"
   ]
  },
  {
   "cell_type": "markdown",
   "metadata": {},
   "source": [
    "##### Note:\n",
    "These proportions refer to the complete dataset thus are not directly appropriate to compare the proportion of churners by gender."
   ]
  },
  {
   "cell_type": "code",
   "execution_count": 54,
   "metadata": {},
   "outputs": [],
   "source": [
    "gender_churner_pddf = full_df.groupby(\"gender\", \"churnerUser\").agg(countDistinct(\"userId\")).toPandas().rename(columns={\"gender\":\"Gender\", \"churnerUser\":\"Type\", \"count(DISTINCT userId)\":\"No. of users\"})"
   ]
  },
  {
   "cell_type": "code",
   "execution_count": 55,
   "metadata": {},
   "outputs": [
    {
     "data": {
      "text/html": [
       "<div>\n",
       "<style scoped>\n",
       "    .dataframe tbody tr th:only-of-type {\n",
       "        vertical-align: middle;\n",
       "    }\n",
       "\n",
       "    .dataframe tbody tr th {\n",
       "        vertical-align: top;\n",
       "    }\n",
       "\n",
       "    .dataframe thead th {\n",
       "        text-align: right;\n",
       "    }\n",
       "</style>\n",
       "<table border=\"1\" class=\"dataframe\">\n",
       "  <thead>\n",
       "    <tr style=\"text-align: right;\">\n",
       "      <th></th>\n",
       "      <th>Gender</th>\n",
       "      <th>Type</th>\n",
       "      <th>No. of users</th>\n",
       "    </tr>\n",
       "  </thead>\n",
       "  <tbody>\n",
       "    <tr>\n",
       "      <th>0</th>\n",
       "      <td>M</td>\n",
       "      <td>1</td>\n",
       "      <td>32</td>\n",
       "    </tr>\n",
       "    <tr>\n",
       "      <th>1</th>\n",
       "      <td>F</td>\n",
       "      <td>0</td>\n",
       "      <td>84</td>\n",
       "    </tr>\n",
       "    <tr>\n",
       "      <th>2</th>\n",
       "      <td>F</td>\n",
       "      <td>1</td>\n",
       "      <td>20</td>\n",
       "    </tr>\n",
       "    <tr>\n",
       "      <th>3</th>\n",
       "      <td>M</td>\n",
       "      <td>0</td>\n",
       "      <td>89</td>\n",
       "    </tr>\n",
       "  </tbody>\n",
       "</table>\n",
       "</div>"
      ],
      "text/plain": [
       "  Gender  Type  No. of users\n",
       "0      M     1            32\n",
       "1      F     0            84\n",
       "2      F     1            20\n",
       "3      M     0            89"
      ]
     },
     "execution_count": 55,
     "metadata": {},
     "output_type": "execute_result"
    }
   ],
   "source": [
    "gender_churner_pddf"
   ]
  },
  {
   "cell_type": "code",
   "execution_count": 56,
   "metadata": {},
   "outputs": [],
   "source": [
    "gender_churner_pivot = gender_churner_pddf.pivot(index=\"Gender\", columns=\"Type\")[\"No. of users\"]"
   ]
  },
  {
   "cell_type": "code",
   "execution_count": 57,
   "metadata": {},
   "outputs": [
    {
     "data": {
      "text/html": [
       "<div>\n",
       "<style scoped>\n",
       "    .dataframe tbody tr th:only-of-type {\n",
       "        vertical-align: middle;\n",
       "    }\n",
       "\n",
       "    .dataframe tbody tr th {\n",
       "        vertical-align: top;\n",
       "    }\n",
       "\n",
       "    .dataframe thead th {\n",
       "        text-align: right;\n",
       "    }\n",
       "</style>\n",
       "<table border=\"1\" class=\"dataframe\">\n",
       "  <thead>\n",
       "    <tr style=\"text-align: right;\">\n",
       "      <th>Type</th>\n",
       "      <th>0</th>\n",
       "      <th>1</th>\n",
       "    </tr>\n",
       "    <tr>\n",
       "      <th>Gender</th>\n",
       "      <th></th>\n",
       "      <th></th>\n",
       "    </tr>\n",
       "  </thead>\n",
       "  <tbody>\n",
       "    <tr>\n",
       "      <th>F</th>\n",
       "      <td>84</td>\n",
       "      <td>20</td>\n",
       "    </tr>\n",
       "    <tr>\n",
       "      <th>M</th>\n",
       "      <td>89</td>\n",
       "      <td>32</td>\n",
       "    </tr>\n",
       "  </tbody>\n",
       "</table>\n",
       "</div>"
      ],
      "text/plain": [
       "Type     0   1\n",
       "Gender        \n",
       "F       84  20\n",
       "M       89  32"
      ]
     },
     "execution_count": 57,
     "metadata": {},
     "output_type": "execute_result"
    }
   ],
   "source": [
    "gender_churner_pivot"
   ]
  },
  {
   "cell_type": "code",
   "execution_count": 58,
   "metadata": {},
   "outputs": [
    {
     "data": {
      "text/html": [
       "<div>\n",
       "<style scoped>\n",
       "    .dataframe tbody tr th:only-of-type {\n",
       "        vertical-align: middle;\n",
       "    }\n",
       "\n",
       "    .dataframe tbody tr th {\n",
       "        vertical-align: top;\n",
       "    }\n",
       "\n",
       "    .dataframe thead th {\n",
       "        text-align: right;\n",
       "    }\n",
       "</style>\n",
       "<table border=\"1\" class=\"dataframe\">\n",
       "  <thead>\n",
       "    <tr style=\"text-align: right;\">\n",
       "      <th>Type</th>\n",
       "      <th>0</th>\n",
       "      <th>1</th>\n",
       "      <th>Gender</th>\n",
       "    </tr>\n",
       "    <tr>\n",
       "      <th>Gender</th>\n",
       "      <th></th>\n",
       "      <th></th>\n",
       "      <th></th>\n",
       "    </tr>\n",
       "  </thead>\n",
       "  <tbody>\n",
       "    <tr>\n",
       "      <th>F</th>\n",
       "      <td>84</td>\n",
       "      <td>20</td>\n",
       "      <td>F</td>\n",
       "    </tr>\n",
       "    <tr>\n",
       "      <th>M</th>\n",
       "      <td>89</td>\n",
       "      <td>32</td>\n",
       "      <td>M</td>\n",
       "    </tr>\n",
       "  </tbody>\n",
       "</table>\n",
       "</div>"
      ],
      "text/plain": [
       "Type     0   1 Gender\n",
       "Gender               \n",
       "F       84  20      F\n",
       "M       89  32      M"
      ]
     },
     "execution_count": 58,
     "metadata": {},
     "output_type": "execute_result"
    }
   ],
   "source": [
    "gender_churner_pivot2 = gender_churner_pivot\n",
    "gender_churner_pivot2[\"Gender\"]=gender_churner_pivot2.index\n",
    "gender_churner_pivot2"
   ]
  },
  {
   "cell_type": "code",
   "execution_count": 59,
   "metadata": {},
   "outputs": [],
   "source": [
    "gender_churner_pivot3 = gender_churner_pivot2\n",
    "gender_churner_pivot3.index = [0,1]"
   ]
  },
  {
   "cell_type": "code",
   "execution_count": 60,
   "metadata": {},
   "outputs": [
    {
     "data": {
      "text/html": [
       "<div>\n",
       "<style scoped>\n",
       "    .dataframe tbody tr th:only-of-type {\n",
       "        vertical-align: middle;\n",
       "    }\n",
       "\n",
       "    .dataframe tbody tr th {\n",
       "        vertical-align: top;\n",
       "    }\n",
       "\n",
       "    .dataframe thead th {\n",
       "        text-align: right;\n",
       "    }\n",
       "</style>\n",
       "<table border=\"1\" class=\"dataframe\">\n",
       "  <thead>\n",
       "    <tr style=\"text-align: right;\">\n",
       "      <th>Type</th>\n",
       "      <th>0</th>\n",
       "      <th>1</th>\n",
       "      <th>Gender</th>\n",
       "    </tr>\n",
       "  </thead>\n",
       "  <tbody>\n",
       "    <tr>\n",
       "      <th>0</th>\n",
       "      <td>84</td>\n",
       "      <td>20</td>\n",
       "      <td>F</td>\n",
       "    </tr>\n",
       "    <tr>\n",
       "      <th>1</th>\n",
       "      <td>89</td>\n",
       "      <td>32</td>\n",
       "      <td>M</td>\n",
       "    </tr>\n",
       "  </tbody>\n",
       "</table>\n",
       "</div>"
      ],
      "text/plain": [
       "Type   0   1 Gender\n",
       "0     84  20      F\n",
       "1     89  32      M"
      ]
     },
     "execution_count": 60,
     "metadata": {},
     "output_type": "execute_result"
    }
   ],
   "source": [
    "gender_churner_pivot3"
   ]
  },
  {
   "cell_type": "code",
   "execution_count": 61,
   "metadata": {},
   "outputs": [],
   "source": [
    "gender_churner_pivot4 = gender_churner_pivot3.iloc[:, [2,0,1]]"
   ]
  },
  {
   "cell_type": "code",
   "execution_count": 62,
   "metadata": {},
   "outputs": [],
   "source": [
    "gender_churner_pivot4 = gender_churner_pivot4.rename(columns={0:\"Non-churner\", 1:\"Churner\"})\n",
    "#gender_churner_pivot4"
   ]
  },
  {
   "cell_type": "code",
   "execution_count": 63,
   "metadata": {},
   "outputs": [
    {
     "data": {
      "text/html": [
       "<div>\n",
       "<style scoped>\n",
       "    .dataframe tbody tr th:only-of-type {\n",
       "        vertical-align: middle;\n",
       "    }\n",
       "\n",
       "    .dataframe tbody tr th {\n",
       "        vertical-align: top;\n",
       "    }\n",
       "\n",
       "    .dataframe thead th {\n",
       "        text-align: right;\n",
       "    }\n",
       "</style>\n",
       "<table border=\"1\" class=\"dataframe\">\n",
       "  <thead>\n",
       "    <tr style=\"text-align: right;\">\n",
       "      <th>Type</th>\n",
       "      <th>Gender</th>\n",
       "      <th>Non-churner</th>\n",
       "      <th>Churner</th>\n",
       "      <th>Total</th>\n",
       "    </tr>\n",
       "  </thead>\n",
       "  <tbody>\n",
       "    <tr>\n",
       "      <th>0</th>\n",
       "      <td>F</td>\n",
       "      <td>84</td>\n",
       "      <td>20</td>\n",
       "      <td>104</td>\n",
       "    </tr>\n",
       "    <tr>\n",
       "      <th>1</th>\n",
       "      <td>M</td>\n",
       "      <td>89</td>\n",
       "      <td>32</td>\n",
       "      <td>121</td>\n",
       "    </tr>\n",
       "  </tbody>\n",
       "</table>\n",
       "</div>"
      ],
      "text/plain": [
       "Type Gender  Non-churner  Churner  Total\n",
       "0         F           84       20    104\n",
       "1         M           89       32    121"
      ]
     },
     "execution_count": 63,
     "metadata": {},
     "output_type": "execute_result"
    }
   ],
   "source": [
    "gender_churner_pivot4[\"Total\"] = gender_churner_pivot4[\"Non-churner\"] + gender_churner_pivot4[\"Churner\"]\n",
    "df_total = gender_churner_pivot4[\"Total\"]\n",
    "gender_churner_pivot4"
   ]
  },
  {
   "cell_type": "code",
   "execution_count": 64,
   "metadata": {},
   "outputs": [
    {
     "data": {
      "image/png": "[encoded data removed]",
      "text/plain": [
       "<matplotlib.figure.Figure at 0x7f8ad9b4ae80>"
      ]
     },
     "metadata": {
      "needs_background": "light"
     },
     "output_type": "display_data"
    }
   ],
   "source": [
    "#source: https://stackoverflow.com/questions/51495982/display-totals-and-percentage-in-stacked-bar-chart-using-dataframe-plot\n",
    "\n",
    "df_total = gender_churner_pivot4[\"Total\"]\n",
    "df = gender_churner_pivot4.iloc[:, 0:3]\n",
    "\n",
    "df.plot(x = \"Gender\", kind='barh', stacked = True, title = 'Users by gender', mark_right = True)\n",
    "plt.xlabel(\"Number of users\")\n",
    "\n",
    "df_rel = df[df.columns[1:]].div(df_total, 0)*100\n",
    "\n",
    "for n in df_rel:\n",
    "    for i, (cs, ab, pc, tot) in enumerate(zip(df.iloc[:, 1:].cumsum(1)[n], df[n], df_rel[n], df_total)):\n",
    "        plt.text(tot, i, str(tot), va='center')\n",
    "        plt.text(cs - ab/2, i, str(np.round(pc, 1)) + '%', va='center', ha='center')"
   ]
  },
  {
   "cell_type": "code",
   "execution_count": 65,
   "metadata": {},
   "outputs": [],
   "source": [
    "# create a dummy for paid events\n",
    "full_df = full_df.withColumn(\"paidEvent\", when(col(\"level\") == \"paid\", 1).otherwise(0))"
   ]
  },
  {
   "cell_type": "code",
   "execution_count": 66,
   "metadata": {},
   "outputs": [],
   "source": [
    "full_df = full_df.withColumn(\"paidEverUser\", F.max(\"paidEvent\").over(Window.partitionBy(\"UserId\")))"
   ]
  },
  {
   "cell_type": "code",
   "execution_count": 67,
   "metadata": {
    "scrolled": true
   },
   "outputs": [
    {
     "name": "stdout",
     "output_type": "stream",
     "text": [
      "+------------+-----------+----------------------+\n",
      "|paidEverUser|churnerUser|count(DISTINCT userId)|\n",
      "+------------+-----------+----------------------+\n",
      "|           1|          0|                   129|\n",
      "|           1|          1|                    36|\n",
      "|           0|          0|                    44|\n",
      "|           0|          1|                    16|\n",
      "+------------+-----------+----------------------+\n",
      "\n"
     ]
    }
   ],
   "source": [
    "full_df.groupby(\"paidEverUser\", \"churnerUser\").agg(countDistinct(\"userId\")).show()"
   ]
  },
  {
   "cell_type": "code",
   "execution_count": 68,
   "metadata": {},
   "outputs": [
    {
     "data": {
      "text/html": [
       "<div>\n",
       "<style scoped>\n",
       "    .dataframe tbody tr th:only-of-type {\n",
       "        vertical-align: middle;\n",
       "    }\n",
       "\n",
       "    .dataframe tbody tr th {\n",
       "        vertical-align: top;\n",
       "    }\n",
       "\n",
       "    .dataframe thead th {\n",
       "        text-align: right;\n",
       "    }\n",
       "</style>\n",
       "<table border=\"1\" class=\"dataframe\">\n",
       "  <thead>\n",
       "    <tr style=\"text-align: right;\">\n",
       "      <th></th>\n",
       "      <th>Tried paid level</th>\n",
       "      <th>Type</th>\n",
       "      <th>No. of users</th>\n",
       "    </tr>\n",
       "  </thead>\n",
       "  <tbody>\n",
       "    <tr>\n",
       "      <th>0</th>\n",
       "      <td>1</td>\n",
       "      <td>0</td>\n",
       "      <td>129</td>\n",
       "    </tr>\n",
       "    <tr>\n",
       "      <th>1</th>\n",
       "      <td>1</td>\n",
       "      <td>1</td>\n",
       "      <td>36</td>\n",
       "    </tr>\n",
       "    <tr>\n",
       "      <th>2</th>\n",
       "      <td>0</td>\n",
       "      <td>0</td>\n",
       "      <td>44</td>\n",
       "    </tr>\n",
       "    <tr>\n",
       "      <th>3</th>\n",
       "      <td>0</td>\n",
       "      <td>1</td>\n",
       "      <td>16</td>\n",
       "    </tr>\n",
       "  </tbody>\n",
       "</table>\n",
       "</div>"
      ],
      "text/plain": [
       "   Tried paid level  Type  No. of users\n",
       "0                 1     0           129\n",
       "1                 1     1            36\n",
       "2                 0     0            44\n",
       "3                 0     1            16"
      ]
     },
     "execution_count": 68,
     "metadata": {},
     "output_type": "execute_result"
    }
   ],
   "source": [
    "level_churner_pddf = full_df.groupby(\"paidEverUser\", \"churnerUser\").agg(countDistinct(\"userId\")).toPandas().rename(columns={\"paidEverUser\":\"Tried paid level\", \"churnerUser\":\"Type\", \"count(DISTINCT userId)\":\"No. of users\"})\n",
    "level_churner_pddf"
   ]
  },
  {
   "cell_type": "code",
   "execution_count": 69,
   "metadata": {},
   "outputs": [
    {
     "data": {
      "text/html": [
       "<div>\n",
       "<style scoped>\n",
       "    .dataframe tbody tr th:only-of-type {\n",
       "        vertical-align: middle;\n",
       "    }\n",
       "\n",
       "    .dataframe tbody tr th {\n",
       "        vertical-align: top;\n",
       "    }\n",
       "\n",
       "    .dataframe thead th {\n",
       "        text-align: right;\n",
       "    }\n",
       "</style>\n",
       "<table border=\"1\" class=\"dataframe\">\n",
       "  <thead>\n",
       "    <tr style=\"text-align: right;\">\n",
       "      <th>Type</th>\n",
       "      <th>0</th>\n",
       "      <th>1</th>\n",
       "    </tr>\n",
       "    <tr>\n",
       "      <th>Tried paid level</th>\n",
       "      <th></th>\n",
       "      <th></th>\n",
       "    </tr>\n",
       "  </thead>\n",
       "  <tbody>\n",
       "    <tr>\n",
       "      <th>0</th>\n",
       "      <td>44</td>\n",
       "      <td>16</td>\n",
       "    </tr>\n",
       "    <tr>\n",
       "      <th>1</th>\n",
       "      <td>129</td>\n",
       "      <td>36</td>\n",
       "    </tr>\n",
       "  </tbody>\n",
       "</table>\n",
       "</div>"
      ],
      "text/plain": [
       "Type                0   1\n",
       "Tried paid level         \n",
       "0                  44  16\n",
       "1                 129  36"
      ]
     },
     "execution_count": 69,
     "metadata": {},
     "output_type": "execute_result"
    }
   ],
   "source": [
    "level_churner_pivot = level_churner_pddf.pivot(index=\"Tried paid level\", columns=\"Type\")[\"No. of users\"]\n",
    "level_churner_pivot"
   ]
  },
  {
   "cell_type": "code",
   "execution_count": 70,
   "metadata": {},
   "outputs": [],
   "source": [
    "level_churner_pivot[\"Tried paid level\"] = level_churner_pivot.index\n",
    "#level_churner_pivot"
   ]
  },
  {
   "cell_type": "code",
   "execution_count": 71,
   "metadata": {},
   "outputs": [],
   "source": [
    "level_churner_pivot = level_churner_pivot.iloc[:,[2,0,1]]\n",
    "#level_churner_pivot"
   ]
  },
  {
   "cell_type": "code",
   "execution_count": 72,
   "metadata": {},
   "outputs": [],
   "source": [
    "level_churner_pivot = level_churner_pivot.rename(columns={0:\"Non-churner\", 1:\"Churner\"})\n",
    "#level_churner_pivot"
   ]
  },
  {
   "cell_type": "code",
   "execution_count": 73,
   "metadata": {},
   "outputs": [],
   "source": [
    "level_churner_pivot[\"Total\"] = level_churner_pivot[\"Non-churner\"] + level_churner_pivot[\"Churner\"]\n",
    "#level_churner_pivot"
   ]
  },
  {
   "cell_type": "code",
   "execution_count": 74,
   "metadata": {},
   "outputs": [],
   "source": [
    "df_total = level_churner_pivot[\"Total\"]\n",
    "df = level_churner_pivot.iloc[:, 0:3]"
   ]
  },
  {
   "cell_type": "code",
   "execution_count": 75,
   "metadata": {},
   "outputs": [
    {
     "name": "stderr",
     "output_type": "stream",
     "text": [
      "/opt/conda/lib/python3.6/site-packages/matplotlib/figure.py:1999: UserWarning: This figure includes Axes that are not compatible with tight_layout, so results might be incorrect.\n",
      "  warnings.warn(\"This figure includes Axes that are not compatible \"\n"
     ]
    },
    {
     "data": {
      "image/png": "[encoded data removed]",
      "text/plain": [
       "<matplotlib.figure.Figure at 0x7f8ad98c6438>"
      ]
     },
     "metadata": {
      "needs_background": "light"
     },
     "output_type": "display_data"
    }
   ],
   "source": [
    "plt.rcParams[\"figure.figsize\"] = [8, 5]\n",
    "plt.rcParams[\"figure.autolayout\"] = True\n",
    "\n",
    "df.plot(x = \"Tried paid level\", kind='barh', stacked = True, title = 'Users by having tried paid level', mark_right = True)\n",
    "plt.xlabel(\"Number of users\")\n",
    "\n",
    "df_rel = df[df.columns[1:]].div(df_total, 0)*100\n",
    "\n",
    "for n in df_rel:\n",
    "    for i, (cs, ab, pc, tot) in enumerate(zip(df.iloc[:, 1:].cumsum(1)[n], df[n], df_rel[n], df_total)):\n",
    "        plt.text(tot, i, str(tot), va='center')\n",
    "        plt.text(cs - ab/2, i, str(np.round(pc, 1)) + '%', va='center', ha='center')"
   ]
  },
  {
   "cell_type": "code",
   "execution_count": 76,
   "metadata": {},
   "outputs": [
    {
     "name": "stdout",
     "output_type": "stream",
     "text": [
      "+-----------+-----------+----------------------+\n",
      "|       area|churnerUser|count(DISTINCT userId)|\n",
      "+-----------+-----------+----------------------+\n",
      "|         IN|          0|                     2|\n",
      "|      IL-MO|          1|                     1|\n",
      "|         VA|          0|                     2|\n",
      "|         MD|          0|                     1|\n",
      "|         AZ|          0|                     5|\n",
      "|      MN-WI|          0|                     3|\n",
      "|         AZ|          1|                     2|\n",
      "|      VA-NC|          0|                     1|\n",
      "|         OK|          0|                     1|\n",
      "|      RI-MA|          0|                     2|\n",
      "|         TX|          1|                     3|\n",
      "|      MA-NH|          0|                     5|\n",
      "|         LA|          0|                     1|\n",
      "|         NC|          0|                     5|\n",
      "|         SC|          0|                     1|\n",
      "|         AL|          0|                     2|\n",
      "|      MO-IL|          1|                     1|\n",
      "|         TX|          0|                    13|\n",
      "|PA-NJ-DE-MD|          1|                     2|\n",
      "|         UT|          0|                     1|\n",
      "|      VA-NC|          1|                     1|\n",
      "|         WA|          0|                     2|\n",
      "|         FL|          0|                    11|\n",
      "|      NC-SC|          0|                     6|\n",
      "|   NY-NJ-PA|          0|                    10|\n",
      "|         MD|          1|                     1|\n",
      "|      GA-AL|          0|                     2|\n",
      "|         NH|          0|                     2|\n",
      "|         MT|          1|                     1|\n",
      "|         IL|          0|                     3|\n",
      "|         MT|          0|                     1|\n",
      "|         IN|          1|                     1|\n",
      "|DC-VA-MD-WV|          0|                     3|\n",
      "|         NY|          0|                     4|\n",
      "|         KY|          1|                     2|\n",
      "|      TN-VA|          0|                     1|\n",
      "|         WI|          0|                     1|\n",
      "|PA-NJ-DE-MD|          0|                     3|\n",
      "|         MS|          0|                     1|\n",
      "|      MO-IL|          0|                     5|\n",
      "|      OR-WA|          0|                     2|\n",
      "|   NY-NJ-PA|          1|                     5|\n",
      "|      SC-NC|          0|                     1|\n",
      "|         MS|          1|                     2|\n",
      "|      MD-WV|          0|                     1|\n",
      "|   IL-IN-WI|          1|                     1|\n",
      "|         TN|          0|                     1|\n",
      "|         CO|          0|                     2|\n",
      "|         KY|          0|                     1|\n",
      "|         NJ|          0|                     2|\n",
      "|         NY|          1|                     1|\n",
      "|         WA|          1|                     2|\n",
      "|      PA-NJ|          0|                     1|\n",
      "|   IL-IN-WI|          0|                     5|\n",
      "|         CT|          0|                     7|\n",
      "|         IA|          0|                     1|\n",
      "|         CA|          0|                    27|\n",
      "|         NC|          1|                     1|\n",
      "+-----------+-----------+----------------------+\n",
      "only showing top 58 rows\n",
      "\n"
     ]
    }
   ],
   "source": [
    "# user distribution across areas\n",
    "max_rows = full_df.select(\"area\").distinct().count()\n",
    "full_df.groupby(\"area\", \"churnerUser\").agg(countDistinct(\"userId\")).show(max_rows)"
   ]
  },
  {
   "cell_type": "code",
   "execution_count": 77,
   "metadata": {},
   "outputs": [],
   "source": [
    "area_churner_pddf = full_df.groupby(\"area\", \"churnerUser\").agg(countDistinct(\"userId\")).toPandas().rename(columns={\n",
    "    \"area\":\"Area\", \"churnerUser\":\"Type\", \"count(DISTINCT userId)\":\"No. of users\"})\n",
    "area_churner_pivot = area_churner_pddf.pivot(index=\"Area\", columns=\"Type\")[\"No. of users\"]\n",
    "area_churner_pivot[\"Area\"] = area_churner_pivot.index\n",
    "area_churner_pivot = area_churner_pivot.iloc[:,[2,0,1]]\n",
    "\n",
    "area_churner_pivot = area_churner_pivot.rename(columns={0:\"Non-churner\", 1:\"Churner\"})\n",
    "area_churner_pivot = area_churner_pivot.fillna(0)"
   ]
  },
  {
   "cell_type": "code",
   "execution_count": 78,
   "metadata": {},
   "outputs": [],
   "source": [
    "area_churner_pivot[\"Total\"] = area_churner_pivot[\"Non-churner\"] + area_churner_pivot[\"Churner\"]\n",
    "area_churner_pivot = area_churner_pivot.sort_values([\"Total\"], ascending=False)"
   ]
  },
  {
   "cell_type": "code",
   "execution_count": 79,
   "metadata": {},
   "outputs": [],
   "source": [
    "df_total = area_churner_pivot[\"Total\"]\n",
    "\n",
    "df = area_churner_pivot.iloc[:, 0:3]"
   ]
  },
  {
   "cell_type": "code",
   "execution_count": 80,
   "metadata": {},
   "outputs": [
    {
     "name": "stderr",
     "output_type": "stream",
     "text": [
      "/opt/conda/lib/python3.6/site-packages/matplotlib/cbook/deprecation.py:106: MatplotlibDeprecationWarning: Adding an axes using the same arguments as a previous axes currently reuses the earlier instance.  In a future version, a new instance will always be created and returned.  Meanwhile, this warning can be suppressed, and the future behavior ensured, by passing a unique label to each axes instance.\n",
      "  warnings.warn(message, mplDeprecation, stacklevel=1)\n"
     ]
    },
    {
     "data": {
      "text/plain": [
       "[Text(0,0,'CA'),\n",
       " Text(0,0,'TX'),\n",
       " Text(0,0,'NY-NJ-PA'),\n",
       " Text(0,0,'FL'),\n",
       " Text(0,0,'AZ'),\n",
       " Text(0,0,'CT'),\n",
       " Text(0,0,'NC-SC'),\n",
       " Text(0,0,'IL-IN-WI'),\n",
       " Text(0,0,'NC'),\n",
       " Text(0,0,'MO-IL'),\n",
       " Text(0,0,'MI'),\n",
       " Text(0,0,'PA-NJ-DE-MD'),\n",
       " Text(0,0,'MA-NH'),\n",
       " Text(0,0,'NY'),\n",
       " Text(0,0,'WA'),\n",
       " Text(0,0,'AL'),\n",
       " Text(0,0,'CO'),\n",
       " Text(0,0,'DC-VA-MD-WV'),\n",
       " Text(0,0,'GA'),\n",
       " Text(0,0,'IL'),\n",
       " Text(0,0,'IN'),\n",
       " Text(0,0,'OH'),\n",
       " Text(0,0,'MS'),\n",
       " Text(0,0,'MN-WI'),\n",
       " Text(0,0,'PA'),\n",
       " Text(0,0,'NV'),\n",
       " Text(0,0,'KY'),\n",
       " Text(0,0,'OR-WA'),\n",
       " Text(0,0,'VA-NC'),\n",
       " Text(0,0,'OH-KY-IN'),\n",
       " Text(0,0,'VA'),\n",
       " Text(0,0,'RI-MA'),\n",
       " Text(0,0,'SC'),\n",
       " Text(0,0,'AK'),\n",
       " Text(0,0,'NJ'),\n",
       " Text(0,0,'MT'),\n",
       " Text(0,0,'GA-AL'),\n",
       " Text(0,0,'MO-KS'),\n",
       " Text(0,0,'MD'),\n",
       " Text(0,0,'LA'),\n",
       " Text(0,0,'NH'),\n",
       " Text(0,0,'TN-VA'),\n",
       " Text(0,0,'WI'),\n",
       " Text(0,0,'AR'),\n",
       " Text(0,0,'IA'),\n",
       " Text(0,0,'UT-ID'),\n",
       " Text(0,0,'UT'),\n",
       " Text(0,0,'IL-MO'),\n",
       " Text(0,0,'SC-NC'),\n",
       " Text(0,0,'TN-MS-AR'),\n",
       " Text(0,0,'TN'),\n",
       " Text(0,0,'KY-IN'),\n",
       " Text(0,0,'PA-NJ'),\n",
       " Text(0,0,'MD-WV'),\n",
       " Text(0,0,'OR'),\n",
       " Text(0,0,'OK'),\n",
       " Text(0,0,'NE-IA'),\n",
       " Text(0,0,'WV')]"
      ]
     },
     "execution_count": 80,
     "metadata": {},
     "output_type": "execute_result"
    },
    {
     "name": "stderr",
     "output_type": "stream",
     "text": [
      "/opt/conda/lib/python3.6/site-packages/matplotlib/figure.py:1999: UserWarning: This figure includes Axes that are not compatible with tight_layout, so results might be incorrect.\n",
      "  warnings.warn(\"This figure includes Axes that are not compatible \"\n"
     ]
    },
    {
     "data": {
      "image/png": "[encoded data removed]",
      "text/plain": [
       "<matplotlib.figure.Figure at 0x7f8ad9b7fd30>"
      ]
     },
     "metadata": {
      "needs_background": "light"
     },
     "output_type": "display_data"
    }
   ],
   "source": [
    "plt.figure(figsize=(20,10))\n",
    "plt.bar(range(len(list(area_churner_pivot[\"Area\"]))), list(area_churner_pivot[\"Non-churner\"]), color=\"tab:blue\")\n",
    "plt.bar(\n",
    "    range(len(list(area_churner_pivot[\"Area\"]))),\n",
    "    list(area_churner_pivot[\"Churner\"]),\n",
    "    bottom=list(area_churner_pivot[\"Non-churner\"]),\n",
    "    color=\"tab:orange\")\n",
    "\n",
    "plt.ylabel(\"Number of users\")\n",
    "plt.xlabel(\"Area code\")\n",
    "plt.title (\"Users by area\")\n",
    "churnerType = [\"Non-churner\", \"Churner\"]\n",
    "plt.legend(churnerType)\n",
    "\n",
    "ax = plt.subplot()\n",
    "ax.set_xticks(list(range(len(list(area_churner_pivot[\"Area\"])))))\n",
    "ax.set_xticklabels(list(area_churner_pivot[\"Area\"]), rotation=90)"
   ]
  },
  {
   "cell_type": "code",
   "execution_count": 81,
   "metadata": {},
   "outputs": [
    {
     "name": "stderr",
     "output_type": "stream",
     "text": [
      "/opt/conda/lib/python3.6/site-packages/matplotlib/cbook/deprecation.py:106: MatplotlibDeprecationWarning: Adding an axes using the same arguments as a previous axes currently reuses the earlier instance.  In a future version, a new instance will always be created and returned.  Meanwhile, this warning can be suppressed, and the future behavior ensured, by passing a unique label to each axes instance.\n",
      "  warnings.warn(message, mplDeprecation, stacklevel=1)\n",
      "/opt/conda/lib/python3.6/site-packages/matplotlib/figure.py:1999: UserWarning: This figure includes Axes that are not compatible with tight_layout, so results might be incorrect.\n",
      "  warnings.warn(\"This figure includes Axes that are not compatible \"\n"
     ]
    },
    {
     "data": {
      "image/png": "[encoded data removed]",
      "text/plain": [
       "<matplotlib.figure.Figure at 0x7f8ad9737390>"
      ]
     },
     "metadata": {
      "needs_background": "light"
     },
     "output_type": "display_data"
    }
   ],
   "source": [
    "churnerNum = [int(x) for x in list(area_churner_pivot[\"Churner\"]/area_churner_pivot[\"Total\"]*100)]\n",
    "churnerPercList = list()\n",
    "\n",
    "for x in churnerNum:\n",
    "    churnerPercList.append(str(x)+\"%\")\n",
    "\n",
    "x_list = list(area_churner_pivot[\"Area\"])[:15]\n",
    "y1_list = list(area_churner_pivot[\"Non-churner\"])[:15]\n",
    "y2_list = list(area_churner_pivot[\"Churner\"])[:15]\n",
    "y_text = [y1 + y2/2 for y1,y2 in zip(y1_list, y2_list)][:15]\n",
    "\n",
    "plt.figure(figsize=(15,5))\n",
    "plt.bar(range(len(x_list)), y1_list, color=\"tab:blue\")\n",
    "plt.bar(\n",
    "    range(len(x_list)),\n",
    "    y2_list,\n",
    "    bottom=y1_list,\n",
    "    color=\"tab:orange\")\n",
    "plt.title(\"Users by area\")\n",
    "churnerType = [\"Non-churner\", \"Churner\"]\n",
    "plt.legend(churnerType)\n",
    "plt.xlabel(\"Area code\")\n",
    "plt.ylabel(\"Number of users\")\n",
    "\n",
    "ax = plt.subplot()\n",
    "ax.set_xticks(list(range(len(x_list))))\n",
    "ax.set_xticklabels(x_list, rotation=90)\n",
    "\n",
    "for i in range(len(x_list)):\n",
    "        plt.text(i, y_text[i], churnerPercList[i], ha = 'center')"
   ]
  },
  {
   "cell_type": "code",
   "execution_count": 82,
   "metadata": {},
   "outputs": [
    {
     "data": {
      "text/plain": [
       "<matplotlib.figure.Figure at 0x7f8ad96c00f0>"
      ]
     },
     "metadata": {},
     "output_type": "display_data"
    },
    {
     "name": "stderr",
     "output_type": "stream",
     "text": [
      "/opt/conda/lib/python3.6/site-packages/matplotlib/figure.py:1999: UserWarning: This figure includes Axes that are not compatible with tight_layout, so results might be incorrect.\n",
      "  warnings.warn(\"This figure includes Axes that are not compatible \"\n"
     ]
    },
    {
     "data": {
      "image/png": "[encoded data removed]",
      "text/plain": [
       "<matplotlib.figure.Figure at 0x7f8ad9697a58>"
      ]
     },
     "metadata": {
      "needs_background": "light"
     },
     "output_type": "display_data"
    }
   ],
   "source": [
    "# churners by user agent\n",
    "device_churner_pddf = full_df.groupby(\"device\", \"churnerUser\").agg(countDistinct(\"userId\")).toPandas().rename(\n",
    "    columns={\"device\":\"Device\", \"churnerUser\":\"Type\", \"count(DISTINCT userId)\":\"No. of users\"})\n",
    "device_churner_pivot = device_churner_pddf.pivot(index=\"Device\", columns=\"Type\")[\"No. of users\"]\n",
    "device_churner_pivot[\"Device\"] = device_churner_pivot.index\n",
    "device_churner_pivot = device_churner_pivot.iloc[:, [2,0,1]]\n",
    "device_churner_pivot = device_churner_pivot.rename(columns={0:\"Non-churner\", 1:\"Churner\"})\n",
    "device_churner_pivot = device_churner_pivot.fillna(0)\n",
    "device_churner_pivot[\"Total\"] = device_churner_pivot[\"Non-churner\"] + device_churner_pivot[\"Churner\"]\n",
    "device_churner_pivot = device_churner_pivot.sort_values([\"Total\"], ascending=True)\n",
    "\n",
    "plt.rcParams[\"figure.figsize\"] = [10, 5]\n",
    "plt.rcParams[\"figure.autolayout\"] = True\n",
    "\n",
    "df_total = [int(x) for x in device_churner_pivot[\"Total\"]]\n",
    "df = device_churner_pivot.iloc[:, 0:3]\n",
    "\n",
    "plt.figure(figsize=(20,8))\n",
    "df.plot(x = \"Device\", kind='barh', stacked = True, title = 'Users by device', mark_right = True)\n",
    "plt.xlabel(\"Number of users\")\n",
    "\n",
    "df_rel = df[df.columns[1:]].div(df_total, 0)*100\n",
    "\n",
    "for n in df_rel:\n",
    "    for i, (cs, ab, pc, tot) in enumerate(zip(df.iloc[:, 1:].cumsum(1)[n], df[n], df_rel[n], df_total)):\n",
    "        plt.text(tot, i, str(tot), va='center')\n",
    "        plt.text(cs - ab/2, i, str(np.int(pc)) + '%', va='center', ha='center')"
   ]
  },
  {
   "cell_type": "markdown",
   "metadata": {},
   "source": [
    "##### Comments:\n",
    "- Regarding gender, there are 16% more men in the sample than women and churn proportion is larger among men than women.\n",
    "- Regarding service level (free or paid), a large majority of users have tried the fee-paying version of Sparkify. Churn is slightly smaller among them (21.8%) than for those who only have tried the free version (26.7%).\n",
    "- Regarding devices, based on the user agent information retrieved per event and aggregated at device and user level, 93% of users used Sparkify on desktop (based on the operating system). Churn proportion among users who used Sparkify on Windows or a Mac OS is slightly smaller (21-22%) though than those who used it from Linux (41%). If the sample size were not so small one could conclude that\n",
    "  - either the Sparkify app tailored for Linux (assuming that Sparkify is not merely a webapp) is worse than that for Windows/Mac OS\n",
    "  - or users who use Linux devices have remarkably different requirements or habits so that they tend to churn more.\n",
    "- The dataset categorized the location of users at settlement level and at a more aggregated level, one that consisted of both US states and metropolitan areas. Considering the small size of the sample I only applied the more aggregated level for analysis. It is observable that most Sparkify users are located in states/metropolitan areas of the largest population such as California, Texas and the New York City and Philadelphia metropolitan areas. The proportion of user churn is widely varying among these areas (from 0 to 60%) but the differences might be solely due to sampling rather than underlying differences among users from different areas."
   ]
  },
  {
   "cell_type": "markdown",
   "metadata": {},
   "source": [
    "## -- 4 -- Feature Engineering\n",
    "Once you've familiarized yourself with the data, build out the features you find promising to train your model on. To work with the full dataset, you can follow the following steps.\n",
    "- Write a script to extract the necessary features from the smaller subset of data\n",
    "- Ensure that your script is scalable, using the best practices discussed in Lesson 3\n",
    "- Try your script on the full data set, debugging your script if necessary\n",
    "\n",
    "If you are working in the classroom workspace, you can just extract features based on the small subset of data contained here. Be sure to transfer over this work to the larger dataset when you work on your Spark cluster."
   ]
  },
  {
   "cell_type": "code",
   "execution_count": 83,
   "metadata": {},
   "outputs": [],
   "source": [
    "#create user level dataset for further exploration\n",
    "user_df = full_df.select(\"userID\",\"churnerUser\").distinct()"
   ]
  },
  {
   "cell_type": "code",
   "execution_count": 84,
   "metadata": {},
   "outputs": [],
   "source": [
    "# create function to make dummy features from categorical variables that are static for a user\n",
    "def dummyMakerFunction(records_df, ID_name, variable_name):\n",
    "    '''\n",
    "    Create dummy variable from a given variable.\n",
    "    \n",
    "    IN:\n",
    "        records_df: dataframe of records\n",
    "        ID_name: name of the column in the dataframe that shall be used as ID\n",
    "        variable_name: name of the column for which dummy variables shall be made\n",
    "        \n",
    "    OUT:\n",
    "        df: new dataframe consisting of columns of the ID and the dummy variables for the selected variable\n",
    "    '''\n",
    "    \n",
    "    df = records_df.groupby(ID_name).pivot(variable_name).agg(F.lit(1)).na.fill(0)\n",
    "    df = df.select([col(c).alias(variable_name+\"_\"+c) if c not in \"userId\" else c for c in df.columns])\n",
    "    \n",
    "    return df"
   ]
  },
  {
   "cell_type": "code",
   "execution_count": 85,
   "metadata": {},
   "outputs": [],
   "source": [
    "# create dummy variables for the static categorical variables\n",
    "gender_df = dummyMakerFunction(full_df, \"userId\", \"gender\")\n",
    "area_df = dummyMakerFunction(full_df, \"userId\", \"area\")\n",
    "\n",
    "# add these to the user-level dataframe\n",
    "user_df = user_df.join(gender_df, \"userId\")\\\n",
    "                    .join(area_df, \"userId\")"
   ]
  },
  {
   "cell_type": "code",
   "execution_count": 86,
   "metadata": {},
   "outputs": [],
   "source": [
    "# identify significant dates per user\n",
    "ts_to_date = udf(lambda x: datetime.fromtimestamp(x / 1000.0), DateType())\n",
    "\n",
    "regDate_df = full_df.select(\"userId\", \"registration\").groupby(\"userId\").agg(F.max(\"registration\"))\\\n",
    "                    .withColumnRenamed(\"max(registration)\", \"timestamp_registration\")\\\n",
    "                    .withColumn(\"date_registration\", ts_to_date(col(\"timestamp_registration\")))\n",
    "lastDate_df = full_df.select(\"userId\", \"ts\").groupby(\"userId\").agg(F.max(\"ts\"))\\\n",
    "                    .withColumnRenamed(\"max(ts)\", \"timestamp_last\")\\\n",
    "                    .withColumn(\"date_last\", ts_to_date(col(\"timestamp_last\")))\n",
    "date_df = regDate_df.join(lastDate_df, \"userID\")\\\n",
    "                    .withColumn(\"membership_days\",\\\n",
    "                                ((col(\"timestamp_last\")-col(\"timestamp_registration\"))/86400000).cast(IntegerType()))\n",
    "user_df = user_df.join(date_df, \"userId\")"
   ]
  },
  {
   "cell_type": "code",
   "execution_count": 87,
   "metadata": {},
   "outputs": [],
   "source": [
    "# calculate session count and frequency\n",
    "session_df = full_df.select(\"userId\", \"sessionId\").groupby(\"userId\").agg(countDistinct(\"sessionId\"))\\\n",
    "                    .withColumnRenamed(\"count(DISTINCT sessionId)\", \"session_count\")\n",
    "user_df = user_df.join(session_df, \"userId\")\n",
    "user_df = user_df.withColumn(\"visit_frequency\", (col(\"session_count\")/col(\"membership_days\")))"
   ]
  },
  {
   "cell_type": "code",
   "execution_count": 88,
   "metadata": {},
   "outputs": [],
   "source": [
    "# calculate max length between visits\n",
    "# source: https://github.com/lingyanw/Sparkify_predict_churn/blob/master/Sparkify_churn.ipynb\n",
    "\n",
    "def maxGapFinder(input_list):\n",
    "    '''\n",
    "    Function calculates the gap between every neighboring elements in a list and returns the largest gap.\n",
    "    \n",
    "    IN:\n",
    "        input_list: a list of numbers (timestamps) to be compared\n",
    "    OUT:\n",
    "        maxGap: the numeric value of the largest gap\n",
    "    '''\n",
    "    sorted_list = sorted(input_list)\n",
    "    gap_list = []\n",
    "    \n",
    "    if len(sorted_list)>1:\n",
    "        for i in range(len(sorted_list)-1):\n",
    "            gap_list.append(sorted_list[i+1] - sorted_list[i])\n",
    "        maxGap = p.max(gap_list)\n",
    "    else:\n",
    "        maxGap = 0\n",
    "        \n",
    "    return maxGap"
   ]
  },
  {
   "cell_type": "code",
   "execution_count": 89,
   "metadata": {},
   "outputs": [],
   "source": [
    "full_df = full_df.withColumn(\"ts_day\", col(\"ts\")/86400000)\n",
    "\n",
    "maxLength_df = full_df.select(\"userId\", \"ts_day\").groupby(\"userId\").agg(F.collect_list(\"ts_day\"))\\\n",
    "                        .withColumnRenamed(\"collect_list(ts_day)\", \"ts_day_list\")\n",
    "\n",
    "#source: https://sparkbyexamples.com/pyspark/pyspark-udf-user-defined-function/\n",
    "maxGap_udf = udf(lambda x_list: maxGapFinder(x_list), DoubleType())\n",
    "maxLength_df = maxLength_df.withColumn(\"max_gap_days\", maxGap_udf(col(\"ts_day_list\")))\n",
    "user_df = user_df.join(maxLength_df, \"userId\")"
   ]
  },
  {
   "cell_type": "code",
   "execution_count": 90,
   "metadata": {},
   "outputs": [],
   "source": [
    "# calculate event length metrics and add these to user-level dataframe\n",
    "length_df = full_df.select(\"userId\",\"length\").groupby(\"userId\").agg(\n",
    "                    avg(\"length\").alias(\"event_length_avg\"),\n",
    "                    F.max(\"length\").alias(\"event_length_max\"),\n",
    "                    F.min(\"length\").alias(\"event_length_min\"),\n",
    "                    F.sum(\"length\").alias(\"event_length_sum\")\n",
    ")\n",
    "user_df = user_df.join(length_df, \"userId\")"
   ]
  },
  {
   "cell_type": "code",
   "execution_count": 91,
   "metadata": {},
   "outputs": [],
   "source": [
    "# calculate session length metrics and add these to user-level dataframe\n",
    "session_length_df = full_df.select(\"userId\", \"sessionID\", \"length\")\\\n",
    "                            .groupby(\"userID\", \"sessionID\").agg(F.sum(\"length\").alias(\"session_length\"))\\\n",
    "                            .groupby(\"userID\").agg(avg(\"session_length\").alias(\"session_length_avg\"),\\\n",
    "                                                   F.min(\"session_length\").alias(\"session_length_min\"),\\\n",
    "                                                   F.max(\"session_length\").alias(\"session_length_max\"))\n",
    "user_df = user_df.join(session_length_df, \"userId\")"
   ]
  },
  {
   "cell_type": "code",
   "execution_count": 92,
   "metadata": {},
   "outputs": [],
   "source": [
    "#calculate artist, song and event metrics\n",
    "event_df = full_df.select(\"userId\", \"artist\", \"song\", \"length\", \"itemInSession\").groupby(\"userId\").agg(\n",
    "                         count(\"artist\").alias(\"artist_total\"),\\\n",
    "                         count(\"song\").alias(\"song_total\"),\\\n",
    "                         count(\"length\").alias(\"music_event_total\"),\\\n",
    "                         F.sum(\"itemInSession\").alias(\"item_total\"),\\\n",
    "                         countDistinct(\"artist\").alias(\"artist_distinct\"),\\\n",
    "                         countDistinct(\"song\").alias(\"song_distinct\"),\\\n",
    "                         avg(\"itemInSession\").alias(\"itemInSession_avg\"),\\\n",
    "                         F.min(\"itemInSession\").alias(\"itemInSession_min\"),\\\n",
    "                         F.max(\"itemInSession\").alias(\"itemInSession_max\")\n",
    ")\n",
    "\n",
    "user_df = user_df.join(event_df,\"userId\")"
   ]
  },
  {
   "cell_type": "code",
   "execution_count": 93,
   "metadata": {},
   "outputs": [],
   "source": [
    "#create page visit counts\n",
    "page_df = full_df.select(\"userId\", \"page\").groupby(\"userId\").pivot(\"page\").count().na.fill(value=0)\n",
    "user_df = user_df.join(page_df, \"userId\")"
   ]
  },
  {
   "cell_type": "code",
   "execution_count": 94,
   "metadata": {},
   "outputs": [],
   "source": [
    "# calculate the proportion of usage per device\n",
    "device_df = full_df.select(\"userId\", \"device\").groupby(\"userId\").pivot(\"device\").count().na.fill(value=0)\n",
    "device_df = device_df.withColumn(\"devices_sum\",\\\n",
    "                             (col(\"Linux\")+col(\"iPad\")+col(\"iPhone\")+col(\"Mac\")+col(\"Windows\")))\n",
    "device_df = device_df.withColumn(\"Linux_proportion\", (col(\"Linux\")/col(\"devices_sum\")))\\\n",
    "                     .withColumn(\"Mac_proportion\", (col(\"Mac\")/col(\"devices_sum\")))\\\n",
    "                     .withColumn(\"Windows_proportion\", (col(\"Windows\")/col(\"devices_sum\")))\\\n",
    "                     .withColumn(\"iPad_proportion\", (col(\"iPad\")/col(\"devices_sum\")))\\\n",
    "                     .withColumn(\"iPhone_proportion\", (col(\"iPhone\")/col(\"devices_sum\")))\n",
    "user_df = user_df.join(device_df, \"userId\")"
   ]
  },
  {
   "cell_type": "code",
   "execution_count": 95,
   "metadata": {},
   "outputs": [],
   "source": [
    "# calculate some further potentially relevant metrics\n",
    "user_df = user_df.withColumn(\"music_event_per_session_avg\", (col(\"music_event_total\")/col(\"session_count\")))"
   ]
  },
  {
   "cell_type": "code",
   "execution_count": 96,
   "metadata": {},
   "outputs": [],
   "source": [
    "#add the feature representing whether the user has ever tried the paid version\n",
    "tried_paid_df = full_df.select(\"userId\", \"paidEverUser\").distinct().withColumnRenamed(\"paidEverUser\",\"tried_paid\")\n",
    "user_df = user_df.join(tried_paid_df, \"userId\")"
   ]
  },
  {
   "cell_type": "markdown",
   "metadata": {},
   "source": [
    "### Drop unnecessary columns\n",
    "from the user-level dataset"
   ]
  },
  {
   "cell_type": "code",
   "execution_count": 97,
   "metadata": {},
   "outputs": [
    {
     "name": "stdout",
     "output_type": "stream",
     "text": [
      "No. of rows at user level: 225 , No. of columns at user level: 119\n"
     ]
    }
   ],
   "source": [
    "print(\"No. of rows at user level:\", user_df.count(), \", No. of columns at user level:\", len(user_df.columns))"
   ]
  },
  {
   "cell_type": "code",
   "execution_count": 98,
   "metadata": {},
   "outputs": [],
   "source": [
    "#drop columns that are not necessary for modeling\n",
    "user_cols_to_drop = (\"ts_day_list\", \"Linux\", \"Mac\", \"Windows\", \"iPad\", \"iPhone\", \"devices_sum\",\\\n",
    "                     \"gender_M\", \"iPhone_proportion\", \"Cancel\", \"Cancellation Confirmation\", \"date_registration\", \"date_last\",\\\n",
    "                     'area_AK','area_AL','area_AR','area_CO','area_DC-VA-MD-WV','area_GA','area_GA-AL',\\\n",
    "                     'area_IA','area_IL','area_IL-MO','area_IN','area_KY','area_KY-IN','area_LA','area_MD',\\\n",
    "                     'area_MD-WV','area_MN-WI','area_MO-KS','area_MS','area_MT','area_NE-IA','area_NH','area_NJ',\\\n",
    "                     'area_NV','area_OH','area_OH-KY-IN','area_OK','area_OR','area_OR-WA','area_PA','area_PA-NJ',\\\n",
    "                     'area_RI-MA', 'area_SC', 'area_SC-NC', 'area_TN', 'area_TN-MS-AR', 'area_TN-VA', 'area_UT',\\\n",
    "                     'area_UT-ID', 'area_VA', 'area_VA-NC', 'area_WI','area_WV')\n",
    "user_df_minor = user_df.drop(*user_cols_to_drop)"
   ]
  },
  {
   "cell_type": "code",
   "execution_count": 99,
   "metadata": {},
   "outputs": [
    {
     "name": "stdout",
     "output_type": "stream",
     "text": [
      "No. of rows for modeling: 225 , No. of columns for modeling: 63\n"
     ]
    }
   ],
   "source": [
    "print(\"No. of rows for modeling:\", user_df_minor.count(), \", No. of columns for modeling:\", len(user_df_minor.columns))"
   ]
  },
  {
   "cell_type": "markdown",
   "metadata": {},
   "source": [
    "## -- 5 -- Modeling\n",
    "Split the full dataset into train, test, and validation sets. Test out several of the machine learning methods you learned. Evaluate the accuracy of the various models, tuning parameters as necessary. Determine your winning model based on test accuracy and report results on the validation set. Since the churned users are a fairly small subset, I suggest using F1 score as the metric to optimize."
   ]
  },
  {
   "cell_type": "markdown",
   "metadata": {},
   "source": [
    "##### Note:\n",
    "While Scikit-learn performs well on small or medium-sized datasets to be processed on a single machine\n",
    "paralell computing required for large datasets can be supported by Spark's machine learning libraries like the **pyspark.ml** module. Although the currently used 128 MB dataset does not require parallel computing nor are there multiple nodes set up for the current Spark Context the following code is prepared to be applicable for large datasets and parallel computing as well."
   ]
  },
  {
   "cell_type": "markdown",
   "metadata": {},
   "source": [
    "##### Selected models:\n",
    "- Logistic Regression\n",
    "- Random Forest Classification"
   ]
  },
  {
   "cell_type": "markdown",
   "metadata": {},
   "source": [
    "### 5.1) Prepare evaluation forms"
   ]
  },
  {
   "cell_type": "code",
   "execution_count": 100,
   "metadata": {},
   "outputs": [],
   "source": [
    "# create dataframe to collect model evaluation results\n",
    "eval_metrics_list = []\n",
    "eval_pddf = pd.DataFrame(eval_metrics_list)\n",
    "eval_pddf[\"Evaluation metrics\"] = [\"Recall\", \"Precision\", \"F1 score\", \"Accuracy\"]"
   ]
  },
  {
   "cell_type": "markdown",
   "metadata": {},
   "source": [
    "### 5.2) Transform data for modeling\n",
    "- Drop unnecessary ID\n",
    "- Vectorize\n",
    "- Scale\n",
    "- Split to training and test sets"
   ]
  },
  {
   "cell_type": "code",
   "execution_count": 101,
   "metadata": {},
   "outputs": [],
   "source": [
    "# drop unnecessary identifier column\n",
    "df = user_df_minor.drop(\"userId\")"
   ]
  },
  {
   "cell_type": "code",
   "execution_count": 102,
   "metadata": {},
   "outputs": [],
   "source": [
    "# create a vectorAssembler to transform feature data\n",
    "# as required for Spark ml modeling\n",
    "features = df.columns[1:]\n",
    "\n",
    "assembler = VectorAssembler(inputCols=features, outputCol=\"FeatureVec\", handleInvalid=\"skip\")\n",
    "df_vec = assembler.transform(df)\n",
    "df_vec = df_vec.select(col(\"FeatureVec\").alias(\"features\"),col(\"churnerUser\").alias(\"label\"))"
   ]
  },
  {
   "cell_type": "code",
   "execution_count": 103,
   "metadata": {},
   "outputs": [],
   "source": [
    "# scale the data\n",
    "# to avoid bias from skewed data\n",
    "\n",
    "min_max_scaler = MinMaxScaler(inputCol = \"features\", outputCol = \"FeatureVecScaled\")\n",
    "scalerModel = min_max_scaler.fit(df_vec)\n",
    "df_scaled = scalerModel.transform(df_vec)\n",
    "df_scaled = df_scaled.select(col(\"FeatureVecScaled\").alias(\"features\"), col(\"label\"))"
   ]
  },
  {
   "cell_type": "code",
   "execution_count": 108,
   "metadata": {},
   "outputs": [],
   "source": [
    "# split data into training and test sets\n",
    "training_set, test_set = df_scaled.randomSplit([0.8,0.2], seed=42)"
   ]
  },
  {
   "cell_type": "markdown",
   "metadata": {},
   "source": [
    "### 5.3) Build and evaluate models"
   ]
  },
  {
   "cell_type": "markdown",
   "metadata": {},
   "source": [
    "#### 5.3.1) Logistic Regression"
   ]
  },
  {
   "cell_type": "code",
   "execution_count": 109,
   "metadata": {},
   "outputs": [],
   "source": [
    "lr_model_name = \"Logistic Regression\""
   ]
  },
  {
   "cell_type": "code",
   "execution_count": 110,
   "metadata": {},
   "outputs": [],
   "source": [
    "lr = LogisticRegression(maxIter=10, labelCol='label', featuresCol='features')"
   ]
  },
  {
   "cell_type": "code",
   "execution_count": 111,
   "metadata": {},
   "outputs": [
    {
     "name": "stdout",
     "output_type": "stream",
     "text": [
      "=========================== \n",
      "===========================\n",
      "Logistic Regression\n",
      "=========================== \n",
      "===========================\n",
      "----- Start time of training the model:  2021-09-16 16:27:38.765890  -----\n",
      "----- Training the Logistic Regression model took:  201.26073741912842  second(s).-----\n"
     ]
    }
   ],
   "source": [
    "print(\"=========================== \\n===========================\")\n",
    "print(lr_model_name)\n",
    "print(\"=========================== \\n===========================\")\n",
    "start_lr = time.time()\n",
    "print('----- Start time of training the model: ', datetime.fromtimestamp(start_lr), ' -----')\n",
    "\n",
    "lr_model = lr.fit(training_set)\n",
    "\n",
    "end_lr = time.time()\n",
    "print('----- Training the', lr_model_name, 'model took: ', end_lr-start_lr, ' second(s).-----')"
   ]
  },
  {
   "cell_type": "code",
   "execution_count": 112,
   "metadata": {},
   "outputs": [
    {
     "name": "stdout",
     "output_type": "stream",
     "text": [
      "---------------------------\n",
      "----- Start time of predicting labels: 2021-09-16 16:31:00.042111  -----\n",
      "----- Predicting labels with the Logistic Regression model took: 0.10466265678405762  second(s).-----\n"
     ]
    }
   ],
   "source": [
    "print(\"---------------------------\")\n",
    "start_lr2 = time.time()\n",
    "print('----- Start time of predicting labels:', datetime.fromtimestamp(start_lr2), ' -----')\n",
    "\n",
    "lr_prediction = lr_model.transform(test_set)\n",
    "\n",
    "end_lr2 = time.time()\n",
    "print('----- Predicting labels with the', lr_model_name, 'model took:', end_lr2-start_lr2, ' second(s).-----')"
   ]
  },
  {
   "cell_type": "code",
   "execution_count": 113,
   "metadata": {},
   "outputs": [],
   "source": [
    "evaluator = MulticlassClassificationEvaluator(labelCol =\"label\",predictionCol=\"prediction\")"
   ]
  },
  {
   "cell_type": "code",
   "execution_count": 114,
   "metadata": {},
   "outputs": [],
   "source": [
    "lr_f1score = evaluator.evaluate(lr_prediction, {evaluator.metricName: \"f1\"})"
   ]
  },
  {
   "cell_type": "code",
   "execution_count": 115,
   "metadata": {},
   "outputs": [
    {
     "name": "stdout",
     "output_type": "stream",
     "text": [
      "Logistic Regression Metrics:\n",
      "F-1 Score:0.9074998420420799\n"
     ]
    }
   ],
   "source": [
    "print('Logistic Regression Metrics:')\n",
    "print('F-1 Score:{}'.format(lr_f1score))"
   ]
  },
  {
   "cell_type": "code",
   "execution_count": 116,
   "metadata": {},
   "outputs": [
    {
     "data": {
      "text/plain": [
       "[Row(features=DenseVector([1.0, 0.0, 0.0, 1.0, 0.0, 0.0, 0.0, 0.0, 0.0, 0.0, 0.0, 0.0, 0.0, 0.0, 0.0, 0.0, 0.8322, 0.8188, 0.1992, 0.0566, 0.0963, 0.3019, 0.4282, 0.0778, 0.2281, 0.0328, 0.1146, 0.0285, 0.0678, 0.0336, 0.0336, 0.0336, 0.0113, 0.0695, 0.0443, 0.0877, 0.0, 0.0805, 0.04, 0.028, 0.0292, 0.0, 0.0, 0.0435, 0.031, 0.0403, 0.0336, 0.4062, 0.0, 0.0, 0.0, 0.0, 0.0667, 0.0389, 0.1333, 0.0, 0.0, 0.0, 0.0, 0.1186, 0.0]), label=0, rawPrediction=DenseVector([7.2693, -7.2693]), probability=DenseVector([0.9993, 0.0007]), prediction=0.0)]"
      ]
     },
     "execution_count": 116,
     "metadata": {},
     "output_type": "execute_result"
    }
   ],
   "source": [
    "lr_prediction.take(1)"
   ]
  },
  {
   "cell_type": "code",
   "execution_count": 117,
   "metadata": {},
   "outputs": [],
   "source": [
    "# check results in the confusion matrix\n",
    "TP = lr_prediction.where(col(\"prediction\")==1).where(col(\"label\")==1).count()\n",
    "FP = lr_prediction.where(col(\"prediction\")==1).where(col(\"label\")==0).count()\n",
    "TN = lr_prediction.where(col(\"prediction\")==0).where(col(\"label\")==0).count()\n",
    "FN = lr_prediction.where(col(\"prediction\")==0).where(col(\"label\")==1).count()"
   ]
  },
  {
   "cell_type": "code",
   "execution_count": 118,
   "metadata": {},
   "outputs": [
    {
     "name": "stdout",
     "output_type": "stream",
     "text": [
      "Recall: 0.7272727272727273\n",
      "Precision: 1.0\n"
     ]
    }
   ],
   "source": [
    "recall_calculated = TP / (TP + FN)\n",
    "\n",
    "if TP + FP==0:\n",
    "    precision_calculated = \"There were not any churners in the test set nor among the predictions.\"\n",
    "else:\n",
    "    precision_calculated = TP / (TP + FP)\n",
    "\n",
    "\n",
    "print(\"Recall: {}\\nPrecision: {}\".format(recall_calculated, precision_calculated))"
   ]
  },
  {
   "cell_type": "code",
   "execution_count": 119,
   "metadata": {},
   "outputs": [
    {
     "name": "stdout",
     "output_type": "stream",
     "text": [
      "F1 score: 0.8421052631578948\n"
     ]
    }
   ],
   "source": [
    "if TP + FP==0:\n",
    "    print(\"There were not any churners in the test set nor among the predictions.\")\n",
    "else:\n",
    "    f1_calculated = (2*precision_calculated*recall_calculated)/(precision_calculated+recall_calculated)\n",
    "    print(\"F1 score: {}\".format(f1_calculated))"
   ]
  },
  {
   "cell_type": "code",
   "execution_count": 120,
   "metadata": {},
   "outputs": [
    {
     "name": "stdout",
     "output_type": "stream",
     "text": [
      "Accuracy: 0.9117647058823529\n"
     ]
    }
   ],
   "source": [
    "accuracy_calculated = (TP+TN)/(TP+FP+TN+FN)\n",
    "print(\"Accuracy: {}\".format(accuracy_calculated))"
   ]
  },
  {
   "cell_type": "code",
   "execution_count": 121,
   "metadata": {},
   "outputs": [],
   "source": [
    "eval_pddf[lr_model_name] = [recall_calculated, precision_calculated, f1_calculated, accuracy_calculated]"
   ]
  },
  {
   "cell_type": "markdown",
   "metadata": {},
   "source": [
    "### 5.3.2) Random Forest"
   ]
  },
  {
   "cell_type": "code",
   "execution_count": 122,
   "metadata": {},
   "outputs": [],
   "source": [
    "rf_model_name = \"Random Forest\"\n",
    "rf = RandomForestClassifier(numTrees=10, maxDepth=5, seed=42)"
   ]
  },
  {
   "cell_type": "code",
   "execution_count": 123,
   "metadata": {},
   "outputs": [
    {
     "name": "stdout",
     "output_type": "stream",
     "text": [
      "=========================== \n",
      "===========================\n",
      "Random Forest\n",
      "---------------------------\n",
      "----- Start time of training the model:  2021-09-16 16:51:24.908935  -----\n",
      "----- Training the Random Forest model took:  404.33912682533264  second(s).-----\n"
     ]
    }
   ],
   "source": [
    "print(\"=========================== \\n===========================\")\n",
    "print(rf_model_name)\n",
    "print(\"---------------------------\")\n",
    "start_rf = time.time()\n",
    "print('----- Start time of training the model: ', datetime.fromtimestamp(start_rf), ' -----')\n",
    "\n",
    "rf_model = rf.fit(training_set)\n",
    "\n",
    "end_rf = time.time()\n",
    "print('----- Training the', rf_model_name, 'model took: ', end_rf-start_rf, ' second(s).-----')"
   ]
  },
  {
   "cell_type": "code",
   "execution_count": 124,
   "metadata": {},
   "outputs": [
    {
     "name": "stdout",
     "output_type": "stream",
     "text": [
      "---------------------------\n",
      "----- Start time of predicting labels: 2021-09-16 16:58:09.261892  -----\n",
      "----- Predicting labels with the Random Forest model took: 0.10315489768981934  second(s).-----\n"
     ]
    }
   ],
   "source": [
    "print(\"---------------------------\")\n",
    "start_rf2 = time.time()\n",
    "print('----- Start time of predicting labels:', datetime.fromtimestamp(start_rf2), ' -----')\n",
    "\n",
    "rf_prediction = rf_model.transform(test_set)\n",
    "\n",
    "end_rf2 = time.time()\n",
    "print('----- Predicting labels with the', rf_model_name, 'model took:', end_rf2-start_rf2, ' second(s).-----')"
   ]
  },
  {
   "cell_type": "code",
   "execution_count": 125,
   "metadata": {},
   "outputs": [],
   "source": [
    "evaluator = MulticlassClassificationEvaluator(labelCol =\"label\", predictionCol=\"prediction\")"
   ]
  },
  {
   "cell_type": "code",
   "execution_count": 126,
   "metadata": {},
   "outputs": [
    {
     "name": "stdout",
     "output_type": "stream",
     "text": [
      "Random Forest Metrics:\n",
      "F-1 Score:0.8006221719457014\n"
     ]
    }
   ],
   "source": [
    "rf_f1score = evaluator.evaluate(rf_prediction, {evaluator.metricName: \"f1\"})\n",
    "print(rf_model_name, 'Metrics:')\n",
    "print('F-1 Score:{}'.format(rf_f1score))"
   ]
  },
  {
   "cell_type": "code",
   "execution_count": 127,
   "metadata": {},
   "outputs": [],
   "source": [
    "# check results in the confusion matrix\n",
    "TP_rf = rf_prediction.where(col(\"prediction\")==1).where(col(\"label\")==1).count()\n",
    "FP_rf = rf_prediction.where(col(\"prediction\")==1).where(col(\"label\")==0).count()\n",
    "TN_rf = rf_prediction.where(col(\"prediction\")==0).where(col(\"label\")==0).count()\n",
    "FN_rf = rf_prediction.where(col(\"prediction\")==0).where(col(\"label\")==1).count()"
   ]
  },
  {
   "cell_type": "code",
   "execution_count": 128,
   "metadata": {},
   "outputs": [
    {
     "name": "stdout",
     "output_type": "stream",
     "text": [
      "Recall: 0.45454545454545453\n",
      "Precision: 1.0\n"
     ]
    }
   ],
   "source": [
    "recall_calculated_rf = TP_rf / (TP_rf + FN_rf)\n",
    "\n",
    "if TP_rf + FP_rf==0:\n",
    "    precision_calculated_rf = \"There were not any churners in the test set nor among the predictions.\"\n",
    "else:\n",
    "    precision_calculated_rf = TP_rf / (TP_rf + FP_rf)\n",
    "\n",
    "print(\"Recall: {}\\nPrecision: {}\".format(recall_calculated_rf, precision_calculated_rf))"
   ]
  },
  {
   "cell_type": "code",
   "execution_count": 129,
   "metadata": {},
   "outputs": [
    {
     "name": "stdout",
     "output_type": "stream",
     "text": [
      "F1 score : 0.625\n"
     ]
    }
   ],
   "source": [
    "if TP_rf + FP_rf==0:\n",
    "    print(\"There were not any churners in the test set nor among the predictions.\")\n",
    "else:\n",
    "    f1_calculated_rf = (2*precision_calculated_rf*recall_calculated_rf)/(precision_calculated_rf+recall_calculated_rf)\n",
    "    print(\"F1 score : {}\".format(f1_calculated_rf))"
   ]
  },
  {
   "cell_type": "code",
   "execution_count": 130,
   "metadata": {},
   "outputs": [
    {
     "name": "stdout",
     "output_type": "stream",
     "text": [
      "Accuracy: 0.8235294117647058\n"
     ]
    }
   ],
   "source": [
    "accuracy_calculated_rf = (TP_rf+TN_rf)/(TP_rf+FP_rf+TN_rf+FN_rf)\n",
    "print(\"Accuracy: {}\".format(accuracy_calculated_rf))"
   ]
  },
  {
   "cell_type": "code",
   "execution_count": 131,
   "metadata": {},
   "outputs": [],
   "source": [
    "eval_pddf[rf_model_name] = [recall_calculated_rf, precision_calculated_rf, f1_calculated_rf, accuracy_calculated_rf]"
   ]
  },
  {
   "cell_type": "markdown",
   "metadata": {},
   "source": [
    "### 5.3.3) Random Forest with larger minimum instances"
   ]
  },
  {
   "cell_type": "code",
   "execution_count": 132,
   "metadata": {},
   "outputs": [],
   "source": [
    "# Try increasing recall on test set\n",
    "# by increasing min leaf size\n",
    "rf2_model_name = \"Random Forest with a larger minimum leaf size\"\n",
    "rf2 = RandomForestClassifier(numTrees=10, maxDepth=5, minInstancesPerNode=5, seed=42)\n",
    "#default minInstancesPerNode = 1"
   ]
  },
  {
   "cell_type": "code",
   "execution_count": 133,
   "metadata": {},
   "outputs": [
    {
     "name": "stdout",
     "output_type": "stream",
     "text": [
      "=========================== \n",
      "===========================\n",
      "Random Forest with a larger minimum leaf size\n",
      "---------------------------\n",
      "----- Start time of training the model:  2021-09-16 17:12:56.871934  -----\n",
      "----- Training the Random Forest with a larger minimum leaf size model took:  403.0248568058014  second(s).-----\n"
     ]
    }
   ],
   "source": [
    "print(\"=========================== \\n===========================\")\n",
    "print(rf2_model_name)\n",
    "print(\"---------------------------\")\n",
    "start_rf2 = time.time()\n",
    "print('----- Start time of training the model: ', datetime.fromtimestamp(start_rf2), ' -----')\n",
    "\n",
    "rf2_model = rf2.fit(training_set)\n",
    "\n",
    "end_rf2 = time.time()\n",
    "print('----- Training the', rf2_model_name, 'model took: ', end_rf2-start_rf2, ' second(s).-----')"
   ]
  },
  {
   "cell_type": "code",
   "execution_count": 134,
   "metadata": {},
   "outputs": [
    {
     "name": "stdout",
     "output_type": "stream",
     "text": [
      "---------------------------\n",
      "----- Start time of predicting labels: 2021-09-16 17:19:39.914588  -----\n",
      "----- Predicting labels with the Random Forest with a larger minimum leaf size model took: 0.07959365844726562  second(s).-----\n"
     ]
    }
   ],
   "source": [
    "print(\"---------------------------\")\n",
    "start_rf22 = time.time()\n",
    "print('----- Start time of predicting labels:', datetime.fromtimestamp(start_rf22), ' -----')\n",
    "\n",
    "rf2_prediction = rf2_model.transform(test_set)\n",
    "\n",
    "end_rf22 = time.time()\n",
    "print('----- Predicting labels with the', rf2_model_name, 'model took:', end_rf22-start_rf22, ' second(s).-----')"
   ]
  },
  {
   "cell_type": "code",
   "execution_count": 143,
   "metadata": {},
   "outputs": [],
   "source": [
    "evaluator = MulticlassClassificationEvaluator(labelCol =\"label\", predictionCol=\"prediction\")"
   ]
  },
  {
   "cell_type": "code",
   "execution_count": 144,
   "metadata": {},
   "outputs": [
    {
     "name": "stdout",
     "output_type": "stream",
     "text": [
      "Random Forest with a larger minimum leaf size Metrics:\n",
      "F-1 Score:0.8739869281045751\n"
     ]
    }
   ],
   "source": [
    "rf2_f1score = evaluator.evaluate(rf2_prediction, {evaluator.metricName: \"f1\"})\n",
    "print(rf2_model_name, 'Metrics:')\n",
    "print('F-1 Score:{}'.format(rf2_f1score))"
   ]
  },
  {
   "cell_type": "code",
   "execution_count": 135,
   "metadata": {},
   "outputs": [],
   "source": [
    "TP_rf2 = rf2_prediction.where(col(\"prediction\")==1).where(col(\"label\")==1).count()\n",
    "FP_rf2 = rf2_prediction.where(col(\"prediction\")==1).where(col(\"label\")==0).count()\n",
    "TN_rf2 = rf2_prediction.where(col(\"prediction\")==0).where(col(\"label\")==0).count()\n",
    "FN_rf2 = rf2_prediction.where(col(\"prediction\")==0).where(col(\"label\")==1).count()"
   ]
  },
  {
   "cell_type": "code",
   "execution_count": 136,
   "metadata": {},
   "outputs": [
    {
     "name": "stdout",
     "output_type": "stream",
     "text": [
      "Recall: 0.6363636363636364\n",
      "Precision: 1.0\n"
     ]
    }
   ],
   "source": [
    "recall_calculated_rf2 = TP_rf2 / (TP_rf2 + FN_rf2)\n",
    "\n",
    "if TP_rf2 + FP_rf2==0:\n",
    "    precision_calculated_rf2 = \"There were not any churners in the test set nor among the predictions.\"\n",
    "else:\n",
    "    precision_calculated_rf2 = TP_rf2 / (TP_rf2 + FP_rf2)\n",
    "\n",
    "print(\"Recall: {}\\nPrecision: {}\".format(recall_calculated_rf2, precision_calculated_rf2))"
   ]
  },
  {
   "cell_type": "code",
   "execution_count": 137,
   "metadata": {},
   "outputs": [
    {
     "name": "stdout",
     "output_type": "stream",
     "text": [
      "F1 score = 0.7777777777777778\n"
     ]
    }
   ],
   "source": [
    "if TP_rf2 + FP_rf2==0:\n",
    "    print(\"There were not any churners in the test set nor among the predictions.\")\n",
    "else:\n",
    "    f1_calculated_rf2 = (2*precision_calculated_rf2*recall_calculated_rf2)/(precision_calculated_rf2+recall_calculated_rf2)\n",
    "    print(\"F1 score = {}\".format(f1_calculated_rf2))"
   ]
  },
  {
   "cell_type": "code",
   "execution_count": 138,
   "metadata": {},
   "outputs": [
    {
     "name": "stdout",
     "output_type": "stream",
     "text": [
      "Accuracy: 0.8823529411764706\n"
     ]
    }
   ],
   "source": [
    "accuracy_calculated_rf2 = (TP_rf2+TN_rf2)/(TP_rf2+FP_rf2+TN_rf2+FN_rf2)\n",
    "print(\"Accuracy: {}\".format(accuracy_calculated_rf2))"
   ]
  },
  {
   "cell_type": "code",
   "execution_count": 139,
   "metadata": {},
   "outputs": [],
   "source": [
    "eval_pddf[rf2_model_name] = [recall_calculated_rf2, precision_calculated_rf2, f1_calculated_rf2, accuracy_calculated_rf2]"
   ]
  },
  {
   "cell_type": "markdown",
   "metadata": {},
   "source": [
    "### 5.4) Compare model evaluation results"
   ]
  },
  {
   "cell_type": "code",
   "execution_count": 140,
   "metadata": {},
   "outputs": [
    {
     "data": {
      "text/html": [
       "<div>\n",
       "<style scoped>\n",
       "    .dataframe tbody tr th:only-of-type {\n",
       "        vertical-align: middle;\n",
       "    }\n",
       "\n",
       "    .dataframe tbody tr th {\n",
       "        vertical-align: top;\n",
       "    }\n",
       "\n",
       "    .dataframe thead th {\n",
       "        text-align: right;\n",
       "    }\n",
       "</style>\n",
       "<table border=\"1\" class=\"dataframe\">\n",
       "  <thead>\n",
       "    <tr style=\"text-align: right;\">\n",
       "      <th></th>\n",
       "      <th>Evaluation metrics</th>\n",
       "      <th>Logistic Regression</th>\n",
       "      <th>Random Forest</th>\n",
       "      <th>Random Forest with a larger minimum leaf size</th>\n",
       "    </tr>\n",
       "  </thead>\n",
       "  <tbody>\n",
       "    <tr>\n",
       "      <th>0</th>\n",
       "      <td>Recall</td>\n",
       "      <td>0.727273</td>\n",
       "      <td>0.454545</td>\n",
       "      <td>0.636364</td>\n",
       "    </tr>\n",
       "    <tr>\n",
       "      <th>1</th>\n",
       "      <td>Precision</td>\n",
       "      <td>1.000000</td>\n",
       "      <td>1.000000</td>\n",
       "      <td>1.000000</td>\n",
       "    </tr>\n",
       "    <tr>\n",
       "      <th>2</th>\n",
       "      <td>F1 score</td>\n",
       "      <td>0.842105</td>\n",
       "      <td>0.625000</td>\n",
       "      <td>0.777778</td>\n",
       "    </tr>\n",
       "    <tr>\n",
       "      <th>3</th>\n",
       "      <td>Accuracy</td>\n",
       "      <td>0.911765</td>\n",
       "      <td>0.823529</td>\n",
       "      <td>0.882353</td>\n",
       "    </tr>\n",
       "  </tbody>\n",
       "</table>\n",
       "</div>"
      ],
      "text/plain": [
       "  Evaluation metrics  Logistic Regression  Random Forest  \\\n",
       "0             Recall             0.727273       0.454545   \n",
       "1          Precision             1.000000       1.000000   \n",
       "2           F1 score             0.842105       0.625000   \n",
       "3           Accuracy             0.911765       0.823529   \n",
       "\n",
       "   Random Forest with a larger minimum leaf size  \n",
       "0                                       0.636364  \n",
       "1                                       1.000000  \n",
       "2                                       0.777778  \n",
       "3                                       0.882353  "
      ]
     },
     "execution_count": 140,
     "metadata": {},
     "output_type": "execute_result"
    }
   ],
   "source": [
    "eval_pddf"
   ]
  },
  {
   "cell_type": "markdown",
   "metadata": {},
   "source": [
    "##### Conclusion:\n",
    "At a first running of the above script, the Logistic Regression and the first Random Forest models performed equally good although none of these performed objectively very well (62% for recall and 73% for F1). The exactly same performance might be explained by the very narrow test dataset (0.2 x 225 = 4.5 records) while the poor model performance by the sample size and the simple models applied.<break>\n",
    "At the second running of the above script, the model performance results were somewhat different (as to be seen above in the printed results). Given that it is crucial for a streaming business to identify probable churners and act against their future churn I recommend choosing model based on its recall metrics besides F1 score as suggested by Udacity. Based on this, Logistic Regression seems to be the best (least worse in this case) model to predict customer churn."
   ]
  },
  {
   "cell_type": "markdown",
   "metadata": {},
   "source": [
    "### 5.5) Tune hyper parameters\n",
    "Create parameter grids to experiment with to achieve better model performance."
   ]
  },
  {
   "cell_type": "markdown",
   "metadata": {},
   "source": [
    "#### 5.5.1) Tune the logistic regression model"
   ]
  },
  {
   "cell_type": "code",
   "execution_count": 142,
   "metadata": {},
   "outputs": [],
   "source": [
    "# tune the logistic regression model\n",
    "lr_tuned_model_name = \"Logistic Regression Tuned\"\n",
    "lr_tuned = LogisticRegression(maxIter=10, labelCol='label', featuresCol='features')\n",
    "pipeline = Pipeline(stages=[lr_tuned])\n",
    "\n",
    "lr_tuned_paramGrid = ParamGridBuilder().addGrid(lr_tuned.regParam, [0.1, 0.01, 0.001]).build()"
   ]
  },
  {
   "cell_type": "code",
   "execution_count": 145,
   "metadata": {},
   "outputs": [],
   "source": [
    "evaluator = MulticlassClassificationEvaluator(labelCol =\"label\", predictionCol=\"prediction\")"
   ]
  },
  {
   "cell_type": "code",
   "execution_count": 146,
   "metadata": {},
   "outputs": [],
   "source": [
    "lr_tuned_cv = CrossValidator(estimator=pipeline, estimatorParamMaps=lr_tuned_paramGrid, evaluator=evaluator, numFolds=2)"
   ]
  },
  {
   "cell_type": "code",
   "execution_count": 147,
   "metadata": {},
   "outputs": [
    {
     "name": "stdout",
     "output_type": "stream",
     "text": [
      "=========================== \n",
      "===========================\n",
      "Logistic Regression Tuned\n",
      "=========================== \n",
      "===========================\n",
      "----- Start time of training the model:  2021-09-16 18:04:32.182371  -----\n",
      "----- Training the Logistic Regression Tuned model took:  1071.4781875610352  second(s).-----\n"
     ]
    }
   ],
   "source": [
    "print(\"=========================== \\n===========================\")\n",
    "print(lr_tuned_model_name)\n",
    "print(\"=========================== \\n===========================\")\n",
    "start_lr_tuned = time.time()\n",
    "print('----- Start time of training the model: ', datetime.fromtimestamp(start_lr_tuned), ' -----')\n",
    "\n",
    "lr_tuned_model = lr_tuned_cv.fit(training_set)\n",
    "\n",
    "end_lr_tuned = time.time()\n",
    "print('----- Training the', lr_tuned_model_name, 'model took: ', end_lr_tuned-start_lr_tuned, ' second(s).-----')"
   ]
  },
  {
   "cell_type": "code",
   "execution_count": 148,
   "metadata": {},
   "outputs": [
    {
     "name": "stdout",
     "output_type": "stream",
     "text": [
      "---------------------------\n",
      "----- Start time of predicting labels: 2021-09-16 18:22:23.686491  -----\n",
      "----- Predicting labels with the Logistic Regression Tuned model took: 0.12581515312194824  second(s).-----\n"
     ]
    }
   ],
   "source": [
    "print(\"---------------------------\")\n",
    "start_lr_tuned2 = time.time()\n",
    "print('----- Start time of predicting labels:', datetime.fromtimestamp(start_lr_tuned2), ' -----')\n",
    "\n",
    "lr_tuned_prediction = lr_tuned_model.transform(test_set)\n",
    "\n",
    "end_lr_tuned2 = time.time()\n",
    "print('----- Predicting labels with the', lr_tuned_model_name, 'model took:', end_lr_tuned2-start_lr_tuned2, ' second(s).-----')"
   ]
  },
  {
   "cell_type": "code",
   "execution_count": 149,
   "metadata": {},
   "outputs": [
    {
     "name": "stdout",
     "output_type": "stream",
     "text": [
      "Logistic Regression Tuned Metrics:\n",
      "F-1 Score:0.878921568627451\n"
     ]
    }
   ],
   "source": [
    "lr_tuned_f1score = evaluator.evaluate(lr_tuned_prediction, {evaluator.metricName: \"f1\"})\n",
    "print(lr_tuned_model_name, 'Metrics:')\n",
    "print('F-1 Score:{}'.format(lr_tuned_f1score))"
   ]
  },
  {
   "cell_type": "code",
   "execution_count": 150,
   "metadata": {},
   "outputs": [],
   "source": [
    "# check results in the confusion matrix\n",
    "TP_lr_tuned = lr_tuned_prediction.where(col(\"prediction\")==1).where(col(\"label\")==1).count()\n",
    "FP_lr_tuned = lr_tuned_prediction.where(col(\"prediction\")==1).where(col(\"label\")==0).count()\n",
    "TN_lr_tuned = lr_tuned_prediction.where(col(\"prediction\")==0).where(col(\"label\")==0).count()\n",
    "FN_lr_tuned = lr_tuned_prediction.where(col(\"prediction\")==0).where(col(\"label\")==1).count()"
   ]
  },
  {
   "cell_type": "code",
   "execution_count": 151,
   "metadata": {},
   "outputs": [
    {
     "name": "stdout",
     "output_type": "stream",
     "text": [
      "Recall: 0.7272727272727273\n",
      "Precision: 0.8888888888888888\n"
     ]
    }
   ],
   "source": [
    "recall_calculated_lr_tuned = TP_lr_tuned / (TP_lr_tuned + FN_lr_tuned)\n",
    "print(\"Recall: {}\".format(recall_calculated_lr_tuned))\n",
    "\n",
    "if TP_lr_tuned + FP_lr_tuned==0:\n",
    "    print(\"There were not any churners in the test set nor among the predictions.\")\n",
    "else:\n",
    "    precision_calculated_lr_tuned = TP_lr_tuned / (TP_lr_tuned + FP_lr_tuned)\n",
    "    print(\"Precision: {}\".format(precision_calculated_lr_tuned))"
   ]
  },
  {
   "cell_type": "code",
   "execution_count": 154,
   "metadata": {},
   "outputs": [
    {
     "name": "stdout",
     "output_type": "stream",
     "text": [
      "F1 score = 0.7999999999999999\n"
     ]
    }
   ],
   "source": [
    "if TP_lr_tuned + FP_lr_tuned==0:\n",
    "    print(\"There were not any churners in the test set nor among the predictions.\")\n",
    "else:\n",
    "    f1_calculated_lr_tuned = (2*precision_calculated_lr_tuned*recall_calculated_lr_tuned)/(precision_calculated_lr_tuned+recall_calculated_lr_tuned)\n",
    "    print(\"F1 score = {}\".format(f1_calculated_lr_tuned))"
   ]
  },
  {
   "cell_type": "code",
   "execution_count": 155,
   "metadata": {},
   "outputs": [
    {
     "name": "stdout",
     "output_type": "stream",
     "text": [
      "Accuracy: 0.8823529411764706\n"
     ]
    }
   ],
   "source": [
    "accuracy_calculated_lr_tuned = (TP_lr_tuned+TN_lr_tuned)/(TP_lr_tuned+FP_lr_tuned+TN_lr_tuned+FN_lr_tuned)\n",
    "print(\"Accuracy: {}\".format(accuracy_calculated_lr_tuned))"
   ]
  },
  {
   "cell_type": "code",
   "execution_count": 157,
   "metadata": {},
   "outputs": [],
   "source": [
    "eval_pddf[lr_tuned_model_name] = [recall_calculated_lr_tuned, precision_calculated_lr_tuned, f1_calculated_lr_tuned, accuracy_calculated_lr_tuned]"
   ]
  },
  {
   "cell_type": "markdown",
   "metadata": {},
   "source": [
    "#### 5.5.2) Tune the random forest classification model"
   ]
  },
  {
   "cell_type": "code",
   "execution_count": 158,
   "metadata": {},
   "outputs": [],
   "source": [
    "# tune the random forest classification model\n",
    "rf_tuned_model_name = \"Random Forest Classification Tuned\"\n",
    "rf_tuned = RandomForestClassifier(seed=42)\n",
    "pipeline = Pipeline(stages=[rf_tuned])\n",
    "\n",
    "rf_tuned_paramGrid = ParamGridBuilder().addGrid(rf_tuned.numTrees, [5, 10, 15]).addGrid(rf_tuned.maxDepth, [5, 10, 15]).build()"
   ]
  },
  {
   "cell_type": "code",
   "execution_count": 159,
   "metadata": {},
   "outputs": [],
   "source": [
    "evaluator = MulticlassClassificationEvaluator(labelCol =\"label\", predictionCol=\"prediction\")"
   ]
  },
  {
   "cell_type": "code",
   "execution_count": 160,
   "metadata": {},
   "outputs": [],
   "source": [
    "rf_tuned_cv = CrossValidator(estimator=pipeline, estimatorParamMaps=rf_tuned_paramGrid, evaluator=evaluator, numFolds=2)"
   ]
  },
  {
   "cell_type": "code",
   "execution_count": 161,
   "metadata": {},
   "outputs": [
    {
     "name": "stdout",
     "output_type": "stream",
     "text": [
      "=========================== \n",
      "===========================\n",
      "Random Forest Classification Tuned\n",
      "=========================== \n",
      "===========================\n",
      "----- Start time of training the model:  2021-09-16 18:40:57.333223  -----\n",
      "----- Training the Random Forest Classification Tuned model took:  1877.4665958881378  second(s).-----\n"
     ]
    }
   ],
   "source": [
    "print(\"=========================== \\n===========================\")\n",
    "print(rf_tuned_model_name)\n",
    "print(\"=========================== \\n===========================\")\n",
    "start_rf_tuned = time.time()\n",
    "print('----- Start time of training the model: ', datetime.fromtimestamp(start_rf_tuned), ' -----')\n",
    "\n",
    "rf_tuned_model = rf_tuned_cv.fit(training_set)\n",
    "\n",
    "end_rf_tuned = time.time()\n",
    "print('----- Training the', rf_tuned_model_name, 'model took: ', end_rf_tuned-start_rf_tuned, ' second(s).-----')"
   ]
  },
  {
   "cell_type": "code",
   "execution_count": 162,
   "metadata": {},
   "outputs": [
    {
     "name": "stdout",
     "output_type": "stream",
     "text": [
      "---------------------------\n",
      "----- Start time of predicting labels: 2021-09-16 19:12:14.827735  -----\n",
      "----- Predicting labels with the Random Forest Classification Tuned model took: 0.07474899291992188  second(s).-----\n"
     ]
    }
   ],
   "source": [
    "print(\"---------------------------\")\n",
    "start_rf_tuned2 = time.time()\n",
    "print('----- Start time of predicting labels:', datetime.fromtimestamp(start_rf_tuned2), ' -----')\n",
    "\n",
    "rf_tuned_prediction = rf_tuned_model.transform(test_set)\n",
    "\n",
    "end_rf_tuned2 = time.time()\n",
    "print('----- Predicting labels with the', rf_tuned_model_name, 'model took:', end_rf_tuned2-start_rf_tuned2, ' second(s).-----')"
   ]
  },
  {
   "cell_type": "code",
   "execution_count": 163,
   "metadata": {},
   "outputs": [
    {
     "name": "stdout",
     "output_type": "stream",
     "text": [
      "Random Forest Classification Tuned Metrics:\n",
      "F-1 Score:0.8006221719457014\n"
     ]
    }
   ],
   "source": [
    "rf_tuned_f1score = evaluator.evaluate(rf_tuned_prediction, {evaluator.metricName: \"f1\"})\n",
    "print(rf_tuned_model_name, 'Metrics:')\n",
    "print('F-1 Score:{}'.format(rf_tuned_f1score))"
   ]
  },
  {
   "cell_type": "code",
   "execution_count": 164,
   "metadata": {},
   "outputs": [],
   "source": [
    "# check results in the confusion matrix\n",
    "TP_rf_tuned = rf_tuned_prediction.where(col(\"prediction\")==1).where(col(\"label\")==1).count()\n",
    "FP_rf_tuned = rf_tuned_prediction.where(col(\"prediction\")==1).where(col(\"label\")==0).count()\n",
    "TN_rf_tuned = rf_tuned_prediction.where(col(\"prediction\")==0).where(col(\"label\")==0).count()\n",
    "FN_rf_tuned = rf_tuned_prediction.where(col(\"prediction\")==0).where(col(\"label\")==1).count()"
   ]
  },
  {
   "cell_type": "code",
   "execution_count": 165,
   "metadata": {},
   "outputs": [
    {
     "name": "stdout",
     "output_type": "stream",
     "text": [
      "Recall: 0.45454545454545453\n",
      "Precision: 1.0\n"
     ]
    }
   ],
   "source": [
    "recall_calculated_rf_tuned = TP_rf_tuned / (TP_rf_tuned + FN_rf_tuned)\n",
    "print(\"Recall: {}\".format(recall_calculated_rf_tuned))\n",
    "\n",
    "if TP_rf_tuned + FP_rf_tuned==0:\n",
    "    print(\"There were not any churners in the test set nor among the predictions.\")\n",
    "else:\n",
    "    precision_calculated_rf_tuned = TP_rf_tuned / (TP_rf_tuned + FP_rf_tuned)\n",
    "    print(\"Precision: {}\".format(precision_calculated_rf_tuned))"
   ]
  },
  {
   "cell_type": "code",
   "execution_count": 166,
   "metadata": {},
   "outputs": [
    {
     "name": "stdout",
     "output_type": "stream",
     "text": [
      "F1 score = 0.625\n"
     ]
    }
   ],
   "source": [
    "if TP_rf_tuned + FP_rf_tuned==0:\n",
    "    print(\"There were not any churners in the test set nor among the predictions.\")\n",
    "else:\n",
    "    f1_calculated_rf_tuned = (2*precision_calculated_rf_tuned*recall_calculated_rf_tuned)/(precision_calculated_rf_tuned+recall_calculated_rf_tuned)\n",
    "    print(\"F1 score = {}\".format(f1_calculated_rf_tuned))"
   ]
  },
  {
   "cell_type": "code",
   "execution_count": 167,
   "metadata": {},
   "outputs": [
    {
     "name": "stdout",
     "output_type": "stream",
     "text": [
      "Accuracy: 0.8235294117647058\n"
     ]
    }
   ],
   "source": [
    "accuracy_calculated_rf_tuned = (TP_rf_tuned+TN_rf_tuned)/(TP_rf_tuned+FP_rf_tuned+TN_rf_tuned+FN_rf_tuned)\n",
    "print(\"Accuracy: {}\".format(accuracy_calculated_rf_tuned))"
   ]
  },
  {
   "cell_type": "code",
   "execution_count": 168,
   "metadata": {},
   "outputs": [],
   "source": [
    "eval_pddf[rf_tuned_model_name] = [recall_calculated_rf_tuned, precision_calculated_rf_tuned, f1_calculated_rf_tuned, accuracy_calculated_rf_tuned]"
   ]
  },
  {
   "cell_type": "markdown",
   "metadata": {},
   "source": [
    "#### 5.5.3) Compare hypertuned models"
   ]
  },
  {
   "cell_type": "code",
   "execution_count": 169,
   "metadata": {},
   "outputs": [
    {
     "data": {
      "text/html": [
       "<div>\n",
       "<style scoped>\n",
       "    .dataframe tbody tr th:only-of-type {\n",
       "        vertical-align: middle;\n",
       "    }\n",
       "\n",
       "    .dataframe tbody tr th {\n",
       "        vertical-align: top;\n",
       "    }\n",
       "\n",
       "    .dataframe thead th {\n",
       "        text-align: right;\n",
       "    }\n",
       "</style>\n",
       "<table border=\"1\" class=\"dataframe\">\n",
       "  <thead>\n",
       "    <tr style=\"text-align: right;\">\n",
       "      <th></th>\n",
       "      <th>Evaluation metrics</th>\n",
       "      <th>Logistic Regression</th>\n",
       "      <th>Random Forest</th>\n",
       "      <th>Random Forest with a larger minimum leaf size</th>\n",
       "      <th>Logistic Regression Tuned</th>\n",
       "      <th>Random Forest Classification Tuned</th>\n",
       "    </tr>\n",
       "  </thead>\n",
       "  <tbody>\n",
       "    <tr>\n",
       "      <th>0</th>\n",
       "      <td>Recall</td>\n",
       "      <td>0.727273</td>\n",
       "      <td>0.454545</td>\n",
       "      <td>0.636364</td>\n",
       "      <td>0.727273</td>\n",
       "      <td>0.454545</td>\n",
       "    </tr>\n",
       "    <tr>\n",
       "      <th>1</th>\n",
       "      <td>Precision</td>\n",
       "      <td>1.000000</td>\n",
       "      <td>1.000000</td>\n",
       "      <td>1.000000</td>\n",
       "      <td>0.888889</td>\n",
       "      <td>1.000000</td>\n",
       "    </tr>\n",
       "    <tr>\n",
       "      <th>2</th>\n",
       "      <td>F1 score</td>\n",
       "      <td>0.842105</td>\n",
       "      <td>0.625000</td>\n",
       "      <td>0.777778</td>\n",
       "      <td>0.800000</td>\n",
       "      <td>0.625000</td>\n",
       "    </tr>\n",
       "    <tr>\n",
       "      <th>3</th>\n",
       "      <td>Accuracy</td>\n",
       "      <td>0.911765</td>\n",
       "      <td>0.823529</td>\n",
       "      <td>0.882353</td>\n",
       "      <td>0.882353</td>\n",
       "      <td>0.823529</td>\n",
       "    </tr>\n",
       "  </tbody>\n",
       "</table>\n",
       "</div>"
      ],
      "text/plain": [
       "  Evaluation metrics  Logistic Regression  Random Forest  \\\n",
       "0             Recall             0.727273       0.454545   \n",
       "1          Precision             1.000000       1.000000   \n",
       "2           F1 score             0.842105       0.625000   \n",
       "3           Accuracy             0.911765       0.823529   \n",
       "\n",
       "   Random Forest with a larger minimum leaf size  Logistic Regression Tuned  \\\n",
       "0                                       0.636364                   0.727273   \n",
       "1                                       1.000000                   0.888889   \n",
       "2                                       0.777778                   0.800000   \n",
       "3                                       0.882353                   0.882353   \n",
       "\n",
       "   Random Forest Classification Tuned  \n",
       "0                            0.454545  \n",
       "1                            1.000000  \n",
       "2                            0.625000  \n",
       "3                            0.823529  "
      ]
     },
     "execution_count": 169,
     "metadata": {},
     "output_type": "execute_result"
    }
   ],
   "source": [
    "eval_pddf"
   ]
  },
  {
   "cell_type": "markdown",
   "metadata": {},
   "source": [
    "### 5.6) Check Feature Importance"
   ]
  },
  {
   "cell_type": "code",
   "execution_count": 172,
   "metadata": {},
   "outputs": [],
   "source": [
    "# extract feature importance\n",
    "# source: https://www.silect.is/blog/random-forest-models-in-spark-ml/\n",
    "importances = rf_model.featureImportances"
   ]
  },
  {
   "cell_type": "code",
   "execution_count": 173,
   "metadata": {},
   "outputs": [],
   "source": [
    "feature_list = df.columns\n",
    "feature_importance_pddf = pd.DataFrame(list(zip(feature_list, importances)), columns=['Feature', 'Importance'])"
   ]
  },
  {
   "cell_type": "code",
   "execution_count": 174,
   "metadata": {},
   "outputs": [],
   "source": [
    "feature_importance_pddf = feature_importance_pddf.sort_values(by=[\"Importance\"], ascending=False)"
   ]
  },
  {
   "cell_type": "code",
   "execution_count": 177,
   "metadata": {},
   "outputs": [
    {
     "data": {
      "text/plain": [
       "Text(0.5,1,'Feature importance')"
      ]
     },
     "execution_count": 177,
     "metadata": {},
     "output_type": "execute_result"
    },
    {
     "name": "stderr",
     "output_type": "stream",
     "text": [
      "/opt/conda/lib/python3.6/site-packages/matplotlib/figure.py:1999: UserWarning: This figure includes Axes that are not compatible with tight_layout, so results might be incorrect.\n",
      "  warnings.warn(\"This figure includes Axes that are not compatible \"\n"
     ]
    },
    {
     "data": {
      "image/png": "[encoded data removed]",
      "text/plain": [
       "<matplotlib.figure.Figure at 0x7f8ad9389b00>"
      ]
     },
     "metadata": {
      "needs_background": "light"
     },
     "output_type": "display_data"
    }
   ],
   "source": [
    "x_values = list(range(len(feature_importance_pddf[\"Feature\"])))[:20]\n",
    "feature_list = feature_importance_pddf[\"Feature\"][:20]\n",
    "plt.bar(x_values, feature_importance_pddf[\"Importance\"][:20], orientation=\"vertical\", color=\"tab:green\")\n",
    "plt.xticks(x_values, feature_list, rotation=90)\n",
    "plt.ylabel(\"Importance\")\n",
    "plt.xlabel(\"Feature\")\n",
    "plt.title(\"Feature importance\")"
   ]
  },
  {
   "cell_type": "code",
   "execution_count": 176,
   "metadata": {},
   "outputs": [],
   "source": [
    "# retrieve coefficients of the Logistic Regression model\n",
    "# to check the direction how a feature affect the prediction\n",
    "feature_coefficients = lr_model.coefficients.values.tolist()\n",
    "feature_list2 = df.columns\n",
    "feature_coefficients_pddf = pd.DataFrame(list(zip(feature_list2, feature_coefficients)), columns=['Feature', 'Coefficient'])\n"
   ]
  },
  {
   "cell_type": "code",
   "execution_count": 183,
   "metadata": {},
   "outputs": [
    {
     "data": {
      "text/plain": [
       "Text(0.5,1,'Top positive feature coefficients')"
      ]
     },
     "execution_count": 183,
     "metadata": {},
     "output_type": "execute_result"
    },
    {
     "name": "stderr",
     "output_type": "stream",
     "text": [
      "/opt/conda/lib/python3.6/site-packages/matplotlib/figure.py:1999: UserWarning: This figure includes Axes that are not compatible with tight_layout, so results might be incorrect.\n",
      "  warnings.warn(\"This figure includes Axes that are not compatible \"\n"
     ]
    },
    {
     "data": {
      "image/png": "[encoded data removed]",
      "text/plain": [
       "<matplotlib.figure.Figure at 0x7f8ad82af630>"
      ]
     },
     "metadata": {
      "needs_background": "light"
     },
     "output_type": "display_data"
    }
   ],
   "source": [
    "# plot positive coefficients\n",
    "feature_coefficients_pddf = feature_coefficients_pddf.sort_values(by=[\"Coefficient\"], ascending=False)\n",
    "x_values = list(range(len(feature_coefficients_pddf[\"Feature\"])))[:20]\n",
    "feature_list = feature_coefficients_pddf[\"Feature\"][:20]\n",
    "plt.bar(x_values, feature_coefficients_pddf[\"Coefficient\"][:20], orientation = \"vertical\", color=\"tab:orange\")\n",
    "plt.xticks(x_values, feature_list, rotation=90)\n",
    "plt.ylabel(\"Coefficient\")\n",
    "plt.xlabel(\"Feature\")\n",
    "plt.title(\"Top positive feature coefficients\")"
   ]
  },
  {
   "cell_type": "code",
   "execution_count": 180,
   "metadata": {},
   "outputs": [
    {
     "data": {
      "text/plain": [
       "Text(0.5,1,'Top negative feature coefficients')"
      ]
     },
     "execution_count": 180,
     "metadata": {},
     "output_type": "execute_result"
    },
    {
     "name": "stderr",
     "output_type": "stream",
     "text": [
      "/opt/conda/lib/python3.6/site-packages/matplotlib/figure.py:1999: UserWarning: This figure includes Axes that are not compatible with tight_layout, so results might be incorrect.\n",
      "  warnings.warn(\"This figure includes Axes that are not compatible \"\n"
     ]
    },
    {
     "data": {
      "image/png": "[encoded data removed]",
      "text/plain": [
       "<matplotlib.figure.Figure at 0x7f8ad964e780>"
      ]
     },
     "metadata": {
      "needs_background": "light"
     },
     "output_type": "display_data"
    }
   ],
   "source": [
    "# plot top negative coefficients\n",
    "feature_coefficients_pddf = feature_coefficients_pddf.sort_values(by=[\"Coefficient\"], ascending=True)\n",
    "x_values = list(range(len(feature_coefficients_pddf[\"Feature\"])))[:20]\n",
    "feature_list = feature_coefficients_pddf[\"Feature\"][:20]\n",
    "plt.bar(x_values, feature_coefficients_pddf[\"Coefficient\"][:20], orientation = \"vertical\", color=\"tab:blue\")\n",
    "plt.xticks(x_values, feature_list, rotation=90)\n",
    "plt.ylabel(\"Coefficient\")\n",
    "plt.xlabel(\"Feature\")\n",
    "plt.title(\"Top negative feature coefficients\")"
   ]
  },
  {
   "cell_type": "markdown",
   "metadata": {},
   "source": [
    "##### Comments:\n",
    "Some of the formally most important features do not help better understand customer behavior such as:\n",
    "- `timestamp_registration`\n",
    "- `timestamp_last`.\n",
    "<break><break>\n",
    "\n",
    "While a more detailed analysis - only on a significantly larger sample - could explore patterns in the behavior of earlier vs. later adopters of the platform, in our case, the associated feature importance is probably just a bias due to the extent of available data (certainly, non-churners seem to stay longer in a given timeframe). This could be balanced if the churner and non-churner user base would be matching regarding the date of registration.\n",
    "<break><break>\n",
    "\n",
    "The top important features that seem reasonable are the following:\n",
    "- `visit_frequency` (how often a user uses Sparkify) - Who uses Sparkify rarely is probably more prone to churn.\n",
    "- `event_length_min` and `session_length_max` (what the minimum length of an event is for the user) - While we can assume that users who are listening to music for a very long time are more satisfied with the music streaming experience therefore the maximum length of sessions might be an indicator for their willingness to stay with Sparkify. The minimum length of an event, on the other hand, is less self-evident. E.g. it could mean that the user was dissatisfied that is why she jumped to another screen but it also could mean that the user can easily navigate through the application."
   ]
  },
  {
   "cell_type": "markdown",
   "metadata": {},
   "source": [
    "## -- 6 -- Final Steps\n",
    "Clean up your code, adding comments and renaming variables to make the code easier to read and maintain. Refer to the Spark Project Overview page and Data Scientist Capstone Project Rubric to make sure you are including all components of the capstone project and meet all expectations. Remember, this includes thorough documentation in a README file in a Github repository, as well as a web app or blog post."
   ]
  }
 ],
 "metadata": {
  "kernelspec": {
   "display_name": "Python 3",
   "language": "python",
   "name": "python3"
  },
  "language_info": {
   "codemirror_mode": {
    "name": "ipython",
    "version": 3
   },
   "file_extension": ".py",
   "mimetype": "text/x-python",
   "name": "python",
   "nbconvert_exporter": "python",
   "pygments_lexer": "ipython3",
   "version": "3.6.3"
  }
 },
 "nbformat": 4,
 "nbformat_minor": 2
}
